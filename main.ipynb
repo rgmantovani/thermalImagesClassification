{
  "cells": [
    {
      "cell_type": "code",
      "execution_count": 431,
      "metadata": {
        "colab": {
          "base_uri": "https://localhost:8080/"
        },
        "id": "7URxc_x0gTPY",
        "outputId": "afef112a-6cf8-4bae-cd73-1bb4aae32cd0"
      },
      "outputs": [
        {
          "output_type": "stream",
          "name": "stdout",
          "text": [
            "fatal: destination path 'thermalImagesClassification' already exists and is not an empty directory.\n"
          ]
        }
      ],
      "source": [
        "# Cloning repository with the data for the experiment\n",
        "# data -> thermalImagesClassificatoin/data/ ...\n",
        "\n",
        "!git clone https://github.com/rgmantovani/thermalImagesClassification.git"
      ]
    },
    {
      "cell_type": "code",
      "execution_count": 432,
      "metadata": {
        "id": "4xMGUGtSh1yk"
      },
      "outputs": [],
      "source": [
        "import os\n",
        "import glob\n",
        "import pandas as pd\n",
        "import matplotlib.pyplot as plt\n",
        "import numpy as np\n",
        "import cv2 #opencv in pyhton\n",
        "from google.colab.patches import cv2_imshow\n",
        "from sklearn.model_selection import train_test_split\n",
        "from tensorflow import keras"
      ]
    },
    {
      "cell_type": "code",
      "execution_count": 433,
      "metadata": {
        "id": "F6bokcYQvuk4"
      },
      "outputs": [],
      "source": [
        "# For help: https://github.com/ribeiro-julio/crop-image-classification/blob/main/scripts/04_running_CNN.py\n",
        "\n",
        "from tensorflow.keras import layers, models\n",
        "from tensorflow.keras.losses import BinaryCrossentropy, CategoricalCrossentropy\n",
        "from tensorflow.keras.callbacks import EarlyStopping, CSVLogger, ModelCheckpoint\n",
        "\n",
        "from tensorflow.keras.applications import VGG19, ResNet50\n",
        "\n",
        "from sklearn.metrics import accuracy_score, balanced_accuracy_score, f1_score\n",
        "from sklearn.metrics import confusion_matrix, ConfusionMatrixDisplay"
      ]
    },
    {
      "cell_type": "code",
      "execution_count": 434,
      "metadata": {
        "id": "6cjrRtAP6ni3"
      },
      "outputs": [],
      "source": [
        "# For data augmentation\n",
        "import albumentations as A"
      ]
    },
    {
      "cell_type": "code",
      "execution_count": 435,
      "metadata": {
        "colab": {
          "base_uri": "https://localhost:8080/"
        },
        "id": "_LoENFjTwFNt",
        "outputId": "7a45691d-ecac-433a-9e53-403df05e29f1"
      },
      "outputs": [
        {
          "output_type": "stream",
          "name": "stdout",
          "text": [
            "Seed:  767\n"
          ]
        }
      ],
      "source": [
        "# ----------------------------\n",
        "# ----------------------------\n",
        "\n",
        "# constant for experiment\n",
        "num_classes = 2\n",
        "\n",
        "# TYPE_OF_IMAGE = \"raw\"\n",
        "TYPE_OF_IMAGE = \"rgb\"\n",
        "\n",
        "# MODEL = \"cnn\"\n",
        "# MODEL = \"vgg19\"\n",
        "MODEL = \"lwcnn2\"\n",
        "#MODEL = \"resnet\"\n",
        "\n",
        "DATA_AUGMENTATION = True\n",
        "# DATA_AUGMENTATION = False\n",
        "\n",
        "# ----------------------------\n",
        "# Set the seed using keras.utils.set_random_seed. This will set:\n",
        "# 1) `numpy` seed\n",
        "# 2) `tensorflow` random seed\n",
        "# 3) `python` random seed\n",
        "# ----------------------------\n",
        "\n",
        "SEEDS = [171, 666, 42, 51, 404, 720, 269, 289, 376, 767]\n",
        "SEEDS.sort()\n",
        "current_seed = SEEDS[9]\n",
        "print(\"Seed: \", current_seed)\n",
        "\n",
        "keras.utils.set_random_seed(current_seed)"
      ]
    },
    {
      "cell_type": "code",
      "execution_count": 436,
      "metadata": {
        "id": "SDxykhpvhqZB"
      },
      "outputs": [],
      "source": [
        "# data directory\n",
        "health_dir = \"/content/thermalImagesClassification/data/saudaveis\"\n",
        "osteo_dir  = \"/content/thermalImagesClassification/data/diagnosticos\""
      ]
    },
    {
      "cell_type": "code",
      "execution_count": 437,
      "metadata": {
        "id": "e1D3nEPhhzd0"
      },
      "outputs": [],
      "source": [
        "# loading filepaths\n",
        "csv_files_health = glob.glob(os.path.join(health_dir, \"**\",\"*.csv\"),recursive=True)\n",
        "csv_files_osteo  = glob.glob(os.path.join(osteo_dir, \"**\", \"*.csv\"),recursive=True)"
      ]
    },
    {
      "cell_type": "code",
      "execution_count": 438,
      "metadata": {
        "colab": {
          "base_uri": "https://localhost:8080/"
        },
        "id": "meo2HC1Ch92o",
        "outputId": "02912a35-a1d4-4132-d840-0d9137690626"
      },
      "outputs": [
        {
          "output_type": "stream",
          "name": "stdout",
          "text": [
            "/content/thermalImagesClassification/data/saudaveis/tibia_em_pe/Em_pe_51.csv\n"
          ]
        }
      ],
      "source": [
        "raw_file = csv_files_health[0]\n",
        "print(raw_file)"
      ]
    },
    {
      "cell_type": "code",
      "execution_count": 439,
      "metadata": {
        "id": "rP1BezXF9z_G"
      },
      "outputs": [],
      "source": [
        "# ----------------------------------------------------------------------------\n",
        "# Creating labels\n",
        "# ----------------------------------------------------------------------------\n",
        "Y_healthy = np.zeros(len(csv_files_health))\n",
        "Y_osteo  = np.ones(len(csv_files_osteo))\n",
        "\n",
        "# concatenating values\n",
        "Y = np.concatenate((Y_healthy, Y_osteo))\n",
        "\n",
        "# ----------------------------------------------------------------------------\n",
        "# ----------------------------------------------------------------------------"
      ]
    },
    {
      "cell_type": "code",
      "execution_count": 440,
      "metadata": {
        "id": "ZOyGjiubGnm_"
      },
      "outputs": [],
      "source": [
        "# --------------------------------------------------------------\n",
        "# Splitting files into training and testing folds\n",
        "# --------------------------------------------------------------\n",
        "all_files = csv_files_health + csv_files_osteo\n",
        "\n",
        "x_train_files, x_test_files, y_train, y_test = train_test_split(all_files,\n",
        "    Y, test_size=0.3, random_state=42, stratify=Y)"
      ]
    },
    {
      "cell_type": "code",
      "execution_count": 441,
      "metadata": {
        "colab": {
          "base_uri": "https://localhost:8080/"
        },
        "id": "c1W0tMX_hqZm",
        "outputId": "a09ccc74-bad0-406d-93b6-5f23f3ab4528"
      },
      "outputs": [
        {
          "output_type": "stream",
          "name": "stdout",
          "text": [
            "Tamanho do X_train: 511\n",
            "Tamanho do X_test: 220\n",
            "Tamanho do y_train: (511,)\n",
            "Tamanho do y_test: (220,)\n"
          ]
        }
      ],
      "source": [
        "print(\"Tamanho do X_train:\", len(x_train_files))\n",
        "print(\"Tamanho do X_test:\", len(x_test_files))\n",
        "print(\"Tamanho do y_train:\", y_train.shape)\n",
        "print(\"Tamanho do y_test:\", y_test.shape)"
      ]
    },
    {
      "cell_type": "code",
      "execution_count": 442,
      "metadata": {
        "id": "bfETFxScjll2"
      },
      "outputs": [],
      "source": [
        "# --------------------------------------------------------------\n",
        "# function to plot thermal imagens from raw file\n",
        "# --------------------------------------------------------------\n",
        "\n",
        "def plot_csv_image(csv_file):\n",
        "    data = pd.read_csv(csv_file, header=None)\n",
        "    image_array = data.to_numpy()\n",
        "    plt.imshow(image_array, cmap='inferno', interpolation='nearest')\n",
        "    plt.colorbar()\n",
        "    plt.show()\n"
      ]
    },
    {
      "cell_type": "code",
      "execution_count": 443,
      "metadata": {
        "colab": {
          "base_uri": "https://localhost:8080/",
          "height": 441
        },
        "id": "TrzSBdRnX_ML",
        "outputId": "9f4ac5fd-57b5-4c37-82a7-605fe2b93af9"
      },
      "outputs": [
        {
          "output_type": "display_data",
          "data": {
            "text/plain": [
              "<Figure size 640x480 with 2 Axes>"
            ],
            "image/png": "[encoded data removed]"
          },
          "metadata": {}
        },
        {
          "output_type": "stream",
          "name": "stdout",
          "text": [
            "/content/thermalImagesClassification/data/saudaveis/tibia_em_pe/Em_pe_196.csv\n",
            "0.0\n"
          ]
        }
      ],
      "source": [
        "plot_csv_image(csv_file=x_train_files[0])\n",
        "# plot_csv_image(csv_file=x_test_files[0])\n",
        "print(x_test_files[0])\n",
        "print(y_test[0])"
      ]
    },
    {
      "cell_type": "code",
      "execution_count": 444,
      "metadata": {
        "id": "dCwuHUqejMDk"
      },
      "outputs": [],
      "source": [
        "# --------------------------------------------------------------\n",
        "# function to load thermal images from csv files\n",
        "# --------------------------------------------------------------\n",
        "\n",
        "def load_images_from_csv_files(csv_files):\n",
        "  if not csv_files:\n",
        "    raise Exception(\"No *.csv file was found.\")\n",
        "\n",
        "  raw_images = [pd.read_csv(file).to_numpy() for file in csv_files]\n",
        "  return(raw_images)\n"
      ]
    },
    {
      "cell_type": "code",
      "execution_count": 445,
      "metadata": {
        "colab": {
          "base_uri": "https://localhost:8080/"
        },
        "id": "mr9Z3mAVIG-J",
        "outputId": "4fdd8d7e-3f18-427c-8d46-b2548c60e6eb"
      },
      "outputs": [
        {
          "output_type": "stream",
          "name": "stdout",
          "text": [
            "(239, 320)\n",
            "(239, 320)\n"
          ]
        }
      ],
      "source": [
        "# --------------------------------------------------------------\n",
        "# reading images from files\n",
        "# --------------------------------------------------------------\n",
        "\n",
        "x_train_images = load_images_from_csv_files(csv_files=x_train_files)\n",
        "print(x_train_images[0].shape)\n",
        "\n",
        "x_test_images = load_images_from_csv_files(csv_files=x_test_files)\n",
        "print(x_test_images[0].shape)\n"
      ]
    },
    {
      "cell_type": "code",
      "execution_count": 446,
      "metadata": {
        "colab": {
          "base_uri": "https://localhost:8080/",
          "height": 256
        },
        "id": "EAVWOWI5mDiU",
        "outputId": "ce07c547-08a5-4ce5-fbb5-55a576e678c3"
      },
      "outputs": [
        {
          "output_type": "execute_result",
          "data": {
            "text/plain": [
              "        0         1         2         3         4         5         6    \\\n",
              "0  24.95610  24.95068  24.94526  24.94526  24.94526  24.93983  24.93983   \n",
              "1  24.96152  24.95610  24.95610  24.95610  24.95068  24.95068  24.93983   \n",
              "2  24.95068  24.95610  24.95068  24.94526  24.95068  24.94526  24.93983   \n",
              "3  24.94526  24.94526  24.94526  24.93983  24.93983  24.93983  24.93441   \n",
              "4  24.93441  24.93983  24.93441  24.93441  24.92899  24.92357  24.91814   \n",
              "\n",
              "        7         8         9    ...       310       311       312       313  \\\n",
              "0  24.93983  24.94526  24.94526  ...  24.44527  24.45072  24.45072  24.46162   \n",
              "1  24.93983  24.93983  24.93983  ...  24.43983  24.44527  24.45072  24.44527   \n",
              "2  24.93983  24.93441  24.93441  ...  24.43438  24.43438  24.44527  24.43983   \n",
              "3  24.92899  24.92357  24.92899  ...  24.42893  24.42893  24.43438  24.43438   \n",
              "4  24.91814  24.91272  24.91272  ...  24.41803  24.42348  24.42893  24.42893   \n",
              "\n",
              "        314       315       316       317       318       319  \n",
              "0  24.45617  24.45617  24.46162  24.46162  24.46706  24.46162  \n",
              "1  24.45072  24.45072  24.46162  24.46162  24.46162  24.46162  \n",
              "2  24.44527  24.45072  24.45072  24.46162  24.45617  24.46162  \n",
              "3  24.43983  24.44527  24.44527  24.45072  24.45072  24.45072  \n",
              "4  24.43438  24.43438  24.43983  24.44527  24.45072  24.44527  \n",
              "\n",
              "[5 rows x 320 columns]"
            ],
            "text/html": [
              "\n",
              "  <div id=\"df-43f4276c-9dde-41a9-8958-7ea52517ce2e\" class=\"colab-df-container\">\n",
              "    <div>\n",
              "<style scoped>\n",
              "    .dataframe tbody tr th:only-of-type {\n",
              "        vertical-align: middle;\n",
              "    }\n",
              "\n",
              "    .dataframe tbody tr th {\n",
              "        vertical-align: top;\n",
              "    }\n",
              "\n",
              "    .dataframe thead th {\n",
              "        text-align: right;\n",
              "    }\n",
              "</style>\n",
              "<table border=\"1\" class=\"dataframe\">\n",
              "  <thead>\n",
              "    <tr style=\"text-align: right;\">\n",
              "      <th></th>\n",
              "      <th>0</th>\n",
              "      <th>1</th>\n",
              "      <th>2</th>\n",
              "      <th>3</th>\n",
              "      <th>4</th>\n",
              "      <th>5</th>\n",
              "      <th>6</th>\n",
              "      <th>7</th>\n",
              "      <th>8</th>\n",
              "      <th>9</th>\n",
              "      <th>...</th>\n",
              "      <th>310</th>\n",
              "      <th>311</th>\n",
              "      <th>312</th>\n",
              "      <th>313</th>\n",
              "      <th>314</th>\n",
              "      <th>315</th>\n",
              "      <th>316</th>\n",
              "      <th>317</th>\n",
              "      <th>318</th>\n",
              "      <th>319</th>\n",
              "    </tr>\n",
              "  </thead>\n",
              "  <tbody>\n",
              "    <tr>\n",
              "      <th>0</th>\n",
              "      <td>24.95610</td>\n",
              "      <td>24.95068</td>\n",
              "      <td>24.94526</td>\n",
              "      <td>24.94526</td>\n",
              "      <td>24.94526</td>\n",
              "      <td>24.93983</td>\n",
              "      <td>24.93983</td>\n",
              "      <td>24.93983</td>\n",
              "      <td>24.94526</td>\n",
              "      <td>24.94526</td>\n",
              "      <td>...</td>\n",
              "      <td>24.44527</td>\n",
              "      <td>24.45072</td>\n",
              "      <td>24.45072</td>\n",
              "      <td>24.46162</td>\n",
              "      <td>24.45617</td>\n",
              "      <td>24.45617</td>\n",
              "      <td>24.46162</td>\n",
              "      <td>24.46162</td>\n",
              "      <td>24.46706</td>\n",
              "      <td>24.46162</td>\n",
              "    </tr>\n",
              "    <tr>\n",
              "      <th>1</th>\n",
              "      <td>24.96152</td>\n",
              "      <td>24.95610</td>\n",
              "      <td>24.95610</td>\n",
              "      <td>24.95610</td>\n",
              "      <td>24.95068</td>\n",
              "      <td>24.95068</td>\n",
              "      <td>24.93983</td>\n",
              "      <td>24.93983</td>\n",
              "      <td>24.93983</td>\n",
              "      <td>24.93983</td>\n",
              "      <td>...</td>\n",
              "      <td>24.43983</td>\n",
              "      <td>24.44527</td>\n",
              "      <td>24.45072</td>\n",
              "      <td>24.44527</td>\n",
              "      <td>24.45072</td>\n",
              "      <td>24.45072</td>\n",
              "      <td>24.46162</td>\n",
              "      <td>24.46162</td>\n",
              "      <td>24.46162</td>\n",
              "      <td>24.46162</td>\n",
              "    </tr>\n",
              "    <tr>\n",
              "      <th>2</th>\n",
              "      <td>24.95068</td>\n",
              "      <td>24.95610</td>\n",
              "      <td>24.95068</td>\n",
              "      <td>24.94526</td>\n",
              "      <td>24.95068</td>\n",
              "      <td>24.94526</td>\n",
              "      <td>24.93983</td>\n",
              "      <td>24.93983</td>\n",
              "      <td>24.93441</td>\n",
              "      <td>24.93441</td>\n",
              "      <td>...</td>\n",
              "      <td>24.43438</td>\n",
              "      <td>24.43438</td>\n",
              "      <td>24.44527</td>\n",
              "      <td>24.43983</td>\n",
              "      <td>24.44527</td>\n",
              "      <td>24.45072</td>\n",
              "      <td>24.45072</td>\n",
              "      <td>24.46162</td>\n",
              "      <td>24.45617</td>\n",
              "      <td>24.46162</td>\n",
              "    </tr>\n",
              "    <tr>\n",
              "      <th>3</th>\n",
              "      <td>24.94526</td>\n",
              "      <td>24.94526</td>\n",
              "      <td>24.94526</td>\n",
              "      <td>24.93983</td>\n",
              "      <td>24.93983</td>\n",
              "      <td>24.93983</td>\n",
              "      <td>24.93441</td>\n",
              "      <td>24.92899</td>\n",
              "      <td>24.92357</td>\n",
              "      <td>24.92899</td>\n",
              "      <td>...</td>\n",
              "      <td>24.42893</td>\n",
              "      <td>24.42893</td>\n",
              "      <td>24.43438</td>\n",
              "      <td>24.43438</td>\n",
              "      <td>24.43983</td>\n",
              "      <td>24.44527</td>\n",
              "      <td>24.44527</td>\n",
              "      <td>24.45072</td>\n",
              "      <td>24.45072</td>\n",
              "      <td>24.45072</td>\n",
              "    </tr>\n",
              "    <tr>\n",
              "      <th>4</th>\n",
              "      <td>24.93441</td>\n",
              "      <td>24.93983</td>\n",
              "      <td>24.93441</td>\n",
              "      <td>24.93441</td>\n",
              "      <td>24.92899</td>\n",
              "      <td>24.92357</td>\n",
              "      <td>24.91814</td>\n",
              "      <td>24.91814</td>\n",
              "      <td>24.91272</td>\n",
              "      <td>24.91272</td>\n",
              "      <td>...</td>\n",
              "      <td>24.41803</td>\n",
              "      <td>24.42348</td>\n",
              "      <td>24.42893</td>\n",
              "      <td>24.42893</td>\n",
              "      <td>24.43438</td>\n",
              "      <td>24.43438</td>\n",
              "      <td>24.43983</td>\n",
              "      <td>24.44527</td>\n",
              "      <td>24.45072</td>\n",
              "      <td>24.44527</td>\n",
              "    </tr>\n",
              "  </tbody>\n",
              "</table>\n",
              "<p>5 rows × 320 columns</p>\n",
              "</div>\n",
              "    <div class=\"colab-df-buttons\">\n",
              "\n",
              "  <div class=\"colab-df-container\">\n",
              "    <button class=\"colab-df-convert\" onclick=\"convertToInteractive('df-43f4276c-9dde-41a9-8958-7ea52517ce2e')\"\n",
              "            title=\"Convert this dataframe to an interactive table.\"\n",
              "            style=\"display:none;\">\n",
              "\n",
              "  <svg xmlns=\"http://www.w3.org/2000/svg\" height=\"24px\" viewBox=\"0 -960 960 960\">\n",
              "    <path d=\"M120-120v-720h720v720H120Zm60-500h600v-160H180v160Zm220 220h160v-160H400v160Zm0 220h160v-160H400v160ZM180-400h160v-160H180v160Zm440 0h160v-160H620v160ZM180-180h160v-160H180v160Zm440 0h160v-160H620v160Z\"/>\n",
              "  </svg>\n",
              "    </button>\n",
              "\n",
              "  <style>\n",
              "    .colab-df-container {\n",
              "      display:flex;\n",
              "      gap: 12px;\n",
              "    }\n",
              "\n",
              "    .colab-df-convert {\n",
              "      background-color: #E8F0FE;\n",
              "      border: none;\n",
              "      border-radius: 50%;\n",
              "      cursor: pointer;\n",
              "      display: none;\n",
              "      fill: #1967D2;\n",
              "      height: 32px;\n",
              "      padding: 0 0 0 0;\n",
              "      width: 32px;\n",
              "    }\n",
              "\n",
              "    .colab-df-convert:hover {\n",
              "      background-color: #E2EBFA;\n",
              "      box-shadow: 0px 1px 2px rgba(60, 64, 67, 0.3), 0px 1px 3px 1px rgba(60, 64, 67, 0.15);\n",
              "      fill: #174EA6;\n",
              "    }\n",
              "\n",
              "    .colab-df-buttons div {\n",
              "      margin-bottom: 4px;\n",
              "    }\n",
              "\n",
              "    [theme=dark] .colab-df-convert {\n",
              "      background-color: #3B4455;\n",
              "      fill: #D2E3FC;\n",
              "    }\n",
              "\n",
              "    [theme=dark] .colab-df-convert:hover {\n",
              "      background-color: #434B5C;\n",
              "      box-shadow: 0px 1px 3px 1px rgba(0, 0, 0, 0.15);\n",
              "      filter: drop-shadow(0px 1px 2px rgba(0, 0, 0, 0.3));\n",
              "      fill: #FFFFFF;\n",
              "    }\n",
              "  </style>\n",
              "\n",
              "    <script>\n",
              "      const buttonEl =\n",
              "        document.querySelector('#df-43f4276c-9dde-41a9-8958-7ea52517ce2e button.colab-df-convert');\n",
              "      buttonEl.style.display =\n",
              "        google.colab.kernel.accessAllowed ? 'block' : 'none';\n",
              "\n",
              "      async function convertToInteractive(key) {\n",
              "        const element = document.querySelector('#df-43f4276c-9dde-41a9-8958-7ea52517ce2e');\n",
              "        const dataTable =\n",
              "          await google.colab.kernel.invokeFunction('convertToInteractive',\n",
              "                                                    [key], {});\n",
              "        if (!dataTable) return;\n",
              "\n",
              "        const docLinkHtml = 'Like what you see? Visit the ' +\n",
              "          '<a target=\"_blank\" href=https://colab.research.google.com/notebooks/data_table.ipynb>data table notebook</a>'\n",
              "          + ' to learn more about interactive tables.';\n",
              "        element.innerHTML = '';\n",
              "        dataTable['output_type'] = 'display_data';\n",
              "        await google.colab.output.renderOutput(dataTable, element);\n",
              "        const docLink = document.createElement('div');\n",
              "        docLink.innerHTML = docLinkHtml;\n",
              "        element.appendChild(docLink);\n",
              "      }\n",
              "    </script>\n",
              "  </div>\n",
              "\n",
              "\n",
              "    <div id=\"df-672a0c87-087a-4892-b5f9-1e14f8bf0379\">\n",
              "      <button class=\"colab-df-quickchart\" onclick=\"quickchart('df-672a0c87-087a-4892-b5f9-1e14f8bf0379')\"\n",
              "                title=\"Suggest charts\"\n",
              "                style=\"display:none;\">\n",
              "\n",
              "<svg xmlns=\"http://www.w3.org/2000/svg\" height=\"24px\"viewBox=\"0 0 24 24\"\n",
              "     width=\"24px\">\n",
              "    <g>\n",
              "        <path d=\"M19 3H5c-1.1 0-2 .9-2 2v14c0 1.1.9 2 2 2h14c1.1 0 2-.9 2-2V5c0-1.1-.9-2-2-2zM9 17H7v-7h2v7zm4 0h-2V7h2v10zm4 0h-2v-4h2v4z\"/>\n",
              "    </g>\n",
              "</svg>\n",
              "      </button>\n",
              "\n",
              "<style>\n",
              "  .colab-df-quickchart {\n",
              "      --bg-color: #E8F0FE;\n",
              "      --fill-color: #1967D2;\n",
              "      --hover-bg-color: #E2EBFA;\n",
              "      --hover-fill-color: #174EA6;\n",
              "      --disabled-fill-color: #AAA;\n",
              "      --disabled-bg-color: #DDD;\n",
              "  }\n",
              "\n",
              "  [theme=dark] .colab-df-quickchart {\n",
              "      --bg-color: #3B4455;\n",
              "      --fill-color: #D2E3FC;\n",
              "      --hover-bg-color: #434B5C;\n",
              "      --hover-fill-color: #FFFFFF;\n",
              "      --disabled-bg-color: #3B4455;\n",
              "      --disabled-fill-color: #666;\n",
              "  }\n",
              "\n",
              "  .colab-df-quickchart {\n",
              "    background-color: var(--bg-color);\n",
              "    border: none;\n",
              "    border-radius: 50%;\n",
              "    cursor: pointer;\n",
              "    display: none;\n",
              "    fill: var(--fill-color);\n",
              "    height: 32px;\n",
              "    padding: 0;\n",
              "    width: 32px;\n",
              "  }\n",
              "\n",
              "  .colab-df-quickchart:hover {\n",
              "    background-color: var(--hover-bg-color);\n",
              "    box-shadow: 0 1px 2px rgba(60, 64, 67, 0.3), 0 1px 3px 1px rgba(60, 64, 67, 0.15);\n",
              "    fill: var(--button-hover-fill-color);\n",
              "  }\n",
              "\n",
              "  .colab-df-quickchart-complete:disabled,\n",
              "  .colab-df-quickchart-complete:disabled:hover {\n",
              "    background-color: var(--disabled-bg-color);\n",
              "    fill: var(--disabled-fill-color);\n",
              "    box-shadow: none;\n",
              "  }\n",
              "\n",
              "  .colab-df-spinner {\n",
              "    border: 2px solid var(--fill-color);\n",
              "    border-color: transparent;\n",
              "    border-bottom-color: var(--fill-color);\n",
              "    animation:\n",
              "      spin 1s steps(1) infinite;\n",
              "  }\n",
              "\n",
              "  @keyframes spin {\n",
              "    0% {\n",
              "      border-color: transparent;\n",
              "      border-bottom-color: var(--fill-color);\n",
              "      border-left-color: var(--fill-color);\n",
              "    }\n",
              "    20% {\n",
              "      border-color: transparent;\n",
              "      border-left-color: var(--fill-color);\n",
              "      border-top-color: var(--fill-color);\n",
              "    }\n",
              "    30% {\n",
              "      border-color: transparent;\n",
              "      border-left-color: var(--fill-color);\n",
              "      border-top-color: var(--fill-color);\n",
              "      border-right-color: var(--fill-color);\n",
              "    }\n",
              "    40% {\n",
              "      border-color: transparent;\n",
              "      border-right-color: var(--fill-color);\n",
              "      border-top-color: var(--fill-color);\n",
              "    }\n",
              "    60% {\n",
              "      border-color: transparent;\n",
              "      border-right-color: var(--fill-color);\n",
              "    }\n",
              "    80% {\n",
              "      border-color: transparent;\n",
              "      border-right-color: var(--fill-color);\n",
              "      border-bottom-color: var(--fill-color);\n",
              "    }\n",
              "    90% {\n",
              "      border-color: transparent;\n",
              "      border-bottom-color: var(--fill-color);\n",
              "    }\n",
              "  }\n",
              "</style>\n",
              "\n",
              "      <script>\n",
              "        async function quickchart(key) {\n",
              "          const quickchartButtonEl =\n",
              "            document.querySelector('#' + key + ' button');\n",
              "          quickchartButtonEl.disabled = true;  // To prevent multiple clicks.\n",
              "          quickchartButtonEl.classList.add('colab-df-spinner');\n",
              "          try {\n",
              "            const charts = await google.colab.kernel.invokeFunction(\n",
              "                'suggestCharts', [key], {});\n",
              "          } catch (error) {\n",
              "            console.error('Error during call to suggestCharts:', error);\n",
              "          }\n",
              "          quickchartButtonEl.classList.remove('colab-df-spinner');\n",
              "          quickchartButtonEl.classList.add('colab-df-quickchart-complete');\n",
              "        }\n",
              "        (() => {\n",
              "          let quickchartButtonEl =\n",
              "            document.querySelector('#df-672a0c87-087a-4892-b5f9-1e14f8bf0379 button');\n",
              "          quickchartButtonEl.style.display =\n",
              "            google.colab.kernel.accessAllowed ? 'block' : 'none';\n",
              "        })();\n",
              "      </script>\n",
              "    </div>\n",
              "\n",
              "    </div>\n",
              "  </div>\n"
            ],
            "application/vnd.google.colaboratory.intrinsic+json": {
              "type": "dataframe",
              "variable_name": "df"
            }
          },
          "metadata": {},
          "execution_count": 446
        }
      ],
      "source": [
        "df = pd.DataFrame(x_train_images[0])\n",
        "df.head()"
      ]
    },
    {
      "cell_type": "code",
      "execution_count": 447,
      "metadata": {
        "colab": {
          "base_uri": "https://localhost:8080/"
        },
        "id": "6OisyxNgle9o",
        "outputId": "77cc44d9-8760-48ff-fba1-c7d8ada3bac0"
      },
      "outputs": [
        {
          "output_type": "stream",
          "name": "stdout",
          "text": [
            "Image:  /content/thermalImagesClassification/data/diagnosticos/fraturas_osseas/fratura_de_tibia_fibula_ilizarov/pessoa03/pessoa03_avaliacao02.csv\n",
            "Min value:  24.34586\n",
            "Max value:  34.28085\n",
            "Mean:  28.952221667625526\n"
          ]
        }
      ],
      "source": [
        "# Min and Max temperature values in the raw image\n",
        "selected_id = 50\n",
        "print(\"Image: \", x_train_files[selected_id])\n",
        "print(\"Min value: \", np.min(x_train_images[selected_id]))\n",
        "print(\"Max value: \", np.max(x_train_images[selected_id]))\n",
        "print(\"Mean: \", np.mean(x_train_images[selected_id]))"
      ]
    },
    {
      "cell_type": "code",
      "execution_count": 448,
      "metadata": {
        "id": "S99W_KQVtxvw"
      },
      "outputs": [],
      "source": [
        "# --------------------------------------------------------------\n",
        "# normalize image withing [min, max] range\n",
        "# --------------------------------------------------------------\n",
        "\n",
        "def normalize(image):\n",
        "    max = np.amax(image)\n",
        "    min = np.amin(image)\n",
        "    normalized_image = (image-min)/(max - min)\n",
        "    return (normalized_image)"
      ]
    },
    {
      "cell_type": "code",
      "execution_count": 449,
      "metadata": {
        "id": "tzDRhPE06mlg"
      },
      "outputs": [],
      "source": [
        "# -----------------------------------------------\n",
        "# -----------------------------------------------\n",
        "\n",
        "def thermal_to_rgb_image(image):\n",
        "  norm_img = normalize(image = image)\n",
        "  new_img  = np.round(norm_img * 255)\n",
        "  u8 = new_img.astype(np.uint8)\n",
        "  im_color = cv2.applyColorMap(u8, cv2.COLORMAP_JET)\n",
        "  return(im_color)"
      ]
    },
    {
      "cell_type": "code",
      "execution_count": 450,
      "metadata": {
        "colab": {
          "base_uri": "https://localhost:8080/",
          "height": 256
        },
        "id": "u2jt57-imvGG",
        "outputId": "1d086352-ce2f-457c-a94b-67627e2e28e5"
      },
      "outputs": [
        {
          "output_type": "display_data",
          "data": {
            "text/plain": [
              "<PIL.Image.Image image mode=RGB size=320x239>"
            ],
            "image/png": "[encoded data removed]",
            "image/jpeg": "[encoded data removed]"
          },
          "metadata": {}
        }
      ],
      "source": [
        "# example of RGB healthy image\n",
        "imgc = thermal_to_rgb_image(image = x_train_images[2])\n",
        "cv2_imshow(imgc)"
      ]
    },
    {
      "cell_type": "code",
      "execution_count": 451,
      "metadata": {
        "colab": {
          "base_uri": "https://localhost:8080/"
        },
        "id": "uSKcVpLU7H0C",
        "outputId": "7b0be246-08e8-4667-dc8a-19a136351b3b"
      },
      "outputs": [
        {
          "output_type": "execute_result",
          "data": {
            "text/plain": [
              "(239, 320, 3)"
            ]
          },
          "metadata": {},
          "execution_count": 451
        }
      ],
      "source": [
        "imgc.shape"
      ]
    },
    {
      "cell_type": "code",
      "execution_count": 452,
      "metadata": {
        "colab": {
          "base_uri": "https://localhost:8080/"
        },
        "id": "-VOoOMSUDgui",
        "outputId": "50f71cc2-8a13-4e10-e23b-3ba4a4a2de23"
      },
      "outputs": [
        {
          "output_type": "stream",
          "name": "stdout",
          "text": [
            "* Converting thermal images to RGB\n"
          ]
        }
      ],
      "source": [
        "# converting all healthy thermal raw images to RGB\n",
        "\n",
        "if(TYPE_OF_IMAGE == \"rgb\"):\n",
        "  print(\"* Converting thermal images to RGB\")\n",
        "  new_x_train_images = [thermal_to_rgb_image(x) for x in x_train_images]\n",
        "  new_x_test_images  = [thermal_to_rgb_image(x) for x in x_test_images]\n",
        "  input_shape = (239, 320, 3)\n",
        "else:\n",
        "  print (\"* Using raw images - normalized between [0, 1]\")\n",
        "  new_x_train_images = [normalize(x) for x in x_train_images]\n",
        "  new_x_test_images  = [normalize(x) for x in x_test_images]\n",
        "  input_shape = (239, 320, 1)"
      ]
    },
    {
      "cell_type": "code",
      "execution_count": 453,
      "metadata": {
        "id": "3Aw5Wl8MGGzc"
      },
      "outputs": [],
      "source": [
        "# -------------------------------------------\n",
        "# Creating Training Dataset\n",
        "# -------------------------------------------\n",
        "X_train = np.array(new_x_train_images)\n",
        "X_test  = np.array(new_x_test_images)"
      ]
    },
    {
      "cell_type": "code",
      "execution_count": 454,
      "metadata": {
        "id": "JgAHNCbkPjGP"
      },
      "outputs": [],
      "source": [
        "# convert values to the inverval [0, 1]\n",
        "if(TYPE_OF_IMAGE != \"raw\"):\n",
        "  X_train = X_train.astype(\"float32\") / 255\n",
        "  X_test = X_test.astype(\"float32\") / 255"
      ]
    },
    {
      "cell_type": "code",
      "execution_count": 455,
      "metadata": {
        "colab": {
          "base_uri": "https://localhost:8080/",
          "height": 447
        },
        "id": "CmivgGek1Rxy",
        "outputId": "29eb1f52-5c4d-41d2-8fbd-0ccf38cabbcc"
      },
      "outputs": [
        {
          "output_type": "execute_result",
          "data": {
            "text/plain": [
              "<Axes: ylabel='Frequency'>"
            ]
          },
          "metadata": {},
          "execution_count": 455
        },
        {
          "output_type": "display_data",
          "data": {
            "text/plain": [
              "<Figure size 640x480 with 1 Axes>"
            ],
            "image/png": "[encoded data removed]"
          },
          "metadata": {}
        }
      ],
      "source": [
        "df_y_train = pd.DataFrame(y_train)\n",
        "df_y_train.columns = ['labels']\n",
        "df_y_train.plot.hist()"
      ]
    },
    {
      "cell_type": "code",
      "execution_count": 456,
      "metadata": {
        "colab": {
          "base_uri": "https://localhost:8080/"
        },
        "id": "ne9I8TSsjsFH",
        "outputId": "b4a3091b-5808-420f-f33a-5f9746b2f57e"
      },
      "outputs": [
        {
          "output_type": "stream",
          "name": "stdout",
          "text": [
            "120\n",
            "391\n"
          ]
        }
      ],
      "source": [
        "print(len(y_train[y_train == 1]))\n",
        "print(len(y_train[y_train == 0]))"
      ]
    },
    {
      "cell_type": "code",
      "execution_count": 457,
      "metadata": {
        "id": "xyNQ8whnLbsR"
      },
      "outputs": [],
      "source": [
        "# ------------------------------------------------------------\n",
        "# ------------------------------------------------------------\n",
        "\n",
        "# Data augmentation da classe minoritaria (quais operacoes)\n",
        "# usar data augmentation -> https://albumentations.ai/\n",
        "\n",
        "# ------------------------------------------------------------\n",
        "# ------------------------------------------------------------\n",
        "\n",
        "def apply_aug(image, transform):\n",
        "    augmented = transform(image=image)\n",
        "    return augmented[\"image\"]\n",
        "\n",
        "def dataAugmentation(X_train, y_train):\n",
        "  #link com outras transformações caso queria dar uma olhada: https://explore.albumentations.ai/\n",
        "  augmentations = [\n",
        "      A.HorizontalFlip(p=1.0),\n",
        "      A.VerticalFlip(p=1.0)\n",
        "      # A.AdditiveNoise(p=1.0)\n",
        "  ]\n",
        "\n",
        "  X_min = X_train[y_train == 1]\n",
        "  y_min = y_train[y_train == 1]\n",
        "\n",
        "  augmented_images = []\n",
        "  augmented_labels = []\n",
        "\n",
        "  for img in X_min:\n",
        "      for transform in augmentations:\n",
        "          aug_img = apply_aug(img, transform)\n",
        "          augmented_images.append(aug_img)\n",
        "          augmented_labels.append(1)\n",
        "\n",
        "  X_augmented = np.array(augmented_images)\n",
        "  y_augmented = np.array(augmented_labels)\n",
        "\n",
        "  X_train_balanced = np.concatenate((X_train, X_augmented), axis=0)\n",
        "  y_train_balanced = np.concatenate((y_train, y_augmented), axis=0)\n",
        "\n",
        "  print(f'Depois do augmentation: {X_train_balanced.shape}')\n",
        "  return(X_train_balanced, y_train_balanced)"
      ]
    },
    {
      "cell_type": "code",
      "execution_count": 458,
      "metadata": {
        "colab": {
          "base_uri": "https://localhost:8080/"
        },
        "id": "hRPtnGKmnhUk",
        "outputId": "c0c69083-0154-4b2f-ec1e-dd0c4ec89f3a"
      },
      "outputs": [
        {
          "output_type": "stream",
          "name": "stdout",
          "text": [
            "Antes do augmentation: (511, 239, 320, 3)\n",
            "Depois do augmentation: (751, 239, 320, 3)\n",
            "Depois do augmentation: (751, 239, 320, 3)\n"
          ]
        }
      ],
      "source": [
        "if DATA_AUGMENTATION:\n",
        "\n",
        "  print(f'Antes do augmentation: {X_train.shape}')\n",
        "  X_train, y_train = dataAugmentation(X_train, y_train)\n",
        "  print(f'Depois do augmentation: {X_train.shape}')\n",
        "\n",
        "  # output files\n",
        "  history_file = f\"log_history_{MODEL}_DA_{TYPE_OF_IMAGE}_seed_{current_seed}.csv\"\n",
        "  model_file   = f\"best_model_{MODEL}_DA_{TYPE_OF_IMAGE}_seed_{current_seed}.keras\"\n",
        "  performance_file = f\"performances_{MODEL}_DA_{TYPE_OF_IMAGE}_seed_{current_seed}.csv\"\n",
        "  predictions_file = f\"predictions_{MODEL}_DA_{TYPE_OF_IMAGE}_seed_{current_seed}.csv\"\n",
        "\n",
        "else:\n",
        "  model_file   = f\"best_model_{MODEL}_{TYPE_OF_IMAGE}_seed_{current_seed}.keras\"\n",
        "  history_file = f\"log_history_{MODEL}_{TYPE_OF_IMAGE}_seed_{current_seed}.csv\"\n",
        "  predictions_file = f\"predictions_{MODEL}_{TYPE_OF_IMAGE}_seed_{current_seed}.csv\"\n",
        "  performance_file = f\"performances_{MODEL}_{TYPE_OF_IMAGE}_seed_{current_seed}.csv\""
      ]
    },
    {
      "cell_type": "code",
      "execution_count": 459,
      "metadata": {
        "colab": {
          "base_uri": "https://localhost:8080/",
          "height": 447
        },
        "id": "IlEuqjx9hG-w",
        "outputId": "746e6522-02a3-45b4-da09-47fa16b7a583"
      },
      "outputs": [
        {
          "output_type": "execute_result",
          "data": {
            "text/plain": [
              "<Axes: ylabel='Frequency'>"
            ]
          },
          "metadata": {},
          "execution_count": 459
        },
        {
          "output_type": "display_data",
          "data": {
            "text/plain": [
              "<Figure size 640x480 with 1 Axes>"
            ],
            "image/png": "[encoded data removed]"
          },
          "metadata": {}
        }
      ],
      "source": [
        "df_y_train = pd.DataFrame(y_train)\n",
        "df_y_train.columns = ['labels']\n",
        "df_y_train.plot.hist()"
      ]
    },
    {
      "cell_type": "code",
      "execution_count": 460,
      "metadata": {
        "id": "Ru-4FaHkM5FI"
      },
      "outputs": [],
      "source": [
        "# Classical CNN architecture\n",
        "def get_CNN_model(input_shape):\n",
        "\n",
        "\tCNNmodel = models.Sequential()\n",
        "\tCNNmodel.add(layers.Conv2D(32, (3, 3), activation='relu', input_shape=input_shape))\n",
        "\tCNNmodel.add(layers.MaxPooling2D((2, 2)))\n",
        "\tCNNmodel.add(layers.Dropout(0.25))\n",
        "\tCNNmodel.add(layers.Conv2D(64, (3, 3), activation='relu'))\n",
        "\tCNNmodel.add(layers.MaxPooling2D((2, 2)))\n",
        "\tCNNmodel.add(layers.Dropout(0.25))\n",
        "\tCNNmodel.add(layers.Conv2D(64, (3, 3), activation='relu'))\n",
        "\tCNNmodel.add(layers.Flatten())\n",
        "\tCNNmodel.add(layers.Dense(64, activation='relu'))\n",
        "\tCNNmodel.add(layers.Dropout(0.5))\n",
        "\tCNNmodel.add(layers.Dense(1, activation=\"sigmoid\"))\n",
        "\n",
        "\treturn(CNNmodel)"
      ]
    },
    {
      "cell_type": "code",
      "execution_count": 461,
      "metadata": {
        "id": "bqitn9FzaYKM"
      },
      "outputs": [],
      "source": [
        "def get_VGG19_model_Keras(input_shape) :\n",
        "\n",
        "  VGGmodel = models.Sequential()\n",
        "  baseModel = VGG19(input_shape=input_shape, weights='imagenet',include_top=False)\n",
        "  baseModel.trainable = False\n",
        "  VGGmodel.add(baseModel)\n",
        "  VGGmodel.add(layers.Flatten())\n",
        "  VGGmodel.add(layers.Dense(4096,activation = 'relu'))\n",
        "  VGGmodel.add(layers.Dense(4096,activation = 'relu'))\n",
        "  VGGmodel.add(layers.Dense(1,activation = 'sigmoid'))\n",
        "  return(VGGmodel)"
      ]
    },
    {
      "cell_type": "code",
      "execution_count": 462,
      "metadata": {
        "id": "swAphXPZPQ0Y"
      },
      "outputs": [],
      "source": [
        "# Light weight convolutional neural network and low-dimensional images transformation approach for classification of thermal images\n",
        "# https://www.sciencedirect.com/science/article/pii/S2214157X22009078\n",
        "\n",
        "def get_LW_CNN_model_Taspinar(input_shape):\n",
        "\n",
        "  LWCNN_model = models.Sequential()\n",
        "  LWCNN_model.add(layers.Conv2D(6, (5, 5), input_shape=input_shape))\n",
        "  LWCNN_model.add(layers.LeakyReLU(alpha=0.01))\n",
        "  LWCNN_model.add(layers.MaxPooling2D((2, 2)))\n",
        "\n",
        "  LWCNN_model.add(layers.Conv2D(16, (5, 5)))\n",
        "  LWCNN_model.add(layers.LeakyReLU(alpha=0.01))\n",
        "  LWCNN_model.add(layers.MaxPooling2D((2, 2)))\n",
        "\n",
        "  LWCNN_model.add(layers.Conv2D(64, (3, 3)))\n",
        "  LWCNN_model.add(layers.LeakyReLU(alpha=0.01))\n",
        "  LWCNN_model.add(layers.MaxPooling2D((2, 2)))\n",
        "\n",
        "  LWCNN_model.add(layers.Flatten())\n",
        "  LWCNN_model.add(layers.Dense(128))\n",
        "  LWCNN_model.add(layers.LeakyReLU(alpha=0.01))\n",
        "\n",
        "  LWCNN_model.add(layers.Dropout(0.2))\n",
        "  LWCNN_model.add(layers.Dense(1, activation=\"sigmoid\"))\n",
        "\n",
        "  return(LWCNN_model)"
      ]
    },
    {
      "cell_type": "code",
      "execution_count": 463,
      "metadata": {
        "id": "rC5d6FS0-Mks"
      },
      "outputs": [],
      "source": [
        "def get_ResNet50_model_Keras(input_shape) :\n",
        "\n",
        "  ResNetmodel = models.Sequential()\n",
        "  baseModel = ResNet50(input_shape=input_shape, weights='imagenet',include_top=False)\n",
        "  baseModel.trainable = True\n",
        "  ResNetmodel.add(baseModel)\n",
        "  ResNetmodel.add(layers.GlobalAveragePooling2D())\n",
        "  ResNetmodel.add(layers.Dropout(0.5))\n",
        "  ResNetmodel.add(layers.Dense(128, activation='relu'))\n",
        "  ResNetmodel.add(layers.Dense(2,activation = 'softmax'))\n",
        "\n",
        "  return(ResNetmodel)"
      ]
    },
    {
      "cell_type": "code",
      "source": [
        "# Classical CNN architecture\n",
        "\n",
        "def get_LWCNN_Zeh(input_shape):\n",
        "\tCNNmodel = models.Sequential()\n",
        "\tCNNmodel.add(layers.Conv2D(4, (3, 3), activation='relu', input_shape=input_shape))\n",
        "\tCNNmodel.add(layers.MaxPooling2D((2, 2)))\n",
        "\tCNNmodel.add(layers.Dropout(0.25))\n",
        "\tCNNmodel.add(layers.Conv2D(8, (3, 3), activation='relu'))\n",
        "\tCNNmodel.add(layers.MaxPooling2D((2, 2)))\n",
        "\tCNNmodel.add(layers.Dropout(0.25))\n",
        "\tCNNmodel.add(layers.Conv2D(16, (3, 3), activation='relu'))\n",
        "\tCNNmodel.add(layers.Flatten())\n",
        "\tCNNmodel.add(layers.Dense(64, activation='relu'))\n",
        "\tCNNmodel.add(layers.Dropout(0.5))\n",
        "\tCNNmodel.add(layers.Dense(32, activation='relu'))\n",
        "\tCNNmodel.add(layers.Dropout(0.5))\n",
        "\tCNNmodel.add(layers.Dense(1, activation=\"sigmoid\"))\n",
        "\n",
        "\treturn(CNNmodel)"
      ],
      "metadata": {
        "id": "3-OiNuYrV1qO"
      },
      "execution_count": 464,
      "outputs": []
    },
    {
      "cell_type": "code",
      "execution_count": 465,
      "metadata": {
        "colab": {
          "base_uri": "https://localhost:8080/",
          "height": 600
        },
        "id": "iU3wQqHx10Iq",
        "outputId": "6602dfbe-79bd-4c59-b534-e8487b43d9fe"
      },
      "outputs": [
        {
          "output_type": "stream",
          "name": "stderr",
          "text": [
            "/usr/local/lib/python3.11/dist-packages/keras/src/layers/convolutional/base_conv.py:107: UserWarning: Do not pass an `input_shape`/`input_dim` argument to a layer. When using Sequential models, prefer using an `Input(shape)` object as the first layer in the model instead.\n",
            "  super().__init__(activity_regularizer=activity_regularizer, **kwargs)\n"
          ]
        },
        {
          "output_type": "display_data",
          "data": {
            "text/plain": [
              "\u001b[1mModel: \"sequential_10\"\u001b[0m\n"
            ],
            "text/html": [
              "<pre style=\"white-space:pre;overflow-x:auto;line-height:normal;font-family:Menlo,'DejaVu Sans Mono',consolas,'Courier New',monospace\"><span style=\"font-weight: bold\">Model: \"sequential_10\"</span>\n",
              "</pre>\n"
            ]
          },
          "metadata": {}
        },
        {
          "output_type": "display_data",
          "data": {
            "text/plain": [
              "┏━━━━━━━━━━━━━━━━━━━━━━━━━━━━━━━━━┳━━━━━━━━━━━━━━━━━━━━━━━━┳━━━━━━━━━━━━━━━┓\n",
              "┃\u001b[1m \u001b[0m\u001b[1mLayer (type)                   \u001b[0m\u001b[1m \u001b[0m┃\u001b[1m \u001b[0m\u001b[1mOutput Shape          \u001b[0m\u001b[1m \u001b[0m┃\u001b[1m \u001b[0m\u001b[1m      Param #\u001b[0m\u001b[1m \u001b[0m┃\n",
              "┡━━━━━━━━━━━━━━━━━━━━━━━━━━━━━━━━━╇━━━━━━━━━━━━━━━━━━━━━━━━╇━━━━━━━━━━━━━━━┩\n",
              "│ conv2d_30 (\u001b[38;5;33mConv2D\u001b[0m)              │ (\u001b[38;5;45mNone\u001b[0m, \u001b[38;5;34m237\u001b[0m, \u001b[38;5;34m318\u001b[0m, \u001b[38;5;34m4\u001b[0m)    │           \u001b[38;5;34m112\u001b[0m │\n",
              "├─────────────────────────────────┼────────────────────────┼───────────────┤\n",
              "│ max_pooling2d_20 (\u001b[38;5;33mMaxPooling2D\u001b[0m) │ (\u001b[38;5;45mNone\u001b[0m, \u001b[38;5;34m118\u001b[0m, \u001b[38;5;34m159\u001b[0m, \u001b[38;5;34m4\u001b[0m)    │             \u001b[38;5;34m0\u001b[0m │\n",
              "├─────────────────────────────────┼────────────────────────┼───────────────┤\n",
              "│ dropout_40 (\u001b[38;5;33mDropout\u001b[0m)            │ (\u001b[38;5;45mNone\u001b[0m, \u001b[38;5;34m118\u001b[0m, \u001b[38;5;34m159\u001b[0m, \u001b[38;5;34m4\u001b[0m)    │             \u001b[38;5;34m0\u001b[0m │\n",
              "├─────────────────────────────────┼────────────────────────┼───────────────┤\n",
              "│ conv2d_31 (\u001b[38;5;33mConv2D\u001b[0m)              │ (\u001b[38;5;45mNone\u001b[0m, \u001b[38;5;34m116\u001b[0m, \u001b[38;5;34m157\u001b[0m, \u001b[38;5;34m8\u001b[0m)    │           \u001b[38;5;34m296\u001b[0m │\n",
              "├─────────────────────────────────┼────────────────────────┼───────────────┤\n",
              "│ max_pooling2d_21 (\u001b[38;5;33mMaxPooling2D\u001b[0m) │ (\u001b[38;5;45mNone\u001b[0m, \u001b[38;5;34m58\u001b[0m, \u001b[38;5;34m78\u001b[0m, \u001b[38;5;34m8\u001b[0m)      │             \u001b[38;5;34m0\u001b[0m │\n",
              "├─────────────────────────────────┼────────────────────────┼───────────────┤\n",
              "│ dropout_41 (\u001b[38;5;33mDropout\u001b[0m)            │ (\u001b[38;5;45mNone\u001b[0m, \u001b[38;5;34m58\u001b[0m, \u001b[38;5;34m78\u001b[0m, \u001b[38;5;34m8\u001b[0m)      │             \u001b[38;5;34m0\u001b[0m │\n",
              "├─────────────────────────────────┼────────────────────────┼───────────────┤\n",
              "│ conv2d_32 (\u001b[38;5;33mConv2D\u001b[0m)              │ (\u001b[38;5;45mNone\u001b[0m, \u001b[38;5;34m56\u001b[0m, \u001b[38;5;34m76\u001b[0m, \u001b[38;5;34m16\u001b[0m)     │         \u001b[38;5;34m1,168\u001b[0m │\n",
              "├─────────────────────────────────┼────────────────────────┼───────────────┤\n",
              "│ flatten_10 (\u001b[38;5;33mFlatten\u001b[0m)            │ (\u001b[38;5;45mNone\u001b[0m, \u001b[38;5;34m68096\u001b[0m)          │             \u001b[38;5;34m0\u001b[0m │\n",
              "├─────────────────────────────────┼────────────────────────┼───────────────┤\n",
              "│ dense_30 (\u001b[38;5;33mDense\u001b[0m)                │ (\u001b[38;5;45mNone\u001b[0m, \u001b[38;5;34m64\u001b[0m)             │     \u001b[38;5;34m4,358,208\u001b[0m │\n",
              "├─────────────────────────────────┼────────────────────────┼───────────────┤\n",
              "│ dropout_42 (\u001b[38;5;33mDropout\u001b[0m)            │ (\u001b[38;5;45mNone\u001b[0m, \u001b[38;5;34m64\u001b[0m)             │             \u001b[38;5;34m0\u001b[0m │\n",
              "├─────────────────────────────────┼────────────────────────┼───────────────┤\n",
              "│ dense_31 (\u001b[38;5;33mDense\u001b[0m)                │ (\u001b[38;5;45mNone\u001b[0m, \u001b[38;5;34m32\u001b[0m)             │         \u001b[38;5;34m2,080\u001b[0m │\n",
              "├─────────────────────────────────┼────────────────────────┼───────────────┤\n",
              "│ dropout_43 (\u001b[38;5;33mDropout\u001b[0m)            │ (\u001b[38;5;45mNone\u001b[0m, \u001b[38;5;34m32\u001b[0m)             │             \u001b[38;5;34m0\u001b[0m │\n",
              "├─────────────────────────────────┼────────────────────────┼───────────────┤\n",
              "│ dense_32 (\u001b[38;5;33mDense\u001b[0m)                │ (\u001b[38;5;45mNone\u001b[0m, \u001b[38;5;34m1\u001b[0m)              │            \u001b[38;5;34m33\u001b[0m │\n",
              "└─────────────────────────────────┴────────────────────────┴───────────────┘\n"
            ],
            "text/html": [
              "<pre style=\"white-space:pre;overflow-x:auto;line-height:normal;font-family:Menlo,'DejaVu Sans Mono',consolas,'Courier New',monospace\">┏━━━━━━━━━━━━━━━━━━━━━━━━━━━━━━━━━┳━━━━━━━━━━━━━━━━━━━━━━━━┳━━━━━━━━━━━━━━━┓\n",
              "┃<span style=\"font-weight: bold\"> Layer (type)                    </span>┃<span style=\"font-weight: bold\"> Output Shape           </span>┃<span style=\"font-weight: bold\">       Param # </span>┃\n",
              "┡━━━━━━━━━━━━━━━━━━━━━━━━━━━━━━━━━╇━━━━━━━━━━━━━━━━━━━━━━━━╇━━━━━━━━━━━━━━━┩\n",
              "│ conv2d_30 (<span style=\"color: #0087ff; text-decoration-color: #0087ff\">Conv2D</span>)              │ (<span style=\"color: #00d7ff; text-decoration-color: #00d7ff\">None</span>, <span style=\"color: #00af00; text-decoration-color: #00af00\">237</span>, <span style=\"color: #00af00; text-decoration-color: #00af00\">318</span>, <span style=\"color: #00af00; text-decoration-color: #00af00\">4</span>)    │           <span style=\"color: #00af00; text-decoration-color: #00af00\">112</span> │\n",
              "├─────────────────────────────────┼────────────────────────┼───────────────┤\n",
              "│ max_pooling2d_20 (<span style=\"color: #0087ff; text-decoration-color: #0087ff\">MaxPooling2D</span>) │ (<span style=\"color: #00d7ff; text-decoration-color: #00d7ff\">None</span>, <span style=\"color: #00af00; text-decoration-color: #00af00\">118</span>, <span style=\"color: #00af00; text-decoration-color: #00af00\">159</span>, <span style=\"color: #00af00; text-decoration-color: #00af00\">4</span>)    │             <span style=\"color: #00af00; text-decoration-color: #00af00\">0</span> │\n",
              "├─────────────────────────────────┼────────────────────────┼───────────────┤\n",
              "│ dropout_40 (<span style=\"color: #0087ff; text-decoration-color: #0087ff\">Dropout</span>)            │ (<span style=\"color: #00d7ff; text-decoration-color: #00d7ff\">None</span>, <span style=\"color: #00af00; text-decoration-color: #00af00\">118</span>, <span style=\"color: #00af00; text-decoration-color: #00af00\">159</span>, <span style=\"color: #00af00; text-decoration-color: #00af00\">4</span>)    │             <span style=\"color: #00af00; text-decoration-color: #00af00\">0</span> │\n",
              "├─────────────────────────────────┼────────────────────────┼───────────────┤\n",
              "│ conv2d_31 (<span style=\"color: #0087ff; text-decoration-color: #0087ff\">Conv2D</span>)              │ (<span style=\"color: #00d7ff; text-decoration-color: #00d7ff\">None</span>, <span style=\"color: #00af00; text-decoration-color: #00af00\">116</span>, <span style=\"color: #00af00; text-decoration-color: #00af00\">157</span>, <span style=\"color: #00af00; text-decoration-color: #00af00\">8</span>)    │           <span style=\"color: #00af00; text-decoration-color: #00af00\">296</span> │\n",
              "├─────────────────────────────────┼────────────────────────┼───────────────┤\n",
              "│ max_pooling2d_21 (<span style=\"color: #0087ff; text-decoration-color: #0087ff\">MaxPooling2D</span>) │ (<span style=\"color: #00d7ff; text-decoration-color: #00d7ff\">None</span>, <span style=\"color: #00af00; text-decoration-color: #00af00\">58</span>, <span style=\"color: #00af00; text-decoration-color: #00af00\">78</span>, <span style=\"color: #00af00; text-decoration-color: #00af00\">8</span>)      │             <span style=\"color: #00af00; text-decoration-color: #00af00\">0</span> │\n",
              "├─────────────────────────────────┼────────────────────────┼───────────────┤\n",
              "│ dropout_41 (<span style=\"color: #0087ff; text-decoration-color: #0087ff\">Dropout</span>)            │ (<span style=\"color: #00d7ff; text-decoration-color: #00d7ff\">None</span>, <span style=\"color: #00af00; text-decoration-color: #00af00\">58</span>, <span style=\"color: #00af00; text-decoration-color: #00af00\">78</span>, <span style=\"color: #00af00; text-decoration-color: #00af00\">8</span>)      │             <span style=\"color: #00af00; text-decoration-color: #00af00\">0</span> │\n",
              "├─────────────────────────────────┼────────────────────────┼───────────────┤\n",
              "│ conv2d_32 (<span style=\"color: #0087ff; text-decoration-color: #0087ff\">Conv2D</span>)              │ (<span style=\"color: #00d7ff; text-decoration-color: #00d7ff\">None</span>, <span style=\"color: #00af00; text-decoration-color: #00af00\">56</span>, <span style=\"color: #00af00; text-decoration-color: #00af00\">76</span>, <span style=\"color: #00af00; text-decoration-color: #00af00\">16</span>)     │         <span style=\"color: #00af00; text-decoration-color: #00af00\">1,168</span> │\n",
              "├─────────────────────────────────┼────────────────────────┼───────────────┤\n",
              "│ flatten_10 (<span style=\"color: #0087ff; text-decoration-color: #0087ff\">Flatten</span>)            │ (<span style=\"color: #00d7ff; text-decoration-color: #00d7ff\">None</span>, <span style=\"color: #00af00; text-decoration-color: #00af00\">68096</span>)          │             <span style=\"color: #00af00; text-decoration-color: #00af00\">0</span> │\n",
              "├─────────────────────────────────┼────────────────────────┼───────────────┤\n",
              "│ dense_30 (<span style=\"color: #0087ff; text-decoration-color: #0087ff\">Dense</span>)                │ (<span style=\"color: #00d7ff; text-decoration-color: #00d7ff\">None</span>, <span style=\"color: #00af00; text-decoration-color: #00af00\">64</span>)             │     <span style=\"color: #00af00; text-decoration-color: #00af00\">4,358,208</span> │\n",
              "├─────────────────────────────────┼────────────────────────┼───────────────┤\n",
              "│ dropout_42 (<span style=\"color: #0087ff; text-decoration-color: #0087ff\">Dropout</span>)            │ (<span style=\"color: #00d7ff; text-decoration-color: #00d7ff\">None</span>, <span style=\"color: #00af00; text-decoration-color: #00af00\">64</span>)             │             <span style=\"color: #00af00; text-decoration-color: #00af00\">0</span> │\n",
              "├─────────────────────────────────┼────────────────────────┼───────────────┤\n",
              "│ dense_31 (<span style=\"color: #0087ff; text-decoration-color: #0087ff\">Dense</span>)                │ (<span style=\"color: #00d7ff; text-decoration-color: #00d7ff\">None</span>, <span style=\"color: #00af00; text-decoration-color: #00af00\">32</span>)             │         <span style=\"color: #00af00; text-decoration-color: #00af00\">2,080</span> │\n",
              "├─────────────────────────────────┼────────────────────────┼───────────────┤\n",
              "│ dropout_43 (<span style=\"color: #0087ff; text-decoration-color: #0087ff\">Dropout</span>)            │ (<span style=\"color: #00d7ff; text-decoration-color: #00d7ff\">None</span>, <span style=\"color: #00af00; text-decoration-color: #00af00\">32</span>)             │             <span style=\"color: #00af00; text-decoration-color: #00af00\">0</span> │\n",
              "├─────────────────────────────────┼────────────────────────┼───────────────┤\n",
              "│ dense_32 (<span style=\"color: #0087ff; text-decoration-color: #0087ff\">Dense</span>)                │ (<span style=\"color: #00d7ff; text-decoration-color: #00d7ff\">None</span>, <span style=\"color: #00af00; text-decoration-color: #00af00\">1</span>)              │            <span style=\"color: #00af00; text-decoration-color: #00af00\">33</span> │\n",
              "└─────────────────────────────────┴────────────────────────┴───────────────┘\n",
              "</pre>\n"
            ]
          },
          "metadata": {}
        },
        {
          "output_type": "display_data",
          "data": {
            "text/plain": [
              "\u001b[1m Total params: \u001b[0m\u001b[38;5;34m4,361,897\u001b[0m (16.64 MB)\n"
            ],
            "text/html": [
              "<pre style=\"white-space:pre;overflow-x:auto;line-height:normal;font-family:Menlo,'DejaVu Sans Mono',consolas,'Courier New',monospace\"><span style=\"font-weight: bold\"> Total params: </span><span style=\"color: #00af00; text-decoration-color: #00af00\">4,361,897</span> (16.64 MB)\n",
              "</pre>\n"
            ]
          },
          "metadata": {}
        },
        {
          "output_type": "display_data",
          "data": {
            "text/plain": [
              "\u001b[1m Trainable params: \u001b[0m\u001b[38;5;34m4,361,897\u001b[0m (16.64 MB)\n"
            ],
            "text/html": [
              "<pre style=\"white-space:pre;overflow-x:auto;line-height:normal;font-family:Menlo,'DejaVu Sans Mono',consolas,'Courier New',monospace\"><span style=\"font-weight: bold\"> Trainable params: </span><span style=\"color: #00af00; text-decoration-color: #00af00\">4,361,897</span> (16.64 MB)\n",
              "</pre>\n"
            ]
          },
          "metadata": {}
        },
        {
          "output_type": "display_data",
          "data": {
            "text/plain": [
              "\u001b[1m Non-trainable params: \u001b[0m\u001b[38;5;34m0\u001b[0m (0.00 B)\n"
            ],
            "text/html": [
              "<pre style=\"white-space:pre;overflow-x:auto;line-height:normal;font-family:Menlo,'DejaVu Sans Mono',consolas,'Courier New',monospace\"><span style=\"font-weight: bold\"> Non-trainable params: </span><span style=\"color: #00af00; text-decoration-color: #00af00\">0</span> (0.00 B)\n",
              "</pre>\n"
            ]
          },
          "metadata": {}
        }
      ],
      "source": [
        "# Defining DL model\n",
        "match MODEL:\n",
        "  case \"cnn\":\n",
        "    model = get_CNN_model(input_shape=input_shape)\n",
        "  case \"vgg19\":\n",
        "    model = get_VGG19_model_Keras(input_shape=input_shape)\n",
        "  case \"lwcnn\":\n",
        "    model = get_LW_CNN_model_Taspinar(input_shape=input_shape)\n",
        "  case \"resnet\":\n",
        "    model = get_ResNet50_model_Keras(input_shape=input_shape)\n",
        "  case \"lwcnn2\":\n",
        "    model = get_LWCNN_Zeh(input_shape=input_shape)\n",
        "\n",
        "model.summary()"
      ]
    },
    {
      "cell_type": "code",
      "execution_count": 466,
      "metadata": {
        "id": "-I46hoH7N1xa"
      },
      "outputs": [],
      "source": [
        "if MODEL == \"resnet\":\n",
        "  model.compile(optimizer='adam', loss=CategoricalCrossentropy(),\n",
        "      metrics=['binary_accuracy', 'accuracy', 'precision', 'recall', 'AUC'])\n",
        "  y_train = keras.utils.to_categorical(y_train, 2)\n",
        "  y_test  = keras.utils.to_categorical(y_test, 2)\n",
        "else:\n",
        "  model.compile(optimizer='adam', loss=BinaryCrossentropy(),\n",
        "      metrics=['binary_accuracy', 'accuracy', 'precision', 'recall', 'AUC'])"
      ]
    },
    {
      "cell_type": "code",
      "execution_count": 467,
      "metadata": {
        "id": "nuPlSKaNn6vL"
      },
      "outputs": [],
      "source": [
        " # Callbacks\n",
        "model_checkpoint = ModelCheckpoint(filepath=model_file, monitor='val_loss',\n",
        "                                   save_best_only=True,mode='min', verbose=1)\n",
        "\n",
        "early_stopper = EarlyStopping(monitor=\"val_loss\", mode=\"min\", patience=10,\n",
        "                                verbose=1, restore_best_weights=True)\n",
        "\n",
        "csv_logger    = CSVLogger(filename=history_file, separator=\",\", append=False)"
      ]
    },
    {
      "cell_type": "code",
      "execution_count": 425,
      "metadata": {
        "colab": {
          "base_uri": "https://localhost:8080/"
        },
        "id": "4AeRCPNnSPX5",
        "outputId": "555f2f4c-d08d-444f-8542-f325ff29799a"
      },
      "outputs": [
        {
          "output_type": "stream",
          "name": "stdout",
          "text": [
            " - training lwcnn2\n",
            "\n",
            "Epoch 1/100\n",
            "\u001b[1m33/33\u001b[0m \u001b[32m━━━━━━━━━━━━━━━━━━━━\u001b[0m\u001b[37m\u001b[0m \u001b[1m0s\u001b[0m 130ms/step - AUC: 0.4781 - accuracy: 0.5598 - binary_accuracy: 0.5598 - loss: 0.7925 - precision: 0.2505 - recall: 0.3444\n",
            "Epoch 1: val_loss improved from inf to 1.08272, saving model to best_model_lwcnn2_DA_rgb_seed_767.keras\n",
            "\u001b[1m33/33\u001b[0m \u001b[32m━━━━━━━━━━━━━━━━━━━━\u001b[0m\u001b[37m\u001b[0m \u001b[1m12s\u001b[0m 208ms/step - AUC: 0.4797 - accuracy: 0.5623 - binary_accuracy: 0.5623 - loss: 0.7892 - precision: 0.2513 - recall: 0.3415 - val_AUC: 0.0000e+00 - val_accuracy: 0.0000e+00 - val_binary_accuracy: 0.0000e+00 - val_loss: 1.0827 - val_precision: 0.0000e+00 - val_recall: 0.0000e+00\n",
            "Epoch 2/100\n",
            "\u001b[1m32/33\u001b[0m \u001b[32m━━━━━━━━━━━━━━━━━━━\u001b[0m\u001b[37m━\u001b[0m \u001b[1m0s\u001b[0m 19ms/step - AUC: 0.7336 - accuracy: 0.7637 - binary_accuracy: 0.7637 - loss: 0.5006 - precision: 0.6704 - recall: 0.1758\n",
            "Epoch 2: val_loss improved from 1.08272 to 0.87730, saving model to best_model_lwcnn2_DA_rgb_seed_767.keras\n",
            "\u001b[1m33/33\u001b[0m \u001b[32m━━━━━━━━━━━━━━━━━━━━\u001b[0m\u001b[37m\u001b[0m \u001b[1m2s\u001b[0m 34ms/step - AUC: 0.7344 - accuracy: 0.7635 - binary_accuracy: 0.7635 - loss: 0.5000 - precision: 0.6662 - recall: 0.1760 - val_AUC: 0.0000e+00 - val_accuracy: 0.0044 - val_binary_accuracy: 0.0044 - val_loss: 0.8773 - val_precision: 1.0000 - val_recall: 0.0044\n",
            "Epoch 3/100\n",
            "\u001b[1m30/33\u001b[0m \u001b[32m━━━━━━━━━━━━━━━━━━\u001b[0m\u001b[37m━━\u001b[0m \u001b[1m0s\u001b[0m 17ms/step - AUC: 0.7790 - accuracy: 0.7493 - binary_accuracy: 0.7493 - loss: 0.4674 - precision: 0.5197 - recall: 0.3331\n",
            "Epoch 3: val_loss improved from 0.87730 to 0.84720, saving model to best_model_lwcnn2_DA_rgb_seed_767.keras\n",
            "\u001b[1m33/33\u001b[0m \u001b[32m━━━━━━━━━━━━━━━━━━━━\u001b[0m\u001b[37m\u001b[0m \u001b[1m1s\u001b[0m 35ms/step - AUC: 0.7811 - accuracy: 0.7499 - binary_accuracy: 0.7499 - loss: 0.4654 - precision: 0.5197 - recall: 0.3313 - val_AUC: 0.0000e+00 - val_accuracy: 0.2389 - val_binary_accuracy: 0.2389 - val_loss: 0.8472 - val_precision: 1.0000 - val_recall: 0.2389\n",
            "Epoch 4/100\n",
            "\u001b[1m33/33\u001b[0m \u001b[32m━━━━━━━━━━━━━━━━━━━━\u001b[0m\u001b[37m\u001b[0m \u001b[1m0s\u001b[0m 16ms/step - AUC: 0.8702 - accuracy: 0.7797 - binary_accuracy: 0.7797 - loss: 0.3959 - precision: 0.6264 - recall: 0.3722\n",
            "Epoch 4: val_loss improved from 0.84720 to 0.66367, saving model to best_model_lwcnn2_DA_rgb_seed_767.keras\n",
            "\u001b[1m33/33\u001b[0m \u001b[32m━━━━━━━━━━━━━━━━━━━━\u001b[0m\u001b[37m\u001b[0m \u001b[1m1s\u001b[0m 31ms/step - AUC: 0.8697 - accuracy: 0.7795 - binary_accuracy: 0.7795 - loss: 0.3961 - precision: 0.6256 - recall: 0.3718 - val_AUC: 0.0000e+00 - val_accuracy: 0.6991 - val_binary_accuracy: 0.6991 - val_loss: 0.6637 - val_precision: 1.0000 - val_recall: 0.6991\n",
            "Epoch 5/100\n",
            "\u001b[1m30/33\u001b[0m \u001b[32m━━━━━━━━━━━━━━━━━━\u001b[0m\u001b[37m━━\u001b[0m \u001b[1m0s\u001b[0m 16ms/step - AUC: 0.8868 - accuracy: 0.8131 - binary_accuracy: 0.8131 - loss: 0.3606 - precision: 0.6758 - recall: 0.5040\n",
            "Epoch 5: val_loss did not improve from 0.66367\n",
            "\u001b[1m33/33\u001b[0m \u001b[32m━━━━━━━━━━━━━━━━━━━━\u001b[0m\u001b[37m\u001b[0m \u001b[1m1s\u001b[0m 27ms/step - AUC: 0.8885 - accuracy: 0.8150 - binary_accuracy: 0.8150 - loss: 0.3583 - precision: 0.6831 - recall: 0.5035 - val_AUC: 0.0000e+00 - val_accuracy: 0.6372 - val_binary_accuracy: 0.6372 - val_loss: 0.7134 - val_precision: 1.0000 - val_recall: 0.6372\n",
            "Epoch 6/100\n",
            "\u001b[1m31/33\u001b[0m \u001b[32m━━━━━━━━━━━━━━━━━━\u001b[0m\u001b[37m━━\u001b[0m \u001b[1m0s\u001b[0m 16ms/step - AUC: 0.9261 - accuracy: 0.8516 - binary_accuracy: 0.8516 - loss: 0.3097 - precision: 0.7608 - recall: 0.6292\n",
            "Epoch 6: val_loss improved from 0.66367 to 0.61453, saving model to best_model_lwcnn2_DA_rgb_seed_767.keras\n",
            "\u001b[1m33/33\u001b[0m \u001b[32m━━━━━━━━━━━━━━━━━━━━\u001b[0m\u001b[37m\u001b[0m \u001b[1m2s\u001b[0m 38ms/step - AUC: 0.9263 - accuracy: 0.8511 - binary_accuracy: 0.8511 - loss: 0.3095 - precision: 0.7632 - recall: 0.6210 - val_AUC: 0.0000e+00 - val_accuracy: 0.7655 - val_binary_accuracy: 0.7655 - val_loss: 0.6145 - val_precision: 1.0000 - val_recall: 0.7655\n",
            "Epoch 7/100\n",
            "\u001b[1m32/33\u001b[0m \u001b[32m━━━━━━━━━━━━━━━━━━━\u001b[0m\u001b[37m━\u001b[0m \u001b[1m0s\u001b[0m 19ms/step - AUC: 0.9312 - accuracy: 0.8592 - binary_accuracy: 0.8592 - loss: 0.3034 - precision: 0.7683 - recall: 0.6540\n",
            "Epoch 7: val_loss improved from 0.61453 to 0.59311, saving model to best_model_lwcnn2_DA_rgb_seed_767.keras\n",
            "\u001b[1m33/33\u001b[0m \u001b[32m━━━━━━━━━━━━━━━━━━━━\u001b[0m\u001b[37m\u001b[0m \u001b[1m3s\u001b[0m 38ms/step - AUC: 0.9315 - accuracy: 0.8594 - binary_accuracy: 0.8594 - loss: 0.3027 - precision: 0.7708 - recall: 0.6510 - val_AUC: 0.0000e+00 - val_accuracy: 0.7832 - val_binary_accuracy: 0.7832 - val_loss: 0.5931 - val_precision: 1.0000 - val_recall: 0.7832\n",
            "Epoch 8/100\n",
            "\u001b[1m33/33\u001b[0m \u001b[32m━━━━━━━━━━━━━━━━━━━━\u001b[0m\u001b[37m\u001b[0m \u001b[1m0s\u001b[0m 16ms/step - AUC: 0.9315 - accuracy: 0.8431 - binary_accuracy: 0.8431 - loss: 0.2904 - precision: 0.7285 - recall: 0.6291\n",
            "Epoch 8: val_loss improved from 0.59311 to 0.50159, saving model to best_model_lwcnn2_DA_rgb_seed_767.keras\n",
            "\u001b[1m33/33\u001b[0m \u001b[32m━━━━━━━━━━━━━━━━━━━━\u001b[0m\u001b[37m\u001b[0m \u001b[1m1s\u001b[0m 32ms/step - AUC: 0.9317 - accuracy: 0.8435 - binary_accuracy: 0.8435 - loss: 0.2901 - precision: 0.7300 - recall: 0.6286 - val_AUC: 0.0000e+00 - val_accuracy: 0.9027 - val_binary_accuracy: 0.9027 - val_loss: 0.5016 - val_precision: 1.0000 - val_recall: 0.9027\n",
            "Epoch 9/100\n",
            "\u001b[1m31/33\u001b[0m \u001b[32m━━━━━━━━━━━━━━━━━━\u001b[0m\u001b[37m━━\u001b[0m \u001b[1m0s\u001b[0m 15ms/step - AUC: 0.9623 - accuracy: 0.9038 - binary_accuracy: 0.9038 - loss: 0.2285 - precision: 0.8202 - recall: 0.8008\n",
            "Epoch 9: val_loss did not improve from 0.50159\n",
            "\u001b[1m33/33\u001b[0m \u001b[32m━━━━━━━━━━━━━━━━━━━━\u001b[0m\u001b[37m\u001b[0m \u001b[1m1s\u001b[0m 26ms/step - AUC: 0.9618 - accuracy: 0.9028 - binary_accuracy: 0.9028 - loss: 0.2289 - precision: 0.8210 - recall: 0.7943 - val_AUC: 0.0000e+00 - val_accuracy: 0.8938 - val_binary_accuracy: 0.8938 - val_loss: 0.5102 - val_precision: 1.0000 - val_recall: 0.8938\n",
            "Epoch 10/100\n",
            "\u001b[1m31/33\u001b[0m \u001b[32m━━━━━━━━━━━━━━━━━━\u001b[0m\u001b[37m━━\u001b[0m \u001b[1m0s\u001b[0m 16ms/step - AUC: 0.9640 - accuracy: 0.9138 - binary_accuracy: 0.9138 - loss: 0.2056 - precision: 0.8093 - recall: 0.8690\n",
            "Epoch 10: val_loss did not improve from 0.50159\n",
            "\u001b[1m33/33\u001b[0m \u001b[32m━━━━━━━━━━━━━━━━━━━━\u001b[0m\u001b[37m\u001b[0m \u001b[1m1s\u001b[0m 22ms/step - AUC: 0.9644 - accuracy: 0.9139 - binary_accuracy: 0.9139 - loss: 0.2050 - precision: 0.8109 - recall: 0.8664 - val_AUC: 0.0000e+00 - val_accuracy: 0.7522 - val_binary_accuracy: 0.7522 - val_loss: 0.6599 - val_precision: 1.0000 - val_recall: 0.7522\n",
            "Epoch 11/100\n",
            "\u001b[1m32/33\u001b[0m \u001b[32m━━━━━━━━━━━━━━━━━━━\u001b[0m\u001b[37m━\u001b[0m \u001b[1m0s\u001b[0m 15ms/step - AUC: 0.9763 - accuracy: 0.9162 - binary_accuracy: 0.9162 - loss: 0.1703 - precision: 0.8226 - recall: 0.8603\n",
            "Epoch 11: val_loss improved from 0.50159 to 0.40964, saving model to best_model_lwcnn2_DA_rgb_seed_767.keras\n",
            "\u001b[1m33/33\u001b[0m \u001b[32m━━━━━━━━━━━━━━━━━━━━\u001b[0m\u001b[37m\u001b[0m \u001b[1m1s\u001b[0m 35ms/step - AUC: 0.9764 - accuracy: 0.9167 - binary_accuracy: 0.9167 - loss: 0.1702 - precision: 0.8249 - recall: 0.8588 - val_AUC: 0.0000e+00 - val_accuracy: 0.9027 - val_binary_accuracy: 0.9027 - val_loss: 0.4096 - val_precision: 1.0000 - val_recall: 0.9027\n",
            "Epoch 12/100\n",
            "\u001b[1m33/33\u001b[0m \u001b[32m━━━━━━━━━━━━━━━━━━━━\u001b[0m\u001b[37m\u001b[0m \u001b[1m0s\u001b[0m 15ms/step - AUC: 0.9667 - accuracy: 0.9291 - binary_accuracy: 0.9291 - loss: 0.1893 - precision: 0.8210 - recall: 0.9286\n",
            "Epoch 12: val_loss did not improve from 0.40964\n",
            "\u001b[1m33/33\u001b[0m \u001b[32m━━━━━━━━━━━━━━━━━━━━\u001b[0m\u001b[37m\u001b[0m \u001b[1m1s\u001b[0m 22ms/step - AUC: 0.9670 - accuracy: 0.9293 - binary_accuracy: 0.9293 - loss: 0.1889 - precision: 0.8224 - recall: 0.9272 - val_AUC: 0.0000e+00 - val_accuracy: 0.6814 - val_binary_accuracy: 0.6814 - val_loss: 0.6889 - val_precision: 1.0000 - val_recall: 0.6814\n",
            "Epoch 13/100\n",
            "\u001b[1m33/33\u001b[0m \u001b[32m━━━━━━━━━━━━━━━━━━━━\u001b[0m\u001b[37m\u001b[0m \u001b[1m0s\u001b[0m 15ms/step - AUC: 0.9806 - accuracy: 0.9255 - binary_accuracy: 0.9255 - loss: 0.1632 - precision: 0.8242 - recall: 0.9032\n",
            "Epoch 13: val_loss did not improve from 0.40964\n",
            "\u001b[1m33/33\u001b[0m \u001b[32m━━━━━━━━━━━━━━━━━━━━\u001b[0m\u001b[37m\u001b[0m \u001b[1m1s\u001b[0m 22ms/step - AUC: 0.9807 - accuracy: 0.9257 - binary_accuracy: 0.9257 - loss: 0.1629 - precision: 0.8250 - recall: 0.9028 - val_AUC: 0.0000e+00 - val_accuracy: 0.8186 - val_binary_accuracy: 0.8186 - val_loss: 0.6017 - val_precision: 1.0000 - val_recall: 0.8186\n",
            "Epoch 14/100\n",
            "\u001b[1m33/33\u001b[0m \u001b[32m━━━━━━━━━━━━━━━━━━━━\u001b[0m\u001b[37m\u001b[0m \u001b[1m0s\u001b[0m 16ms/step - AUC: 0.9804 - accuracy: 0.9458 - binary_accuracy: 0.9458 - loss: 0.1595 - precision: 0.8465 - recall: 0.9695\n",
            "Epoch 14: val_loss did not improve from 0.40964\n",
            "\u001b[1m33/33\u001b[0m \u001b[32m━━━━━━━━━━━━━━━━━━━━\u001b[0m\u001b[37m\u001b[0m \u001b[1m1s\u001b[0m 27ms/step - AUC: 0.9803 - accuracy: 0.9457 - binary_accuracy: 0.9457 - loss: 0.1598 - precision: 0.8469 - recall: 0.9682 - val_AUC: 0.0000e+00 - val_accuracy: 0.6814 - val_binary_accuracy: 0.6814 - val_loss: 0.7411 - val_precision: 1.0000 - val_recall: 0.6814\n",
            "Epoch 15/100\n",
            "\u001b[1m32/33\u001b[0m \u001b[32m━━━━━━━━━━━━━━━━━━━\u001b[0m\u001b[37m━\u001b[0m \u001b[1m0s\u001b[0m 16ms/step - AUC: 0.9856 - accuracy: 0.9494 - binary_accuracy: 0.9494 - loss: 0.1458 - precision: 0.8775 - recall: 0.9376\n",
            "Epoch 15: val_loss did not improve from 0.40964\n",
            "\u001b[1m33/33\u001b[0m \u001b[32m━━━━━━━━━━━━━━━━━━━━\u001b[0m\u001b[37m\u001b[0m \u001b[1m1s\u001b[0m 26ms/step - AUC: 0.9851 - accuracy: 0.9490 - binary_accuracy: 0.9490 - loss: 0.1465 - precision: 0.8772 - recall: 0.9360 - val_AUC: 0.0000e+00 - val_accuracy: 0.6504 - val_binary_accuracy: 0.6504 - val_loss: 0.9561 - val_precision: 1.0000 - val_recall: 0.6504\n",
            "Epoch 16/100\n",
            "\u001b[1m30/33\u001b[0m \u001b[32m━━━━━━━━━━━━━━━━━━\u001b[0m\u001b[37m━━\u001b[0m \u001b[1m0s\u001b[0m 16ms/step - AUC: 0.9787 - accuracy: 0.9328 - binary_accuracy: 0.9328 - loss: 0.1580 - precision: 0.8492 - recall: 0.8868\n",
            "Epoch 16: val_loss did not improve from 0.40964\n",
            "\u001b[1m33/33\u001b[0m \u001b[32m━━━━━━━━━━━━━━━━━━━━\u001b[0m\u001b[37m\u001b[0m \u001b[1m1s\u001b[0m 27ms/step - AUC: 0.9793 - accuracy: 0.9341 - binary_accuracy: 0.9341 - loss: 0.1562 - precision: 0.8534 - recall: 0.8874 - val_AUC: 0.0000e+00 - val_accuracy: 0.4867 - val_binary_accuracy: 0.4867 - val_loss: 1.3475 - val_precision: 1.0000 - val_recall: 0.4867\n",
            "Epoch 17/100\n",
            "\u001b[1m33/33\u001b[0m \u001b[32m━━━━━━━━━━━━━━━━━━━━\u001b[0m\u001b[37m\u001b[0m \u001b[1m0s\u001b[0m 16ms/step - AUC: 0.9917 - accuracy: 0.9503 - binary_accuracy: 0.9503 - loss: 0.1104 - precision: 0.9133 - recall: 0.9002\n",
            "Epoch 17: val_loss did not improve from 0.40964\n",
            "\u001b[1m33/33\u001b[0m \u001b[32m━━━━━━━━━━━━━━━━━━━━\u001b[0m\u001b[37m\u001b[0m \u001b[1m1s\u001b[0m 28ms/step - AUC: 0.9915 - accuracy: 0.9501 - binary_accuracy: 0.9501 - loss: 0.1112 - precision: 0.9122 - recall: 0.9001 - val_AUC: 0.0000e+00 - val_accuracy: 0.3982 - val_binary_accuracy: 0.3982 - val_loss: 1.6216 - val_precision: 1.0000 - val_recall: 0.3982\n",
            "Epoch 18/100\n",
            "\u001b[1m31/33\u001b[0m \u001b[32m━━━━━━━━━━━━━━━━━━\u001b[0m\u001b[37m━━\u001b[0m \u001b[1m0s\u001b[0m 19ms/step - AUC: 0.9798 - accuracy: 0.9322 - binary_accuracy: 0.9322 - loss: 0.2000 - precision: 0.8878 - recall: 0.8493\n",
            "Epoch 18: val_loss did not improve from 0.40964\n",
            "\u001b[1m33/33\u001b[0m \u001b[32m━━━━━━━━━━━━━━━━━━━━\u001b[0m\u001b[37m\u001b[0m \u001b[1m1s\u001b[0m 26ms/step - AUC: 0.9802 - accuracy: 0.9332 - binary_accuracy: 0.9332 - loss: 0.1959 - precision: 0.8857 - recall: 0.8555 - val_AUC: 0.0000e+00 - val_accuracy: 0.5796 - val_binary_accuracy: 0.5796 - val_loss: 1.1666 - val_precision: 1.0000 - val_recall: 0.5796\n",
            "Epoch 19/100\n",
            "\u001b[1m32/33\u001b[0m \u001b[32m━━━━━━━━━━━━━━━━━━━\u001b[0m\u001b[37m━\u001b[0m \u001b[1m0s\u001b[0m 15ms/step - AUC: 0.9857 - accuracy: 0.9361 - binary_accuracy: 0.9361 - loss: 0.1432 - precision: 0.8998 - recall: 0.8466\n",
            "Epoch 19: val_loss did not improve from 0.40964\n",
            "\u001b[1m33/33\u001b[0m \u001b[32m━━━━━━━━━━━━━━━━━━━━\u001b[0m\u001b[37m\u001b[0m \u001b[1m1s\u001b[0m 22ms/step - AUC: 0.9857 - accuracy: 0.9371 - binary_accuracy: 0.9371 - loss: 0.1427 - precision: 0.8994 - recall: 0.8512 - val_AUC: 0.0000e+00 - val_accuracy: 0.4956 - val_binary_accuracy: 0.4956 - val_loss: 1.4556 - val_precision: 1.0000 - val_recall: 0.4956\n",
            "Epoch 20/100\n",
            "\u001b[1m33/33\u001b[0m \u001b[32m━━━━━━━━━━━━━━━━━━━━\u001b[0m\u001b[37m\u001b[0m \u001b[1m0s\u001b[0m 15ms/step - AUC: 0.9931 - accuracy: 0.9560 - binary_accuracy: 0.9560 - loss: 0.1175 - precision: 0.9475 - recall: 0.8746\n",
            "Epoch 20: val_loss did not improve from 0.40964\n",
            "\u001b[1m33/33\u001b[0m \u001b[32m━━━━━━━━━━━━━━━━━━━━\u001b[0m\u001b[37m\u001b[0m \u001b[1m1s\u001b[0m 21ms/step - AUC: 0.9931 - accuracy: 0.9560 - binary_accuracy: 0.9560 - loss: 0.1173 - precision: 0.9463 - recall: 0.8761 - val_AUC: 0.0000e+00 - val_accuracy: 0.6372 - val_binary_accuracy: 0.6372 - val_loss: 1.0655 - val_precision: 1.0000 - val_recall: 0.6372\n",
            "Epoch 21/100\n",
            "\u001b[1m32/33\u001b[0m \u001b[32m━━━━━━━━━━━━━━━━━━━\u001b[0m\u001b[37m━\u001b[0m \u001b[1m0s\u001b[0m 16ms/step - AUC: 0.9942 - accuracy: 0.9595 - binary_accuracy: 0.9595 - loss: 0.1019 - precision: 0.9399 - recall: 0.9045\n",
            "Epoch 21: val_loss did not improve from 0.40964\n",
            "\u001b[1m33/33\u001b[0m \u001b[32m━━━━━━━━━━━━━━━━━━━━\u001b[0m\u001b[37m\u001b[0m \u001b[1m1s\u001b[0m 22ms/step - AUC: 0.9942 - accuracy: 0.9599 - binary_accuracy: 0.9599 - loss: 0.1007 - precision: 0.9395 - recall: 0.9061 - val_AUC: 0.0000e+00 - val_accuracy: 0.7257 - val_binary_accuracy: 0.7257 - val_loss: 0.8121 - val_precision: 1.0000 - val_recall: 0.7257\n",
            "Epoch 21: early stopping\n",
            "Restoring model weights from the end of the best epoch: 11.\n"
          ]
        }
      ],
      "source": [
        "# ----------------------------\n",
        "# Traninig the algorithm\n",
        "# ----------------------------\n",
        "\n",
        "print(f\" - training {MODEL}\\n\")\n",
        "\n",
        "history  = model.fit(X_train, y_train, epochs=100, validation_split=0.3, batch_size=16,\n",
        "                         callbacks=[csv_logger, model_checkpoint, early_stopper], shuffle=True)"
      ]
    },
    {
      "cell_type": "code",
      "execution_count": 426,
      "metadata": {
        "id": "tHzSdLrRPMsP",
        "colab": {
          "base_uri": "https://localhost:8080/"
        },
        "outputId": "c0249aae-8e8a-4dce-ea42-18c4798f6843"
      },
      "outputs": [
        {
          "output_type": "stream",
          "name": "stdout",
          "text": [
            " - Evaluating DL model\n",
            "\u001b[1m7/7\u001b[0m \u001b[32m━━━━━━━━━━━━━━━━━━━━\u001b[0m\u001b[37m\u001b[0m \u001b[1m1s\u001b[0m 52ms/step\n"
          ]
        }
      ],
      "source": [
        "# ----------------------------\n",
        "# Evaluating predictions\n",
        "# ----------------------------\n",
        "print(\" - Evaluating DL model\")\n",
        "predictions = model.predict(X_test)\n",
        "\n",
        "if(MODEL == \"resnet\"):\n",
        "  rounded_predictions = np.argmax(predictions, axis=1)\n",
        "  y_test = np.argmax(y_test, axis=1)\n",
        "else:\n",
        "  rounded_predictions = np.round(predictions)\n",
        "\n",
        "# print(rounded_predictions)"
      ]
    },
    {
      "cell_type": "code",
      "execution_count": 427,
      "metadata": {
        "id": "8aihOe8uwv7k",
        "colab": {
          "base_uri": "https://localhost:8080/",
          "height": 466
        },
        "outputId": "b5ad0bae-ae12-4e5d-ba87-c7293df89365"
      },
      "outputs": [
        {
          "output_type": "execute_result",
          "data": {
            "text/plain": [
              "<sklearn.metrics._plot.confusion_matrix.ConfusionMatrixDisplay at 0x7a8494174ed0>"
            ]
          },
          "metadata": {},
          "execution_count": 427
        },
        {
          "output_type": "display_data",
          "data": {
            "text/plain": [
              "<Figure size 640x480 with 2 Axes>"
            ],
            "image/png": "[encoded data removed]"
          },
          "metadata": {}
        }
      ],
      "source": [
        "cm = confusion_matrix(y_test, rounded_predictions)\n",
        "disp = ConfusionMatrixDisplay(confusion_matrix=cm)\n",
        "disp.plot()"
      ]
    },
    {
      "cell_type": "code",
      "execution_count": 428,
      "metadata": {
        "id": "KXJz3hi3PQHA",
        "colab": {
          "base_uri": "https://localhost:8080/",
          "height": 185
        },
        "outputId": "69c0a866-96f5-479d-b0fd-11648a59e6d3"
      },
      "outputs": [
        {
          "output_type": "stream",
          "name": "stdout",
          "text": [
            "----------------------------\n",
            "acc =  0.8909090909090909\n",
            "bac =  0.8742313493444716\n",
            "f1c =  0.7818181818181819\n",
            "----------------------------\n",
            "[0.8909090909090909, np.float64(0.8742313493444716), 0.7818181818181819, 767, 'rgb', 'lwcnn2']\n"
          ]
        },
        {
          "output_type": "execute_result",
          "data": {
            "text/plain": [
              "   accuracy balanced_accuracy    fscore seed type_of_image   model\n",
              "0  0.890909          0.874231  0.781818  767           rgb  lwcnn2"
            ],
            "text/html": [
              "\n",
              "  <div id=\"df-b087761a-234b-4ad1-969a-fbc4a1531df5\" class=\"colab-df-container\">\n",
              "    <div>\n",
              "<style scoped>\n",
              "    .dataframe tbody tr th:only-of-type {\n",
              "        vertical-align: middle;\n",
              "    }\n",
              "\n",
              "    .dataframe tbody tr th {\n",
              "        vertical-align: top;\n",
              "    }\n",
              "\n",
              "    .dataframe thead th {\n",
              "        text-align: right;\n",
              "    }\n",
              "</style>\n",
              "<table border=\"1\" class=\"dataframe\">\n",
              "  <thead>\n",
              "    <tr style=\"text-align: right;\">\n",
              "      <th></th>\n",
              "      <th>accuracy</th>\n",
              "      <th>balanced_accuracy</th>\n",
              "      <th>fscore</th>\n",
              "      <th>seed</th>\n",
              "      <th>type_of_image</th>\n",
              "      <th>model</th>\n",
              "    </tr>\n",
              "  </thead>\n",
              "  <tbody>\n",
              "    <tr>\n",
              "      <th>0</th>\n",
              "      <td>0.890909</td>\n",
              "      <td>0.874231</td>\n",
              "      <td>0.781818</td>\n",
              "      <td>767</td>\n",
              "      <td>rgb</td>\n",
              "      <td>lwcnn2</td>\n",
              "    </tr>\n",
              "  </tbody>\n",
              "</table>\n",
              "</div>\n",
              "    <div class=\"colab-df-buttons\">\n",
              "\n",
              "  <div class=\"colab-df-container\">\n",
              "    <button class=\"colab-df-convert\" onclick=\"convertToInteractive('df-b087761a-234b-4ad1-969a-fbc4a1531df5')\"\n",
              "            title=\"Convert this dataframe to an interactive table.\"\n",
              "            style=\"display:none;\">\n",
              "\n",
              "  <svg xmlns=\"http://www.w3.org/2000/svg\" height=\"24px\" viewBox=\"0 -960 960 960\">\n",
              "    <path d=\"M120-120v-720h720v720H120Zm60-500h600v-160H180v160Zm220 220h160v-160H400v160Zm0 220h160v-160H400v160ZM180-400h160v-160H180v160Zm440 0h160v-160H620v160ZM180-180h160v-160H180v160Zm440 0h160v-160H620v160Z\"/>\n",
              "  </svg>\n",
              "    </button>\n",
              "\n",
              "  <style>\n",
              "    .colab-df-container {\n",
              "      display:flex;\n",
              "      gap: 12px;\n",
              "    }\n",
              "\n",
              "    .colab-df-convert {\n",
              "      background-color: #E8F0FE;\n",
              "      border: none;\n",
              "      border-radius: 50%;\n",
              "      cursor: pointer;\n",
              "      display: none;\n",
              "      fill: #1967D2;\n",
              "      height: 32px;\n",
              "      padding: 0 0 0 0;\n",
              "      width: 32px;\n",
              "    }\n",
              "\n",
              "    .colab-df-convert:hover {\n",
              "      background-color: #E2EBFA;\n",
              "      box-shadow: 0px 1px 2px rgba(60, 64, 67, 0.3), 0px 1px 3px 1px rgba(60, 64, 67, 0.15);\n",
              "      fill: #174EA6;\n",
              "    }\n",
              "\n",
              "    .colab-df-buttons div {\n",
              "      margin-bottom: 4px;\n",
              "    }\n",
              "\n",
              "    [theme=dark] .colab-df-convert {\n",
              "      background-color: #3B4455;\n",
              "      fill: #D2E3FC;\n",
              "    }\n",
              "\n",
              "    [theme=dark] .colab-df-convert:hover {\n",
              "      background-color: #434B5C;\n",
              "      box-shadow: 0px 1px 3px 1px rgba(0, 0, 0, 0.15);\n",
              "      filter: drop-shadow(0px 1px 2px rgba(0, 0, 0, 0.3));\n",
              "      fill: #FFFFFF;\n",
              "    }\n",
              "  </style>\n",
              "\n",
              "    <script>\n",
              "      const buttonEl =\n",
              "        document.querySelector('#df-b087761a-234b-4ad1-969a-fbc4a1531df5 button.colab-df-convert');\n",
              "      buttonEl.style.display =\n",
              "        google.colab.kernel.accessAllowed ? 'block' : 'none';\n",
              "\n",
              "      async function convertToInteractive(key) {\n",
              "        const element = document.querySelector('#df-b087761a-234b-4ad1-969a-fbc4a1531df5');\n",
              "        const dataTable =\n",
              "          await google.colab.kernel.invokeFunction('convertToInteractive',\n",
              "                                                    [key], {});\n",
              "        if (!dataTable) return;\n",
              "\n",
              "        const docLinkHtml = 'Like what you see? Visit the ' +\n",
              "          '<a target=\"_blank\" href=https://colab.research.google.com/notebooks/data_table.ipynb>data table notebook</a>'\n",
              "          + ' to learn more about interactive tables.';\n",
              "        element.innerHTML = '';\n",
              "        dataTable['output_type'] = 'display_data';\n",
              "        await google.colab.output.renderOutput(dataTable, element);\n",
              "        const docLink = document.createElement('div');\n",
              "        docLink.innerHTML = docLinkHtml;\n",
              "        element.appendChild(docLink);\n",
              "      }\n",
              "    </script>\n",
              "  </div>\n",
              "\n",
              "\n",
              "    </div>\n",
              "  </div>\n"
            ],
            "application/vnd.google.colaboratory.intrinsic+json": {
              "type": "dataframe",
              "variable_name": "df_performances",
              "summary": "{\n  \"name\": \"df_performances\",\n  \"rows\": 1,\n  \"fields\": [\n    {\n      \"column\": \"accuracy\",\n      \"properties\": {\n        \"dtype\": \"date\",\n        \"min\": 0.8909090909090909,\n        \"max\": 0.8909090909090909,\n        \"num_unique_values\": 1,\n        \"samples\": [\n          0.8909090909090909\n        ],\n        \"semantic_type\": \"\",\n        \"description\": \"\"\n      }\n    },\n    {\n      \"column\": \"balanced_accuracy\",\n      \"properties\": {\n        \"dtype\": \"date\",\n        \"min\": 0.8742313493444716,\n        \"max\": 0.8742313493444716,\n        \"num_unique_values\": 1,\n        \"samples\": [\n          0.8742313493444716\n        ],\n        \"semantic_type\": \"\",\n        \"description\": \"\"\n      }\n    },\n    {\n      \"column\": \"fscore\",\n      \"properties\": {\n        \"dtype\": \"date\",\n        \"min\": 0.7818181818181819,\n        \"max\": 0.7818181818181819,\n        \"num_unique_values\": 1,\n        \"samples\": [\n          0.7818181818181819\n        ],\n        \"semantic_type\": \"\",\n        \"description\": \"\"\n      }\n    },\n    {\n      \"column\": \"seed\",\n      \"properties\": {\n        \"dtype\": \"date\",\n        \"min\": 767,\n        \"max\": 767,\n        \"num_unique_values\": 1,\n        \"samples\": [\n          767\n        ],\n        \"semantic_type\": \"\",\n        \"description\": \"\"\n      }\n    },\n    {\n      \"column\": \"type_of_image\",\n      \"properties\": {\n        \"dtype\": \"string\",\n        \"num_unique_values\": 1,\n        \"samples\": [\n          \"rgb\"\n        ],\n        \"semantic_type\": \"\",\n        \"description\": \"\"\n      }\n    },\n    {\n      \"column\": \"model\",\n      \"properties\": {\n        \"dtype\": \"string\",\n        \"num_unique_values\": 1,\n        \"samples\": [\n          \"lwcnn2\"\n        ],\n        \"semantic_type\": \"\",\n        \"description\": \"\"\n      }\n    }\n  ]\n}"
            }
          },
          "metadata": {},
          "execution_count": 428
        }
      ],
      "source": [
        "# ----------------------------\n",
        "# evaluating with scikit learn metrics\n",
        "# ----------------------------\n",
        "acc = accuracy_score(y_test, rounded_predictions)\n",
        "bac = balanced_accuracy_score(y_test, rounded_predictions)\n",
        "f1s = f1_score(y_test, rounded_predictions)\n",
        "print(\"----------------------------\")\n",
        "print(\"acc = \", acc)\n",
        "print(\"bac = \", bac)\n",
        "print(\"f1c = \", f1s)\n",
        "print(\"----------------------------\")\n",
        "\n",
        "performances = ([acc, bac, f1s, current_seed, TYPE_OF_IMAGE, MODEL])\n",
        "print(performances)\n",
        "df_performances = pd.DataFrame(performances).transpose()\n",
        "df_performances.columns = ['accuracy', 'balanced_accuracy', 'fscore', 'seed', 'type_of_image', 'model']\n",
        "df_performances.to_csv(performance_file, index = False)\n",
        "df_performances.head()"
      ]
    },
    {
      "cell_type": "code",
      "execution_count": 429,
      "metadata": {
        "id": "L7hp4RV34STs",
        "colab": {
          "base_uri": "https://localhost:8080/",
          "height": 206
        },
        "outputId": "41c8f1ad-f614-40ab-b28b-18cbb24c65dc"
      },
      "outputs": [
        {
          "output_type": "execute_result",
          "data": {
            "text/plain": [
              "                                            filepath  predictions  labels\n",
              "0  /content/thermalImagesClassification/data/saud...          0.0     0.0\n",
              "1  /content/thermalImagesClassification/data/saud...          0.0     0.0\n",
              "2  /content/thermalImagesClassification/data/saud...          0.0     0.0\n",
              "3  /content/thermalImagesClassification/data/saud...          0.0     0.0\n",
              "4  /content/thermalImagesClassification/data/diag...          1.0     1.0"
            ],
            "text/html": [
              "\n",
              "  <div id=\"df-107522d2-20e6-42cb-b7a8-7d721c87f3dc\" class=\"colab-df-container\">\n",
              "    <div>\n",
              "<style scoped>\n",
              "    .dataframe tbody tr th:only-of-type {\n",
              "        vertical-align: middle;\n",
              "    }\n",
              "\n",
              "    .dataframe tbody tr th {\n",
              "        vertical-align: top;\n",
              "    }\n",
              "\n",
              "    .dataframe thead th {\n",
              "        text-align: right;\n",
              "    }\n",
              "</style>\n",
              "<table border=\"1\" class=\"dataframe\">\n",
              "  <thead>\n",
              "    <tr style=\"text-align: right;\">\n",
              "      <th></th>\n",
              "      <th>filepath</th>\n",
              "      <th>predictions</th>\n",
              "      <th>labels</th>\n",
              "    </tr>\n",
              "  </thead>\n",
              "  <tbody>\n",
              "    <tr>\n",
              "      <th>0</th>\n",
              "      <td>/content/thermalImagesClassification/data/saud...</td>\n",
              "      <td>0.0</td>\n",
              "      <td>0.0</td>\n",
              "    </tr>\n",
              "    <tr>\n",
              "      <th>1</th>\n",
              "      <td>/content/thermalImagesClassification/data/saud...</td>\n",
              "      <td>0.0</td>\n",
              "      <td>0.0</td>\n",
              "    </tr>\n",
              "    <tr>\n",
              "      <th>2</th>\n",
              "      <td>/content/thermalImagesClassification/data/saud...</td>\n",
              "      <td>0.0</td>\n",
              "      <td>0.0</td>\n",
              "    </tr>\n",
              "    <tr>\n",
              "      <th>3</th>\n",
              "      <td>/content/thermalImagesClassification/data/saud...</td>\n",
              "      <td>0.0</td>\n",
              "      <td>0.0</td>\n",
              "    </tr>\n",
              "    <tr>\n",
              "      <th>4</th>\n",
              "      <td>/content/thermalImagesClassification/data/diag...</td>\n",
              "      <td>1.0</td>\n",
              "      <td>1.0</td>\n",
              "    </tr>\n",
              "  </tbody>\n",
              "</table>\n",
              "</div>\n",
              "    <div class=\"colab-df-buttons\">\n",
              "\n",
              "  <div class=\"colab-df-container\">\n",
              "    <button class=\"colab-df-convert\" onclick=\"convertToInteractive('df-107522d2-20e6-42cb-b7a8-7d721c87f3dc')\"\n",
              "            title=\"Convert this dataframe to an interactive table.\"\n",
              "            style=\"display:none;\">\n",
              "\n",
              "  <svg xmlns=\"http://www.w3.org/2000/svg\" height=\"24px\" viewBox=\"0 -960 960 960\">\n",
              "    <path d=\"M120-120v-720h720v720H120Zm60-500h600v-160H180v160Zm220 220h160v-160H400v160Zm0 220h160v-160H400v160ZM180-400h160v-160H180v160Zm440 0h160v-160H620v160ZM180-180h160v-160H180v160Zm440 0h160v-160H620v160Z\"/>\n",
              "  </svg>\n",
              "    </button>\n",
              "\n",
              "  <style>\n",
              "    .colab-df-container {\n",
              "      display:flex;\n",
              "      gap: 12px;\n",
              "    }\n",
              "\n",
              "    .colab-df-convert {\n",
              "      background-color: #E8F0FE;\n",
              "      border: none;\n",
              "      border-radius: 50%;\n",
              "      cursor: pointer;\n",
              "      display: none;\n",
              "      fill: #1967D2;\n",
              "      height: 32px;\n",
              "      padding: 0 0 0 0;\n",
              "      width: 32px;\n",
              "    }\n",
              "\n",
              "    .colab-df-convert:hover {\n",
              "      background-color: #E2EBFA;\n",
              "      box-shadow: 0px 1px 2px rgba(60, 64, 67, 0.3), 0px 1px 3px 1px rgba(60, 64, 67, 0.15);\n",
              "      fill: #174EA6;\n",
              "    }\n",
              "\n",
              "    .colab-df-buttons div {\n",
              "      margin-bottom: 4px;\n",
              "    }\n",
              "\n",
              "    [theme=dark] .colab-df-convert {\n",
              "      background-color: #3B4455;\n",
              "      fill: #D2E3FC;\n",
              "    }\n",
              "\n",
              "    [theme=dark] .colab-df-convert:hover {\n",
              "      background-color: #434B5C;\n",
              "      box-shadow: 0px 1px 3px 1px rgba(0, 0, 0, 0.15);\n",
              "      filter: drop-shadow(0px 1px 2px rgba(0, 0, 0, 0.3));\n",
              "      fill: #FFFFFF;\n",
              "    }\n",
              "  </style>\n",
              "\n",
              "    <script>\n",
              "      const buttonEl =\n",
              "        document.querySelector('#df-107522d2-20e6-42cb-b7a8-7d721c87f3dc button.colab-df-convert');\n",
              "      buttonEl.style.display =\n",
              "        google.colab.kernel.accessAllowed ? 'block' : 'none';\n",
              "\n",
              "      async function convertToInteractive(key) {\n",
              "        const element = document.querySelector('#df-107522d2-20e6-42cb-b7a8-7d721c87f3dc');\n",
              "        const dataTable =\n",
              "          await google.colab.kernel.invokeFunction('convertToInteractive',\n",
              "                                                    [key], {});\n",
              "        if (!dataTable) return;\n",
              "\n",
              "        const docLinkHtml = 'Like what you see? Visit the ' +\n",
              "          '<a target=\"_blank\" href=https://colab.research.google.com/notebooks/data_table.ipynb>data table notebook</a>'\n",
              "          + ' to learn more about interactive tables.';\n",
              "        element.innerHTML = '';\n",
              "        dataTable['output_type'] = 'display_data';\n",
              "        await google.colab.output.renderOutput(dataTable, element);\n",
              "        const docLink = document.createElement('div');\n",
              "        docLink.innerHTML = docLinkHtml;\n",
              "        element.appendChild(docLink);\n",
              "      }\n",
              "    </script>\n",
              "  </div>\n",
              "\n",
              "\n",
              "    <div id=\"df-f6d23053-c45c-415f-9942-20d2cc8d1c37\">\n",
              "      <button class=\"colab-df-quickchart\" onclick=\"quickchart('df-f6d23053-c45c-415f-9942-20d2cc8d1c37')\"\n",
              "                title=\"Suggest charts\"\n",
              "                style=\"display:none;\">\n",
              "\n",
              "<svg xmlns=\"http://www.w3.org/2000/svg\" height=\"24px\"viewBox=\"0 0 24 24\"\n",
              "     width=\"24px\">\n",
              "    <g>\n",
              "        <path d=\"M19 3H5c-1.1 0-2 .9-2 2v14c0 1.1.9 2 2 2h14c1.1 0 2-.9 2-2V5c0-1.1-.9-2-2-2zM9 17H7v-7h2v7zm4 0h-2V7h2v10zm4 0h-2v-4h2v4z\"/>\n",
              "    </g>\n",
              "</svg>\n",
              "      </button>\n",
              "\n",
              "<style>\n",
              "  .colab-df-quickchart {\n",
              "      --bg-color: #E8F0FE;\n",
              "      --fill-color: #1967D2;\n",
              "      --hover-bg-color: #E2EBFA;\n",
              "      --hover-fill-color: #174EA6;\n",
              "      --disabled-fill-color: #AAA;\n",
              "      --disabled-bg-color: #DDD;\n",
              "  }\n",
              "\n",
              "  [theme=dark] .colab-df-quickchart {\n",
              "      --bg-color: #3B4455;\n",
              "      --fill-color: #D2E3FC;\n",
              "      --hover-bg-color: #434B5C;\n",
              "      --hover-fill-color: #FFFFFF;\n",
              "      --disabled-bg-color: #3B4455;\n",
              "      --disabled-fill-color: #666;\n",
              "  }\n",
              "\n",
              "  .colab-df-quickchart {\n",
              "    background-color: var(--bg-color);\n",
              "    border: none;\n",
              "    border-radius: 50%;\n",
              "    cursor: pointer;\n",
              "    display: none;\n",
              "    fill: var(--fill-color);\n",
              "    height: 32px;\n",
              "    padding: 0;\n",
              "    width: 32px;\n",
              "  }\n",
              "\n",
              "  .colab-df-quickchart:hover {\n",
              "    background-color: var(--hover-bg-color);\n",
              "    box-shadow: 0 1px 2px rgba(60, 64, 67, 0.3), 0 1px 3px 1px rgba(60, 64, 67, 0.15);\n",
              "    fill: var(--button-hover-fill-color);\n",
              "  }\n",
              "\n",
              "  .colab-df-quickchart-complete:disabled,\n",
              "  .colab-df-quickchart-complete:disabled:hover {\n",
              "    background-color: var(--disabled-bg-color);\n",
              "    fill: var(--disabled-fill-color);\n",
              "    box-shadow: none;\n",
              "  }\n",
              "\n",
              "  .colab-df-spinner {\n",
              "    border: 2px solid var(--fill-color);\n",
              "    border-color: transparent;\n",
              "    border-bottom-color: var(--fill-color);\n",
              "    animation:\n",
              "      spin 1s steps(1) infinite;\n",
              "  }\n",
              "\n",
              "  @keyframes spin {\n",
              "    0% {\n",
              "      border-color: transparent;\n",
              "      border-bottom-color: var(--fill-color);\n",
              "      border-left-color: var(--fill-color);\n",
              "    }\n",
              "    20% {\n",
              "      border-color: transparent;\n",
              "      border-left-color: var(--fill-color);\n",
              "      border-top-color: var(--fill-color);\n",
              "    }\n",
              "    30% {\n",
              "      border-color: transparent;\n",
              "      border-left-color: var(--fill-color);\n",
              "      border-top-color: var(--fill-color);\n",
              "      border-right-color: var(--fill-color);\n",
              "    }\n",
              "    40% {\n",
              "      border-color: transparent;\n",
              "      border-right-color: var(--fill-color);\n",
              "      border-top-color: var(--fill-color);\n",
              "    }\n",
              "    60% {\n",
              "      border-color: transparent;\n",
              "      border-right-color: var(--fill-color);\n",
              "    }\n",
              "    80% {\n",
              "      border-color: transparent;\n",
              "      border-right-color: var(--fill-color);\n",
              "      border-bottom-color: var(--fill-color);\n",
              "    }\n",
              "    90% {\n",
              "      border-color: transparent;\n",
              "      border-bottom-color: var(--fill-color);\n",
              "    }\n",
              "  }\n",
              "</style>\n",
              "\n",
              "      <script>\n",
              "        async function quickchart(key) {\n",
              "          const quickchartButtonEl =\n",
              "            document.querySelector('#' + key + ' button');\n",
              "          quickchartButtonEl.disabled = true;  // To prevent multiple clicks.\n",
              "          quickchartButtonEl.classList.add('colab-df-spinner');\n",
              "          try {\n",
              "            const charts = await google.colab.kernel.invokeFunction(\n",
              "                'suggestCharts', [key], {});\n",
              "          } catch (error) {\n",
              "            console.error('Error during call to suggestCharts:', error);\n",
              "          }\n",
              "          quickchartButtonEl.classList.remove('colab-df-spinner');\n",
              "          quickchartButtonEl.classList.add('colab-df-quickchart-complete');\n",
              "        }\n",
              "        (() => {\n",
              "          let quickchartButtonEl =\n",
              "            document.querySelector('#df-f6d23053-c45c-415f-9942-20d2cc8d1c37 button');\n",
              "          quickchartButtonEl.style.display =\n",
              "            google.colab.kernel.accessAllowed ? 'block' : 'none';\n",
              "        })();\n",
              "      </script>\n",
              "    </div>\n",
              "\n",
              "    </div>\n",
              "  </div>\n"
            ],
            "application/vnd.google.colaboratory.intrinsic+json": {
              "type": "dataframe",
              "summary": "{\n  \"name\": \"# -----------------------------------------------------------\",\n  \"rows\": 5,\n  \"fields\": [\n    {\n      \"column\": \"filepath\",\n      \"properties\": {\n        \"dtype\": \"string\",\n        \"num_unique_values\": 5,\n        \"samples\": [\n          \"/content/thermalImagesClassification/data/saudaveis/tibia_em_pe/Em_pe_175.csv\",\n          \"/content/thermalImagesClassification/data/diagnosticos/pseudoartrose/pseudoartrose_de_tibia/pessoa19/pessoa19_avaliacao01.csv\",\n          \"/content/thermalImagesClassification/data/saudaveis/tibia_deitado/Deitado_255.csv\"\n        ],\n        \"semantic_type\": \"\",\n        \"description\": \"\"\n      }\n    },\n    {\n      \"column\": \"predictions\",\n      \"properties\": {\n        \"dtype\": \"float32\",\n        \"num_unique_values\": 2,\n        \"samples\": [\n          1.0,\n          0.0\n        ],\n        \"semantic_type\": \"\",\n        \"description\": \"\"\n      }\n    },\n    {\n      \"column\": \"labels\",\n      \"properties\": {\n        \"dtype\": \"number\",\n        \"std\": 0.447213595499958,\n        \"min\": 0.0,\n        \"max\": 1.0,\n        \"num_unique_values\": 2,\n        \"samples\": [\n          1.0,\n          0.0\n        ],\n        \"semantic_type\": \"\",\n        \"description\": \"\"\n      }\n    }\n  ]\n}"
            }
          },
          "metadata": {},
          "execution_count": 429
        }
      ],
      "source": [
        "# -----------------------------------------------------------\n",
        "# adding predictions to a data frame\n",
        "# -----------------------------------------------------------\n",
        "\n",
        "df_x_test_files = pd.DataFrame(x_test_files)\n",
        "df_pred  = pd.DataFrame(rounded_predictions)\n",
        "df_label = pd.DataFrame(y_test)\n",
        "df_merged = pd.concat([df_x_test_files, df_pred, df_label], axis = 1)\n",
        "df_merged.columns = ['filepath', 'predictions', 'labels']\n",
        "df_merged.to_csv(predictions_file, index = False)\n",
        "df_merged.head()\n",
        "\n",
        "# -----------------------------------------------------------\n",
        "# -----------------------------------------------------------"
      ]
    },
    {
      "cell_type": "code",
      "execution_count": 430,
      "metadata": {
        "id": "hfLrwQXHObmn",
        "colab": {
          "base_uri": "https://localhost:8080/"
        },
        "outputId": "dd5a066f-1cf1-4b97-bd4b-a0e00db27666"
      },
      "outputs": [
        {
          "output_type": "stream",
          "name": "stdout",
          "text": [
            "Finished !!! :) \n"
          ]
        }
      ],
      "source": [
        "print(\"Finished !!! :) \")"
      ]
    }
  ],
  "metadata": {
    "accelerator": "GPU",
    "colab": {
      "gpuType": "T4",
      "provenance": []
    },
    "kernelspec": {
      "display_name": "Python 3",
      "name": "python3"
    },
    "language_info": {
      "name": "python"
    }
  },
  "nbformat": 4,
  "nbformat_minor": 0
}