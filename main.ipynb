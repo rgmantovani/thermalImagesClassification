{
  "nbformat": 4,
  "nbformat_minor": 0,
  "metadata": {
    "colab": {
      "provenance": [],
      "gpuType": "T4"
    },
    "kernelspec": {
      "name": "python3",
      "display_name": "Python 3"
    },
    "language_info": {
      "name": "python"
    },
    "accelerator": "GPU"
  },
  "cells": [
    {
      "cell_type": "code",
      "source": [
        "# Cloning repository with the data for the experiment\n",
        "# data -> thermalImagesClassificatoin/data/ ...\n",
        "\n",
        "!git clone https://github.com/rgmantovani/thermalImagesClassification.git"
      ],
      "metadata": {
        "colab": {
          "base_uri": "https://localhost:8080/"
        },
        "id": "7URxc_x0gTPY",
        "outputId": "f27d6a35-c538-4bf7-ba19-3494fa526229"
      },
      "execution_count": 488,
      "outputs": [
        {
          "output_type": "stream",
          "name": "stdout",
          "text": [
            "fatal: destination path 'thermalImagesClassification' already exists and is not an empty directory.\n"
          ]
        }
      ]
    },
    {
      "cell_type": "code",
      "source": [
        "import os\n",
        "import glob\n",
        "import pandas as pd\n",
        "import matplotlib.pyplot as plt\n",
        "import numpy as np\n",
        "import cv2 #opencv in pyhton\n",
        "from google.colab.patches import cv2_imshow\n",
        "from sklearn.model_selection import train_test_split\n",
        "from tensorflow import keras"
      ],
      "metadata": {
        "id": "4xMGUGtSh1yk"
      },
      "execution_count": 489,
      "outputs": []
    },
    {
      "cell_type": "code",
      "source": [
        "# For help: https://github.com/ribeiro-julio/crop-image-classification/blob/main/scripts/04_running_CNN.py\n",
        "\n",
        "from tensorflow.keras import layers, models\n",
        "from tensorflow.keras.losses import BinaryCrossentropy\n",
        "from tensorflow.keras.callbacks import EarlyStopping, CSVLogger\n",
        "\n",
        "from tensorflow.keras.applications import VGG19\n",
        "\n",
        "from sklearn.metrics import accuracy_score, balanced_accuracy_score, f1_score\n",
        "from sklearn.metrics import confusion_matrix, ConfusionMatrixDisplay"
      ],
      "metadata": {
        "id": "F6bokcYQvuk4"
      },
      "execution_count": 490,
      "outputs": []
    },
    {
      "cell_type": "code",
      "source": [
        "# ----------------------------\n",
        "# ----------------------------\n",
        "\n",
        "# constant for experiment\n",
        "num_classes = 2\n",
        "\n",
        "TYPE_OF_IMAGE = \"raw\"\n",
        "# TYPE_OF_IMAGE = \"rgb\"\n",
        "# TYPE_OF_IMAGE = \"gray\"\n",
        "\n",
        "# MODEL = \"cnn\"\n",
        "# MODEL = \"vgg19\"\n",
        "MODEL = \"lwcnn\"\n",
        "\n",
        "# ----------------------------\n",
        "# Set the seed using keras.utils.set_random_seed. This will set:\n",
        "# 1) `numpy` seed\n",
        "# 2) `tensorflow` random seed\n",
        "# 3) `python` random seed\n",
        "# ----------------------------\n",
        "\n",
        "SEEDS = [51, 171, 666, 404, 42]\n",
        "current_seed = SEEDS[4]\n",
        "print(\"Seed: \", current_seed)\n",
        "\n",
        "keras.utils.set_random_seed(current_seed)"
      ],
      "metadata": {
        "id": "_LoENFjTwFNt",
        "colab": {
          "base_uri": "https://localhost:8080/"
        },
        "outputId": "a97f29a2-1fa2-48a3-ca19-5e56dfb73723"
      },
      "execution_count": 491,
      "outputs": [
        {
          "output_type": "stream",
          "name": "stdout",
          "text": [
            "Seed:  42\n"
          ]
        }
      ]
    },
    {
      "cell_type": "code",
      "source": [
        "# data directory\n",
        "health_dir = \"/content/thermalImagesClassification/data/saudaveis\"\n",
        "osteo_dir  = \"/content/thermalImagesClassification/data/diagnosticos\""
      ],
      "metadata": {
        "id": "SDxykhpvhqZB"
      },
      "execution_count": 492,
      "outputs": []
    },
    {
      "cell_type": "code",
      "source": [
        "# loading filepaths\n",
        "csv_files_health = glob.glob(os.path.join(health_dir, \"**\",\"*.csv\"),recursive=True)\n",
        "csv_files_osteo  = glob.glob(os.path.join(osteo_dir, \"**\", \"*.csv\"),recursive=True)"
      ],
      "metadata": {
        "id": "e1D3nEPhhzd0"
      },
      "execution_count": 493,
      "outputs": []
    },
    {
      "cell_type": "code",
      "source": [
        "raw_file = csv_files_health[0]\n",
        "print(raw_file)"
      ],
      "metadata": {
        "colab": {
          "base_uri": "https://localhost:8080/"
        },
        "id": "meo2HC1Ch92o",
        "outputId": "9683c8aa-d66d-48e0-92b1-fd7f2f1c0c82"
      },
      "execution_count": 494,
      "outputs": [
        {
          "output_type": "stream",
          "name": "stdout",
          "text": [
            "/content/thermalImagesClassification/data/saudaveis/tibia_em_pe/Em_pe_118.csv\n"
          ]
        }
      ]
    },
    {
      "cell_type": "code",
      "source": [
        "# ----------------------------------------------------------------------------\n",
        "# Creating labels\n",
        "# ----------------------------------------------------------------------------\n",
        "Y_healthy = np.zeros(len(csv_files_health))\n",
        "Y_osteo  = np.ones(len(csv_files_osteo))\n",
        "\n",
        "# concatenating values\n",
        "Y = np.concatenate((Y_healthy, Y_osteo))\n",
        "# print(Y)\n",
        "\n",
        "# ----------------------------------------------------------------------------\n",
        "# ----------------------------------------------------------------------------"
      ],
      "metadata": {
        "id": "rP1BezXF9z_G"
      },
      "execution_count": 495,
      "outputs": []
    },
    {
      "cell_type": "code",
      "source": [
        "# --------------------------------------------------------------\n",
        "# Splitting files into training and testing folds\n",
        "# --------------------------------------------------------------\n",
        "all_files = csv_files_health + csv_files_osteo\n",
        "\n",
        "x_train_files, x_test_files, y_train, y_test = train_test_split(all_files,\n",
        "    Y, test_size=0.3, random_state=42, stratify=Y)"
      ],
      "metadata": {
        "id": "ZOyGjiubGnm_"
      },
      "execution_count": 496,
      "outputs": []
    },
    {
      "cell_type": "code",
      "source": [
        "print(\"Tamanho do X_train:\", len(x_train_files))\n",
        "print(\"Tamanho do X_test:\", len(x_test_files))\n",
        "print(\"Tamanho do y_train:\", y_train.shape)\n",
        "print(\"Tamanho do y_test:\", y_test.shape)"
      ],
      "metadata": {
        "colab": {
          "base_uri": "https://localhost:8080/"
        },
        "id": "c1W0tMX_hqZm",
        "outputId": "5c77cb58-e6e2-4b14-873d-6a40b2d251eb"
      },
      "execution_count": 497,
      "outputs": [
        {
          "output_type": "stream",
          "name": "stdout",
          "text": [
            "Tamanho do X_train: 511\n",
            "Tamanho do X_test: 220\n",
            "Tamanho do y_train: (511,)\n",
            "Tamanho do y_test: (220,)\n"
          ]
        }
      ]
    },
    {
      "cell_type": "code",
      "source": [
        "# --------------------------------------------------------------\n",
        "# function to plot thermal imagens from raw file\n",
        "# --------------------------------------------------------------\n",
        "\n",
        "def plot_csv_image(csv_file):\n",
        "    data = pd.read_csv(csv_file, header=None)\n",
        "    image_array = data.to_numpy()\n",
        "    plt.imshow(image_array, cmap='inferno', interpolation='nearest')\n",
        "    plt.colorbar()\n",
        "    plt.show()\n",
        "\n",
        "# --------------------------------------------------------------\n",
        "# --------------------------------------------------------------"
      ],
      "metadata": {
        "id": "bfETFxScjll2"
      },
      "execution_count": 498,
      "outputs": []
    },
    {
      "cell_type": "code",
      "source": [
        "plot_csv_image(csv_file=x_train_files[0])\n",
        "# plot_csv_image(csv_file=x_test_files[0])\n",
        "print(x_test_files[0])\n",
        "print(y_test[0])"
      ],
      "metadata": {
        "id": "TrzSBdRnX_ML",
        "colab": {
          "base_uri": "https://localhost:8080/",
          "height": 441
        },
        "outputId": "90d719ae-7599-4590-a979-2599769132fa"
      },
      "execution_count": 499,
      "outputs": [
        {
          "output_type": "display_data",
          "data": {
            "text/plain": [
              "<Figure size 640x480 with 2 Axes>"
            ],
            "image/png": "[encoded data removed]"
          },
          "metadata": {}
        },
        {
          "output_type": "stream",
          "name": "stdout",
          "text": [
            "/content/thermalImagesClassification/data/saudaveis/tibia_em_pe/Em_pe_01.csv\n",
            "0.0\n"
          ]
        }
      ]
    },
    {
      "cell_type": "code",
      "source": [
        "# --------------------------------------------------------------\n",
        "# function to load thermal images from csv files\n",
        "# --------------------------------------------------------------\n",
        "\n",
        "def load_images_from_csv_files(csv_files):\n",
        "  if not csv_files:\n",
        "    raise Exception(\"No *.csv file was found.\")\n",
        "\n",
        "  raw_images = [pd.read_csv(file).to_numpy() for file in csv_files]\n",
        "  return(raw_images)\n",
        "\n",
        "# --------------------------------------------------------------\n",
        "# --------------------------------------------------------------"
      ],
      "metadata": {
        "id": "dCwuHUqejMDk"
      },
      "execution_count": 500,
      "outputs": []
    },
    {
      "cell_type": "code",
      "source": [
        "# --------------------------------------------------------------\n",
        "# reading images from files\n",
        "# --------------------------------------------------------------\n",
        "\n",
        "x_train_images = load_images_from_csv_files(csv_files=x_train_files)\n",
        "print(x_train_images[0].shape)\n",
        "\n",
        "x_test_images = load_images_from_csv_files(csv_files=x_test_files)\n",
        "print(x_test_images[0].shape)\n"
      ],
      "metadata": {
        "colab": {
          "base_uri": "https://localhost:8080/"
        },
        "id": "mr9Z3mAVIG-J",
        "outputId": "cb8333ce-99c5-4121-febd-2716100bd311"
      },
      "execution_count": 501,
      "outputs": [
        {
          "output_type": "stream",
          "name": "stdout",
          "text": [
            "(239, 320)\n",
            "(239, 320)\n"
          ]
        }
      ]
    },
    {
      "cell_type": "code",
      "source": [
        "df = pd.DataFrame(x_train_images[0])\n",
        "df.head()"
      ],
      "metadata": {
        "colab": {
          "base_uri": "https://localhost:8080/",
          "height": 255
        },
        "id": "EAVWOWI5mDiU",
        "outputId": "487f2eac-5503-4a1e-b492-235e9ac87405"
      },
      "execution_count": 502,
      "outputs": [
        {
          "output_type": "execute_result",
          "data": {
            "text/plain": [
              "        0         1         2         3         4         5         6    \\\n",
              "0  22.52164  22.53780  22.54319  22.54858  22.54858  22.55396  22.55935   \n",
              "1  22.52164  22.52703  22.53780  22.54319  22.54319  22.54858  22.54858   \n",
              "2  22.51625  22.53242  22.53242  22.53242  22.53780  22.54319  22.54319   \n",
              "3  22.51625  22.52703  22.53242  22.53780  22.53780  22.54319  22.54319   \n",
              "4  22.52164  22.52703  22.53242  22.53780  22.53780  22.54319  22.54319   \n",
              "\n",
              "        7         8         9    ...       310       311       312       313  \\\n",
              "0  22.55935  22.55935  22.56474  ...  23.10194  23.09658  23.09122  23.09122   \n",
              "1  22.55396  22.55935  22.55935  ...  23.10194  23.09122  23.09122  23.08587   \n",
              "2  22.54858  22.54858  22.55396  ...  23.09658  23.08587  23.08587  23.08051   \n",
              "3  22.54858  22.54858  22.55396  ...  23.09122  23.08051  23.08051  23.07515   \n",
              "4  22.54319  22.54858  22.54319  ...  23.08587  23.08051  23.06979  23.06443   \n",
              "\n",
              "        314       315       316       317       318       319  \n",
              "0  23.09122  23.08051  23.07515  23.05907  23.04835  23.03226  \n",
              "1  23.08587  23.08051  23.06979  23.05907  23.04299  23.03226  \n",
              "2  23.08051  23.06979  23.06979  23.04835  23.03762  23.03226  \n",
              "3  23.06979  23.06443  23.04835  23.04299  23.03226  23.02690  \n",
              "4  23.06443  23.05907  23.04299  23.03762  23.02154  23.02154  \n",
              "\n",
              "[5 rows x 320 columns]"
            ],
            "text/html": [
              "\n",
              "  <div id=\"df-b1ab7233-57a1-4be6-9a09-902b7cb60f14\" class=\"colab-df-container\">\n",
              "    <div>\n",
              "<style scoped>\n",
              "    .dataframe tbody tr th:only-of-type {\n",
              "        vertical-align: middle;\n",
              "    }\n",
              "\n",
              "    .dataframe tbody tr th {\n",
              "        vertical-align: top;\n",
              "    }\n",
              "\n",
              "    .dataframe thead th {\n",
              "        text-align: right;\n",
              "    }\n",
              "</style>\n",
              "<table border=\"1\" class=\"dataframe\">\n",
              "  <thead>\n",
              "    <tr style=\"text-align: right;\">\n",
              "      <th></th>\n",
              "      <th>0</th>\n",
              "      <th>1</th>\n",
              "      <th>2</th>\n",
              "      <th>3</th>\n",
              "      <th>4</th>\n",
              "      <th>5</th>\n",
              "      <th>6</th>\n",
              "      <th>7</th>\n",
              "      <th>8</th>\n",
              "      <th>9</th>\n",
              "      <th>...</th>\n",
              "      <th>310</th>\n",
              "      <th>311</th>\n",
              "      <th>312</th>\n",
              "      <th>313</th>\n",
              "      <th>314</th>\n",
              "      <th>315</th>\n",
              "      <th>316</th>\n",
              "      <th>317</th>\n",
              "      <th>318</th>\n",
              "      <th>319</th>\n",
              "    </tr>\n",
              "  </thead>\n",
              "  <tbody>\n",
              "    <tr>\n",
              "      <th>0</th>\n",
              "      <td>22.52164</td>\n",
              "      <td>22.53780</td>\n",
              "      <td>22.54319</td>\n",
              "      <td>22.54858</td>\n",
              "      <td>22.54858</td>\n",
              "      <td>22.55396</td>\n",
              "      <td>22.55935</td>\n",
              "      <td>22.55935</td>\n",
              "      <td>22.55935</td>\n",
              "      <td>22.56474</td>\n",
              "      <td>...</td>\n",
              "      <td>23.10194</td>\n",
              "      <td>23.09658</td>\n",
              "      <td>23.09122</td>\n",
              "      <td>23.09122</td>\n",
              "      <td>23.09122</td>\n",
              "      <td>23.08051</td>\n",
              "      <td>23.07515</td>\n",
              "      <td>23.05907</td>\n",
              "      <td>23.04835</td>\n",
              "      <td>23.03226</td>\n",
              "    </tr>\n",
              "    <tr>\n",
              "      <th>1</th>\n",
              "      <td>22.52164</td>\n",
              "      <td>22.52703</td>\n",
              "      <td>22.53780</td>\n",
              "      <td>22.54319</td>\n",
              "      <td>22.54319</td>\n",
              "      <td>22.54858</td>\n",
              "      <td>22.54858</td>\n",
              "      <td>22.55396</td>\n",
              "      <td>22.55935</td>\n",
              "      <td>22.55935</td>\n",
              "      <td>...</td>\n",
              "      <td>23.10194</td>\n",
              "      <td>23.09122</td>\n",
              "      <td>23.09122</td>\n",
              "      <td>23.08587</td>\n",
              "      <td>23.08587</td>\n",
              "      <td>23.08051</td>\n",
              "      <td>23.06979</td>\n",
              "      <td>23.05907</td>\n",
              "      <td>23.04299</td>\n",
              "      <td>23.03226</td>\n",
              "    </tr>\n",
              "    <tr>\n",
              "      <th>2</th>\n",
              "      <td>22.51625</td>\n",
              "      <td>22.53242</td>\n",
              "      <td>22.53242</td>\n",
              "      <td>22.53242</td>\n",
              "      <td>22.53780</td>\n",
              "      <td>22.54319</td>\n",
              "      <td>22.54319</td>\n",
              "      <td>22.54858</td>\n",
              "      <td>22.54858</td>\n",
              "      <td>22.55396</td>\n",
              "      <td>...</td>\n",
              "      <td>23.09658</td>\n",
              "      <td>23.08587</td>\n",
              "      <td>23.08587</td>\n",
              "      <td>23.08051</td>\n",
              "      <td>23.08051</td>\n",
              "      <td>23.06979</td>\n",
              "      <td>23.06979</td>\n",
              "      <td>23.04835</td>\n",
              "      <td>23.03762</td>\n",
              "      <td>23.03226</td>\n",
              "    </tr>\n",
              "    <tr>\n",
              "      <th>3</th>\n",
              "      <td>22.51625</td>\n",
              "      <td>22.52703</td>\n",
              "      <td>22.53242</td>\n",
              "      <td>22.53780</td>\n",
              "      <td>22.53780</td>\n",
              "      <td>22.54319</td>\n",
              "      <td>22.54319</td>\n",
              "      <td>22.54858</td>\n",
              "      <td>22.54858</td>\n",
              "      <td>22.55396</td>\n",
              "      <td>...</td>\n",
              "      <td>23.09122</td>\n",
              "      <td>23.08051</td>\n",
              "      <td>23.08051</td>\n",
              "      <td>23.07515</td>\n",
              "      <td>23.06979</td>\n",
              "      <td>23.06443</td>\n",
              "      <td>23.04835</td>\n",
              "      <td>23.04299</td>\n",
              "      <td>23.03226</td>\n",
              "      <td>23.02690</td>\n",
              "    </tr>\n",
              "    <tr>\n",
              "      <th>4</th>\n",
              "      <td>22.52164</td>\n",
              "      <td>22.52703</td>\n",
              "      <td>22.53242</td>\n",
              "      <td>22.53780</td>\n",
              "      <td>22.53780</td>\n",
              "      <td>22.54319</td>\n",
              "      <td>22.54319</td>\n",
              "      <td>22.54319</td>\n",
              "      <td>22.54858</td>\n",
              "      <td>22.54319</td>\n",
              "      <td>...</td>\n",
              "      <td>23.08587</td>\n",
              "      <td>23.08051</td>\n",
              "      <td>23.06979</td>\n",
              "      <td>23.06443</td>\n",
              "      <td>23.06443</td>\n",
              "      <td>23.05907</td>\n",
              "      <td>23.04299</td>\n",
              "      <td>23.03762</td>\n",
              "      <td>23.02154</td>\n",
              "      <td>23.02154</td>\n",
              "    </tr>\n",
              "  </tbody>\n",
              "</table>\n",
              "<p>5 rows × 320 columns</p>\n",
              "</div>\n",
              "    <div class=\"colab-df-buttons\">\n",
              "\n",
              "  <div class=\"colab-df-container\">\n",
              "    <button class=\"colab-df-convert\" onclick=\"convertToInteractive('df-b1ab7233-57a1-4be6-9a09-902b7cb60f14')\"\n",
              "            title=\"Convert this dataframe to an interactive table.\"\n",
              "            style=\"display:none;\">\n",
              "\n",
              "  <svg xmlns=\"http://www.w3.org/2000/svg\" height=\"24px\" viewBox=\"0 -960 960 960\">\n",
              "    <path d=\"M120-120v-720h720v720H120Zm60-500h600v-160H180v160Zm220 220h160v-160H400v160Zm0 220h160v-160H400v160ZM180-400h160v-160H180v160Zm440 0h160v-160H620v160ZM180-180h160v-160H180v160Zm440 0h160v-160H620v160Z\"/>\n",
              "  </svg>\n",
              "    </button>\n",
              "\n",
              "  <style>\n",
              "    .colab-df-container {\n",
              "      display:flex;\n",
              "      gap: 12px;\n",
              "    }\n",
              "\n",
              "    .colab-df-convert {\n",
              "      background-color: #E8F0FE;\n",
              "      border: none;\n",
              "      border-radius: 50%;\n",
              "      cursor: pointer;\n",
              "      display: none;\n",
              "      fill: #1967D2;\n",
              "      height: 32px;\n",
              "      padding: 0 0 0 0;\n",
              "      width: 32px;\n",
              "    }\n",
              "\n",
              "    .colab-df-convert:hover {\n",
              "      background-color: #E2EBFA;\n",
              "      box-shadow: 0px 1px 2px rgba(60, 64, 67, 0.3), 0px 1px 3px 1px rgba(60, 64, 67, 0.15);\n",
              "      fill: #174EA6;\n",
              "    }\n",
              "\n",
              "    .colab-df-buttons div {\n",
              "      margin-bottom: 4px;\n",
              "    }\n",
              "\n",
              "    [theme=dark] .colab-df-convert {\n",
              "      background-color: #3B4455;\n",
              "      fill: #D2E3FC;\n",
              "    }\n",
              "\n",
              "    [theme=dark] .colab-df-convert:hover {\n",
              "      background-color: #434B5C;\n",
              "      box-shadow: 0px 1px 3px 1px rgba(0, 0, 0, 0.15);\n",
              "      filter: drop-shadow(0px 1px 2px rgba(0, 0, 0, 0.3));\n",
              "      fill: #FFFFFF;\n",
              "    }\n",
              "  </style>\n",
              "\n",
              "    <script>\n",
              "      const buttonEl =\n",
              "        document.querySelector('#df-b1ab7233-57a1-4be6-9a09-902b7cb60f14 button.colab-df-convert');\n",
              "      buttonEl.style.display =\n",
              "        google.colab.kernel.accessAllowed ? 'block' : 'none';\n",
              "\n",
              "      async function convertToInteractive(key) {\n",
              "        const element = document.querySelector('#df-b1ab7233-57a1-4be6-9a09-902b7cb60f14');\n",
              "        const dataTable =\n",
              "          await google.colab.kernel.invokeFunction('convertToInteractive',\n",
              "                                                    [key], {});\n",
              "        if (!dataTable) return;\n",
              "\n",
              "        const docLinkHtml = 'Like what you see? Visit the ' +\n",
              "          '<a target=\"_blank\" href=https://colab.research.google.com/notebooks/data_table.ipynb>data table notebook</a>'\n",
              "          + ' to learn more about interactive tables.';\n",
              "        element.innerHTML = '';\n",
              "        dataTable['output_type'] = 'display_data';\n",
              "        await google.colab.output.renderOutput(dataTable, element);\n",
              "        const docLink = document.createElement('div');\n",
              "        docLink.innerHTML = docLinkHtml;\n",
              "        element.appendChild(docLink);\n",
              "      }\n",
              "    </script>\n",
              "  </div>\n",
              "\n",
              "\n",
              "<div id=\"df-268362f4-8090-4b98-89a8-881e39071add\">\n",
              "  <button class=\"colab-df-quickchart\" onclick=\"quickchart('df-268362f4-8090-4b98-89a8-881e39071add')\"\n",
              "            title=\"Suggest charts\"\n",
              "            style=\"display:none;\">\n",
              "\n",
              "<svg xmlns=\"http://www.w3.org/2000/svg\" height=\"24px\"viewBox=\"0 0 24 24\"\n",
              "     width=\"24px\">\n",
              "    <g>\n",
              "        <path d=\"M19 3H5c-1.1 0-2 .9-2 2v14c0 1.1.9 2 2 2h14c1.1 0 2-.9 2-2V5c0-1.1-.9-2-2-2zM9 17H7v-7h2v7zm4 0h-2V7h2v10zm4 0h-2v-4h2v4z\"/>\n",
              "    </g>\n",
              "</svg>\n",
              "  </button>\n",
              "\n",
              "<style>\n",
              "  .colab-df-quickchart {\n",
              "      --bg-color: #E8F0FE;\n",
              "      --fill-color: #1967D2;\n",
              "      --hover-bg-color: #E2EBFA;\n",
              "      --hover-fill-color: #174EA6;\n",
              "      --disabled-fill-color: #AAA;\n",
              "      --disabled-bg-color: #DDD;\n",
              "  }\n",
              "\n",
              "  [theme=dark] .colab-df-quickchart {\n",
              "      --bg-color: #3B4455;\n",
              "      --fill-color: #D2E3FC;\n",
              "      --hover-bg-color: #434B5C;\n",
              "      --hover-fill-color: #FFFFFF;\n",
              "      --disabled-bg-color: #3B4455;\n",
              "      --disabled-fill-color: #666;\n",
              "  }\n",
              "\n",
              "  .colab-df-quickchart {\n",
              "    background-color: var(--bg-color);\n",
              "    border: none;\n",
              "    border-radius: 50%;\n",
              "    cursor: pointer;\n",
              "    display: none;\n",
              "    fill: var(--fill-color);\n",
              "    height: 32px;\n",
              "    padding: 0;\n",
              "    width: 32px;\n",
              "  }\n",
              "\n",
              "  .colab-df-quickchart:hover {\n",
              "    background-color: var(--hover-bg-color);\n",
              "    box-shadow: 0 1px 2px rgba(60, 64, 67, 0.3), 0 1px 3px 1px rgba(60, 64, 67, 0.15);\n",
              "    fill: var(--button-hover-fill-color);\n",
              "  }\n",
              "\n",
              "  .colab-df-quickchart-complete:disabled,\n",
              "  .colab-df-quickchart-complete:disabled:hover {\n",
              "    background-color: var(--disabled-bg-color);\n",
              "    fill: var(--disabled-fill-color);\n",
              "    box-shadow: none;\n",
              "  }\n",
              "\n",
              "  .colab-df-spinner {\n",
              "    border: 2px solid var(--fill-color);\n",
              "    border-color: transparent;\n",
              "    border-bottom-color: var(--fill-color);\n",
              "    animation:\n",
              "      spin 1s steps(1) infinite;\n",
              "  }\n",
              "\n",
              "  @keyframes spin {\n",
              "    0% {\n",
              "      border-color: transparent;\n",
              "      border-bottom-color: var(--fill-color);\n",
              "      border-left-color: var(--fill-color);\n",
              "    }\n",
              "    20% {\n",
              "      border-color: transparent;\n",
              "      border-left-color: var(--fill-color);\n",
              "      border-top-color: var(--fill-color);\n",
              "    }\n",
              "    30% {\n",
              "      border-color: transparent;\n",
              "      border-left-color: var(--fill-color);\n",
              "      border-top-color: var(--fill-color);\n",
              "      border-right-color: var(--fill-color);\n",
              "    }\n",
              "    40% {\n",
              "      border-color: transparent;\n",
              "      border-right-color: var(--fill-color);\n",
              "      border-top-color: var(--fill-color);\n",
              "    }\n",
              "    60% {\n",
              "      border-color: transparent;\n",
              "      border-right-color: var(--fill-color);\n",
              "    }\n",
              "    80% {\n",
              "      border-color: transparent;\n",
              "      border-right-color: var(--fill-color);\n",
              "      border-bottom-color: var(--fill-color);\n",
              "    }\n",
              "    90% {\n",
              "      border-color: transparent;\n",
              "      border-bottom-color: var(--fill-color);\n",
              "    }\n",
              "  }\n",
              "</style>\n",
              "\n",
              "  <script>\n",
              "    async function quickchart(key) {\n",
              "      const quickchartButtonEl =\n",
              "        document.querySelector('#' + key + ' button');\n",
              "      quickchartButtonEl.disabled = true;  // To prevent multiple clicks.\n",
              "      quickchartButtonEl.classList.add('colab-df-spinner');\n",
              "      try {\n",
              "        const charts = await google.colab.kernel.invokeFunction(\n",
              "            'suggestCharts', [key], {});\n",
              "      } catch (error) {\n",
              "        console.error('Error during call to suggestCharts:', error);\n",
              "      }\n",
              "      quickchartButtonEl.classList.remove('colab-df-spinner');\n",
              "      quickchartButtonEl.classList.add('colab-df-quickchart-complete');\n",
              "    }\n",
              "    (() => {\n",
              "      let quickchartButtonEl =\n",
              "        document.querySelector('#df-268362f4-8090-4b98-89a8-881e39071add button');\n",
              "      quickchartButtonEl.style.display =\n",
              "        google.colab.kernel.accessAllowed ? 'block' : 'none';\n",
              "    })();\n",
              "  </script>\n",
              "</div>\n",
              "\n",
              "    </div>\n",
              "  </div>\n"
            ],
            "application/vnd.google.colaboratory.intrinsic+json": {
              "type": "dataframe",
              "variable_name": "df"
            }
          },
          "metadata": {},
          "execution_count": 502
        }
      ]
    },
    {
      "cell_type": "code",
      "source": [
        "# Min and Max temperature values in the raw image\n",
        "selected_id = 50\n",
        "print(\"Image: \", x_train_files[selected_id])\n",
        "print(\"Min value: \", np.min(x_train_images[selected_id]))\n",
        "print(\"Max value: \", np.max(x_train_images[selected_id]))\n",
        "print(\"Mean: \", np.mean(x_train_images[selected_id]))"
      ],
      "metadata": {
        "colab": {
          "base_uri": "https://localhost:8080/"
        },
        "id": "6OisyxNgle9o",
        "outputId": "e8388590-caab-48e7-dbb9-cdcc73a88794"
      },
      "execution_count": 503,
      "outputs": [
        {
          "output_type": "stream",
          "name": "stdout",
          "text": [
            "Image:  /content/thermalImagesClassification/data/diagnosticos/osteomielite_tibia/pessoa08/pessoa08_avaliacao01.csv\n",
            "Min value:  21.39217\n",
            "Max value:  33.4812\n",
            "Mean:  26.335086919979084\n"
          ]
        }
      ]
    },
    {
      "cell_type": "code",
      "source": [
        "# --------------------------------------------------------------\n",
        "# normalize image withing [min, max] range\n",
        "# --------------------------------------------------------------\n",
        "\n",
        "def normalize(image):\n",
        "    max = np.amax(image)\n",
        "    min = np.amin(image)\n",
        "    normalized_image = (image-min)/(max - min)\n",
        "    return (normalized_image)"
      ],
      "metadata": {
        "id": "S99W_KQVtxvw"
      },
      "execution_count": 504,
      "outputs": []
    },
    {
      "cell_type": "code",
      "source": [
        "# -----------------------------------------------\n",
        "# -----------------------------------------------\n",
        "\n",
        "def thermal_to_rgb_image(image):\n",
        "  norm_img = normalize(image = image)\n",
        "  new_img  = np.round(norm_img * 255)\n",
        "  u8 = new_img.astype(np.uint8)\n",
        "  im_color = cv2.applyColorMap(u8, cv2.COLORMAP_JET)\n",
        "  return(im_color)"
      ],
      "metadata": {
        "id": "tzDRhPE06mlg"
      },
      "execution_count": 505,
      "outputs": []
    },
    {
      "cell_type": "code",
      "source": [
        "# example of RGB healthy image\n",
        "imgc = thermal_to_rgb_image(image = x_train_images[2])\n",
        "cv2_imshow(imgc)"
      ],
      "metadata": {
        "id": "u2jt57-imvGG",
        "colab": {
          "base_uri": "https://localhost:8080/",
          "height": 256
        },
        "outputId": "af281e21-1309-440a-eaac-dad92dcf9dca"
      },
      "execution_count": 506,
      "outputs": [
        {
          "output_type": "display_data",
          "data": {
            "text/plain": [
              "<PIL.Image.Image image mode=RGB size=320x239>"
            ],
            "image/png": "[encoded data removed]",
            "image/jpeg": "[encoded data removed]"
          },
          "metadata": {}
        }
      ]
    },
    {
      "cell_type": "code",
      "source": [
        "imgc.shape"
      ],
      "metadata": {
        "colab": {
          "base_uri": "https://localhost:8080/"
        },
        "id": "uSKcVpLU7H0C",
        "outputId": "2ef9b0ce-3ee1-4215-80db-2396b0941c61"
      },
      "execution_count": 507,
      "outputs": [
        {
          "output_type": "execute_result",
          "data": {
            "text/plain": [
              "(239, 320, 3)"
            ]
          },
          "metadata": {},
          "execution_count": 507
        }
      ]
    },
    {
      "cell_type": "code",
      "source": [
        "# converting all healthy thermal raw images to RGB\n",
        "\n",
        "if(TYPE_OF_IMAGE == \"rgb\"):\n",
        "  print(\"* Converting thermal images to RGB\")\n",
        "  new_x_train_images = [thermal_to_rgb_image(x) for x in x_train_images]\n",
        "  new_x_test_images  = [thermal_to_rgb_image(x) for x in x_test_images]\n",
        "  input_shape = (239, 320, 3)\n",
        "else:\n",
        "  print (\"* Using raw images - normalized between [0, 1]\")\n",
        "  new_x_train_images = [normalize(x) for x in x_train_images]\n",
        "  new_x_test_images  = [normalize(x) for x in x_test_images]\n",
        "  input_shape = (239, 320, 1)\n",
        "  print(new_x_train_images[0])"
      ],
      "metadata": {
        "id": "-VOoOMSUDgui",
        "colab": {
          "base_uri": "https://localhost:8080/"
        },
        "outputId": "6ab28279-b420-4000-fc63-739400e4763c"
      },
      "execution_count": 508,
      "outputs": [
        {
          "output_type": "stream",
          "name": "stdout",
          "text": [
            "* Using raw images - normalized between [0, 1]\n",
            "[[0.09241937 0.09363294 0.09403772 ... 0.13277896 0.13197392 0.1307656 ]\n",
            " [0.09241937 0.09282414 0.09363294 ... 0.13277896 0.1315714  0.1307656 ]\n",
            " [0.09201459 0.09322892 0.09322892 ... 0.13197392 0.13116813 0.1307656 ]\n",
            " ...\n",
            " [0.01759382 0.01800235 0.01759382 ... 0.10697324 0.10697324 0.10697324]\n",
            " [0.01759382 0.01759382 0.01759382 ... 0.1061652  0.10656922 0.10656922]\n",
            " [0.01718454 0.01718454 0.01759382 ... 0.10576117 0.10576117 0.1061652 ]]\n"
          ]
        }
      ]
    },
    {
      "cell_type": "code",
      "source": [
        "# -------------------------------------------\n",
        "# Creating Training Dataset\n",
        "# -------------------------------------------\n",
        "X_train = np.array(new_x_train_images)\n",
        "X_test  = np.array(new_x_test_images)"
      ],
      "metadata": {
        "id": "3Aw5Wl8MGGzc"
      },
      "execution_count": 509,
      "outputs": []
    },
    {
      "cell_type": "code",
      "source": [
        "# convert values to the inverval [0, 1]\n",
        "if(TYPE_OF_IMAGE != \"raw\"):\n",
        "  X_train = X_train.astype(\"float32\") / 255\n",
        "  X_test = X_test.astype(\"float32\") / 255"
      ],
      "metadata": {
        "id": "JgAHNCbkPjGP"
      },
      "execution_count": 510,
      "outputs": []
    },
    {
      "cell_type": "code",
      "source": [
        "# ------------------------------------------------------------\n",
        "# ------------------------------------------------------------\n",
        "\n",
        "# TODO: balanceamento no conjunto de treinamento\n",
        "# Data augmentation da classe minoritaria (quais operacoes)\n",
        "# usar data augmentation -> https://albumentations.ai/\n",
        "\n",
        "# ------------------------------------------------------------\n",
        "# ------------------------------------------------------------"
      ],
      "metadata": {
        "id": "xyNQ8whnLbsR"
      },
      "execution_count": 511,
      "outputs": []
    },
    {
      "cell_type": "code",
      "source": [
        "# print(y_test)\n",
        "plt.bar(np.arange(len(y_train)),y_train)\n",
        "plt.show()"
      ],
      "metadata": {
        "colab": {
          "base_uri": "https://localhost:8080/",
          "height": 430
        },
        "id": "GETrPTWXHnYM",
        "outputId": "6a294a69-9616-4131-9f78-b9960d849c51"
      },
      "execution_count": 512,
      "outputs": [
        {
          "output_type": "display_data",
          "data": {
            "text/plain": [
              "<Figure size 640x480 with 1 Axes>"
            ],
            "image/png": "[encoded data removed]"
          },
          "metadata": {}
        }
      ]
    },
    {
      "cell_type": "code",
      "source": [
        "# Classical CNN architecture\n",
        "def get_CNN_model(input_shape):\n",
        "\n",
        "\tCNNmodel = models.Sequential()\n",
        "\tCNNmodel.add(layers.Conv2D(32, (3, 3), activation='relu', input_shape=input_shape))\n",
        "\tCNNmodel.add(layers.MaxPooling2D((2, 2)))\n",
        "\tCNNmodel.add(layers.Dropout(0.25))\n",
        "\tCNNmodel.add(layers.Conv2D(64, (3, 3), activation='relu'))\n",
        "\tCNNmodel.add(layers.MaxPooling2D((2, 2)))\n",
        "\tCNNmodel.add(layers.Dropout(0.25))\n",
        "\tCNNmodel.add(layers.Conv2D(64, (3, 3), activation='relu'))\n",
        "\tCNNmodel.add(layers.Flatten())\n",
        "\tCNNmodel.add(layers.Dense(64, activation='relu'))\n",
        "\tCNNmodel.add(layers.Dropout(0.5))\n",
        "\tCNNmodel.add(layers.Dense(1, activation=\"sigmoid\"))\n",
        "\n",
        "\treturn(CNNmodel)"
      ],
      "metadata": {
        "id": "Ru-4FaHkM5FI"
      },
      "execution_count": 513,
      "outputs": []
    },
    {
      "cell_type": "code",
      "source": [
        "def get_VGG19_model_Keras(input_shape) :\n",
        "\n",
        "  VGGmodel = models.Sequential()\n",
        "  baseModel = VGG19(input_shape=input_shape, weights='imagenet',include_top=False)\n",
        "  baseModel.trainable = False\n",
        "  VGGmodel.add(baseModel)\n",
        "  VGGmodel.add(layers.Flatten())\n",
        "  VGGmodel.add(layers.Dense(4096,activation = 'relu'))\n",
        "  VGGmodel.add(layers.Dense(4096,activation = 'relu'))\n",
        "  VGGmodel.add(layers.Dense(1,activation = 'sigmoid'))\n",
        "  return(VGGmodel)"
      ],
      "metadata": {
        "id": "bqitn9FzaYKM"
      },
      "execution_count": 514,
      "outputs": []
    },
    {
      "cell_type": "code",
      "source": [
        "# TODO;\n",
        "# ResNet50\n",
        "# MobileNetV2"
      ],
      "metadata": {
        "id": "EnPd8xd8SSS0"
      },
      "execution_count": 515,
      "outputs": []
    },
    {
      "cell_type": "code",
      "source": [
        "# Light weight convolutional neural network and low-dimensional images transformation approach for classification of thermal images\n",
        "# https://www.sciencedirect.com/science/article/pii/S2214157X22009078\n",
        "\n",
        "def get_LW_CNN_model_Taspinar(input_shape):\n",
        "\n",
        "  LWCNN_model = models.Sequential()\n",
        "  LWCNN_model.add(layers.Conv2D(6, (5, 5), input_shape=input_shape))\n",
        "  LWCNN_model.add(layers.LeakyReLU(alpha=0.01))\n",
        "  LWCNN_model.add(layers.MaxPooling2D((2, 2)))\n",
        "\n",
        "  LWCNN_model.add(layers.Conv2D(16, (5, 5)))\n",
        "  LWCNN_model.add(layers.LeakyReLU(alpha=0.01))\n",
        "  LWCNN_model.add(layers.MaxPooling2D((2, 2)))\n",
        "\n",
        "  LWCNN_model.add(layers.Conv2D(64, (3, 3)))\n",
        "  LWCNN_model.add(layers.LeakyReLU(alpha=0.01))\n",
        "  LWCNN_model.add(layers.MaxPooling2D((2, 2)))\n",
        "\n",
        "  LWCNN_model.add(layers.Flatten())\n",
        "  LWCNN_model.add(layers.Dense(128))\n",
        "  LWCNN_model.add(layers.LeakyReLU(alpha=0.01))\n",
        "\n",
        "  LWCNN_model.add(layers.Dropout(0.2))\n",
        "  LWCNN_model.add(layers.Dense(1, activation=\"sigmoid\"))\n",
        "\n",
        "  return(LWCNN_model)"
      ],
      "metadata": {
        "id": "swAphXPZPQ0Y"
      },
      "execution_count": 516,
      "outputs": []
    },
    {
      "cell_type": "code",
      "source": [
        "# Defining DL model\n",
        "if(MODEL == \"cnn\"):\n",
        "  model = get_CNN_model(input_shape=input_shape)\n",
        "elif(MODEL == \"vgg19\"):\n",
        "  model = get_VGG19_model_Keras(input_shape=input_shape)\n",
        "else: # LWCNN\n",
        "  model = get_LW_CNN_model_Taspinar(input_shape=input_shape)\n",
        "model.summary()"
      ],
      "metadata": {
        "id": "XxWbypZaNp9W",
        "colab": {
          "base_uri": "https://localhost:8080/",
          "height": 690
        },
        "outputId": "f914a494-0cd9-4ab0-dcc2-07ab03604125"
      },
      "execution_count": 517,
      "outputs": [
        {
          "output_type": "stream",
          "name": "stderr",
          "text": [
            "/usr/local/lib/python3.11/dist-packages/keras/src/layers/convolutional/base_conv.py:107: UserWarning: Do not pass an `input_shape`/`input_dim` argument to a layer. When using Sequential models, prefer using an `Input(shape)` object as the first layer in the model instead.\n",
            "  super().__init__(activity_regularizer=activity_regularizer, **kwargs)\n",
            "/usr/local/lib/python3.11/dist-packages/keras/src/layers/activations/leaky_relu.py:41: UserWarning: Argument `alpha` is deprecated. Use `negative_slope` instead.\n",
            "  warnings.warn(\n"
          ]
        },
        {
          "output_type": "display_data",
          "data": {
            "text/plain": [
              "\u001b[1mModel: \"sequential_14\"\u001b[0m\n"
            ],
            "text/html": [
              "<pre style=\"white-space:pre;overflow-x:auto;line-height:normal;font-family:Menlo,'DejaVu Sans Mono',consolas,'Courier New',monospace\"><span style=\"font-weight: bold\">Model: \"sequential_14\"</span>\n",
              "</pre>\n"
            ]
          },
          "metadata": {}
        },
        {
          "output_type": "display_data",
          "data": {
            "text/plain": [
              "┏━━━━━━━━━━━━━━━━━━━━━━━━━━━━━━━━━┳━━━━━━━━━━━━━━━━━━━━━━━━┳━━━━━━━━━━━━━━━┓\n",
              "┃\u001b[1m \u001b[0m\u001b[1mLayer (type)                   \u001b[0m\u001b[1m \u001b[0m┃\u001b[1m \u001b[0m\u001b[1mOutput Shape          \u001b[0m\u001b[1m \u001b[0m┃\u001b[1m \u001b[0m\u001b[1m      Param #\u001b[0m\u001b[1m \u001b[0m┃\n",
              "┡━━━━━━━━━━━━━━━━━━━━━━━━━━━━━━━━━╇━━━━━━━━━━━━━━━━━━━━━━━━╇━━━━━━━━━━━━━━━┩\n",
              "│ conv2d_36 (\u001b[38;5;33mConv2D\u001b[0m)              │ (\u001b[38;5;45mNone\u001b[0m, \u001b[38;5;34m235\u001b[0m, \u001b[38;5;34m316\u001b[0m, \u001b[38;5;34m6\u001b[0m)    │           \u001b[38;5;34m156\u001b[0m │\n",
              "├─────────────────────────────────┼────────────────────────┼───────────────┤\n",
              "│ leaky_re_lu_44 (\u001b[38;5;33mLeakyReLU\u001b[0m)      │ (\u001b[38;5;45mNone\u001b[0m, \u001b[38;5;34m235\u001b[0m, \u001b[38;5;34m316\u001b[0m, \u001b[38;5;34m6\u001b[0m)    │             \u001b[38;5;34m0\u001b[0m │\n",
              "├─────────────────────────────────┼────────────────────────┼───────────────┤\n",
              "│ max_pooling2d_36 (\u001b[38;5;33mMaxPooling2D\u001b[0m) │ (\u001b[38;5;45mNone\u001b[0m, \u001b[38;5;34m117\u001b[0m, \u001b[38;5;34m158\u001b[0m, \u001b[38;5;34m6\u001b[0m)    │             \u001b[38;5;34m0\u001b[0m │\n",
              "├─────────────────────────────────┼────────────────────────┼───────────────┤\n",
              "│ conv2d_37 (\u001b[38;5;33mConv2D\u001b[0m)              │ (\u001b[38;5;45mNone\u001b[0m, \u001b[38;5;34m113\u001b[0m, \u001b[38;5;34m154\u001b[0m, \u001b[38;5;34m16\u001b[0m)   │         \u001b[38;5;34m2,416\u001b[0m │\n",
              "├─────────────────────────────────┼────────────────────────┼───────────────┤\n",
              "│ leaky_re_lu_45 (\u001b[38;5;33mLeakyReLU\u001b[0m)      │ (\u001b[38;5;45mNone\u001b[0m, \u001b[38;5;34m113\u001b[0m, \u001b[38;5;34m154\u001b[0m, \u001b[38;5;34m16\u001b[0m)   │             \u001b[38;5;34m0\u001b[0m │\n",
              "├─────────────────────────────────┼────────────────────────┼───────────────┤\n",
              "│ max_pooling2d_37 (\u001b[38;5;33mMaxPooling2D\u001b[0m) │ (\u001b[38;5;45mNone\u001b[0m, \u001b[38;5;34m56\u001b[0m, \u001b[38;5;34m77\u001b[0m, \u001b[38;5;34m16\u001b[0m)     │             \u001b[38;5;34m0\u001b[0m │\n",
              "├─────────────────────────────────┼────────────────────────┼───────────────┤\n",
              "│ conv2d_38 (\u001b[38;5;33mConv2D\u001b[0m)              │ (\u001b[38;5;45mNone\u001b[0m, \u001b[38;5;34m54\u001b[0m, \u001b[38;5;34m75\u001b[0m, \u001b[38;5;34m64\u001b[0m)     │         \u001b[38;5;34m9,280\u001b[0m │\n",
              "├─────────────────────────────────┼────────────────────────┼───────────────┤\n",
              "│ leaky_re_lu_46 (\u001b[38;5;33mLeakyReLU\u001b[0m)      │ (\u001b[38;5;45mNone\u001b[0m, \u001b[38;5;34m54\u001b[0m, \u001b[38;5;34m75\u001b[0m, \u001b[38;5;34m64\u001b[0m)     │             \u001b[38;5;34m0\u001b[0m │\n",
              "├─────────────────────────────────┼────────────────────────┼───────────────┤\n",
              "│ max_pooling2d_38 (\u001b[38;5;33mMaxPooling2D\u001b[0m) │ (\u001b[38;5;45mNone\u001b[0m, \u001b[38;5;34m27\u001b[0m, \u001b[38;5;34m37\u001b[0m, \u001b[38;5;34m64\u001b[0m)     │             \u001b[38;5;34m0\u001b[0m │\n",
              "├─────────────────────────────────┼────────────────────────┼───────────────┤\n",
              "│ flatten_14 (\u001b[38;5;33mFlatten\u001b[0m)            │ (\u001b[38;5;45mNone\u001b[0m, \u001b[38;5;34m63936\u001b[0m)          │             \u001b[38;5;34m0\u001b[0m │\n",
              "├─────────────────────────────────┼────────────────────────┼───────────────┤\n",
              "│ dense_29 (\u001b[38;5;33mDense\u001b[0m)                │ (\u001b[38;5;45mNone\u001b[0m, \u001b[38;5;34m128\u001b[0m)            │     \u001b[38;5;34m8,183,936\u001b[0m │\n",
              "├─────────────────────────────────┼────────────────────────┼───────────────┤\n",
              "│ leaky_re_lu_47 (\u001b[38;5;33mLeakyReLU\u001b[0m)      │ (\u001b[38;5;45mNone\u001b[0m, \u001b[38;5;34m128\u001b[0m)            │             \u001b[38;5;34m0\u001b[0m │\n",
              "├─────────────────────────────────┼────────────────────────┼───────────────┤\n",
              "│ dropout_11 (\u001b[38;5;33mDropout\u001b[0m)            │ (\u001b[38;5;45mNone\u001b[0m, \u001b[38;5;34m128\u001b[0m)            │             \u001b[38;5;34m0\u001b[0m │\n",
              "├─────────────────────────────────┼────────────────────────┼───────────────┤\n",
              "│ dense_30 (\u001b[38;5;33mDense\u001b[0m)                │ (\u001b[38;5;45mNone\u001b[0m, \u001b[38;5;34m1\u001b[0m)              │           \u001b[38;5;34m129\u001b[0m │\n",
              "└─────────────────────────────────┴────────────────────────┴───────────────┘\n"
            ],
            "text/html": [
              "<pre style=\"white-space:pre;overflow-x:auto;line-height:normal;font-family:Menlo,'DejaVu Sans Mono',consolas,'Courier New',monospace\">┏━━━━━━━━━━━━━━━━━━━━━━━━━━━━━━━━━┳━━━━━━━━━━━━━━━━━━━━━━━━┳━━━━━━━━━━━━━━━┓\n",
              "┃<span style=\"font-weight: bold\"> Layer (type)                    </span>┃<span style=\"font-weight: bold\"> Output Shape           </span>┃<span style=\"font-weight: bold\">       Param # </span>┃\n",
              "┡━━━━━━━━━━━━━━━━━━━━━━━━━━━━━━━━━╇━━━━━━━━━━━━━━━━━━━━━━━━╇━━━━━━━━━━━━━━━┩\n",
              "│ conv2d_36 (<span style=\"color: #0087ff; text-decoration-color: #0087ff\">Conv2D</span>)              │ (<span style=\"color: #00d7ff; text-decoration-color: #00d7ff\">None</span>, <span style=\"color: #00af00; text-decoration-color: #00af00\">235</span>, <span style=\"color: #00af00; text-decoration-color: #00af00\">316</span>, <span style=\"color: #00af00; text-decoration-color: #00af00\">6</span>)    │           <span style=\"color: #00af00; text-decoration-color: #00af00\">156</span> │\n",
              "├─────────────────────────────────┼────────────────────────┼───────────────┤\n",
              "│ leaky_re_lu_44 (<span style=\"color: #0087ff; text-decoration-color: #0087ff\">LeakyReLU</span>)      │ (<span style=\"color: #00d7ff; text-decoration-color: #00d7ff\">None</span>, <span style=\"color: #00af00; text-decoration-color: #00af00\">235</span>, <span style=\"color: #00af00; text-decoration-color: #00af00\">316</span>, <span style=\"color: #00af00; text-decoration-color: #00af00\">6</span>)    │             <span style=\"color: #00af00; text-decoration-color: #00af00\">0</span> │\n",
              "├─────────────────────────────────┼────────────────────────┼───────────────┤\n",
              "│ max_pooling2d_36 (<span style=\"color: #0087ff; text-decoration-color: #0087ff\">MaxPooling2D</span>) │ (<span style=\"color: #00d7ff; text-decoration-color: #00d7ff\">None</span>, <span style=\"color: #00af00; text-decoration-color: #00af00\">117</span>, <span style=\"color: #00af00; text-decoration-color: #00af00\">158</span>, <span style=\"color: #00af00; text-decoration-color: #00af00\">6</span>)    │             <span style=\"color: #00af00; text-decoration-color: #00af00\">0</span> │\n",
              "├─────────────────────────────────┼────────────────────────┼───────────────┤\n",
              "│ conv2d_37 (<span style=\"color: #0087ff; text-decoration-color: #0087ff\">Conv2D</span>)              │ (<span style=\"color: #00d7ff; text-decoration-color: #00d7ff\">None</span>, <span style=\"color: #00af00; text-decoration-color: #00af00\">113</span>, <span style=\"color: #00af00; text-decoration-color: #00af00\">154</span>, <span style=\"color: #00af00; text-decoration-color: #00af00\">16</span>)   │         <span style=\"color: #00af00; text-decoration-color: #00af00\">2,416</span> │\n",
              "├─────────────────────────────────┼────────────────────────┼───────────────┤\n",
              "│ leaky_re_lu_45 (<span style=\"color: #0087ff; text-decoration-color: #0087ff\">LeakyReLU</span>)      │ (<span style=\"color: #00d7ff; text-decoration-color: #00d7ff\">None</span>, <span style=\"color: #00af00; text-decoration-color: #00af00\">113</span>, <span style=\"color: #00af00; text-decoration-color: #00af00\">154</span>, <span style=\"color: #00af00; text-decoration-color: #00af00\">16</span>)   │             <span style=\"color: #00af00; text-decoration-color: #00af00\">0</span> │\n",
              "├─────────────────────────────────┼────────────────────────┼───────────────┤\n",
              "│ max_pooling2d_37 (<span style=\"color: #0087ff; text-decoration-color: #0087ff\">MaxPooling2D</span>) │ (<span style=\"color: #00d7ff; text-decoration-color: #00d7ff\">None</span>, <span style=\"color: #00af00; text-decoration-color: #00af00\">56</span>, <span style=\"color: #00af00; text-decoration-color: #00af00\">77</span>, <span style=\"color: #00af00; text-decoration-color: #00af00\">16</span>)     │             <span style=\"color: #00af00; text-decoration-color: #00af00\">0</span> │\n",
              "├─────────────────────────────────┼────────────────────────┼───────────────┤\n",
              "│ conv2d_38 (<span style=\"color: #0087ff; text-decoration-color: #0087ff\">Conv2D</span>)              │ (<span style=\"color: #00d7ff; text-decoration-color: #00d7ff\">None</span>, <span style=\"color: #00af00; text-decoration-color: #00af00\">54</span>, <span style=\"color: #00af00; text-decoration-color: #00af00\">75</span>, <span style=\"color: #00af00; text-decoration-color: #00af00\">64</span>)     │         <span style=\"color: #00af00; text-decoration-color: #00af00\">9,280</span> │\n",
              "├─────────────────────────────────┼────────────────────────┼───────────────┤\n",
              "│ leaky_re_lu_46 (<span style=\"color: #0087ff; text-decoration-color: #0087ff\">LeakyReLU</span>)      │ (<span style=\"color: #00d7ff; text-decoration-color: #00d7ff\">None</span>, <span style=\"color: #00af00; text-decoration-color: #00af00\">54</span>, <span style=\"color: #00af00; text-decoration-color: #00af00\">75</span>, <span style=\"color: #00af00; text-decoration-color: #00af00\">64</span>)     │             <span style=\"color: #00af00; text-decoration-color: #00af00\">0</span> │\n",
              "├─────────────────────────────────┼────────────────────────┼───────────────┤\n",
              "│ max_pooling2d_38 (<span style=\"color: #0087ff; text-decoration-color: #0087ff\">MaxPooling2D</span>) │ (<span style=\"color: #00d7ff; text-decoration-color: #00d7ff\">None</span>, <span style=\"color: #00af00; text-decoration-color: #00af00\">27</span>, <span style=\"color: #00af00; text-decoration-color: #00af00\">37</span>, <span style=\"color: #00af00; text-decoration-color: #00af00\">64</span>)     │             <span style=\"color: #00af00; text-decoration-color: #00af00\">0</span> │\n",
              "├─────────────────────────────────┼────────────────────────┼───────────────┤\n",
              "│ flatten_14 (<span style=\"color: #0087ff; text-decoration-color: #0087ff\">Flatten</span>)            │ (<span style=\"color: #00d7ff; text-decoration-color: #00d7ff\">None</span>, <span style=\"color: #00af00; text-decoration-color: #00af00\">63936</span>)          │             <span style=\"color: #00af00; text-decoration-color: #00af00\">0</span> │\n",
              "├─────────────────────────────────┼────────────────────────┼───────────────┤\n",
              "│ dense_29 (<span style=\"color: #0087ff; text-decoration-color: #0087ff\">Dense</span>)                │ (<span style=\"color: #00d7ff; text-decoration-color: #00d7ff\">None</span>, <span style=\"color: #00af00; text-decoration-color: #00af00\">128</span>)            │     <span style=\"color: #00af00; text-decoration-color: #00af00\">8,183,936</span> │\n",
              "├─────────────────────────────────┼────────────────────────┼───────────────┤\n",
              "│ leaky_re_lu_47 (<span style=\"color: #0087ff; text-decoration-color: #0087ff\">LeakyReLU</span>)      │ (<span style=\"color: #00d7ff; text-decoration-color: #00d7ff\">None</span>, <span style=\"color: #00af00; text-decoration-color: #00af00\">128</span>)            │             <span style=\"color: #00af00; text-decoration-color: #00af00\">0</span> │\n",
              "├─────────────────────────────────┼────────────────────────┼───────────────┤\n",
              "│ dropout_11 (<span style=\"color: #0087ff; text-decoration-color: #0087ff\">Dropout</span>)            │ (<span style=\"color: #00d7ff; text-decoration-color: #00d7ff\">None</span>, <span style=\"color: #00af00; text-decoration-color: #00af00\">128</span>)            │             <span style=\"color: #00af00; text-decoration-color: #00af00\">0</span> │\n",
              "├─────────────────────────────────┼────────────────────────┼───────────────┤\n",
              "│ dense_30 (<span style=\"color: #0087ff; text-decoration-color: #0087ff\">Dense</span>)                │ (<span style=\"color: #00d7ff; text-decoration-color: #00d7ff\">None</span>, <span style=\"color: #00af00; text-decoration-color: #00af00\">1</span>)              │           <span style=\"color: #00af00; text-decoration-color: #00af00\">129</span> │\n",
              "└─────────────────────────────────┴────────────────────────┴───────────────┘\n",
              "</pre>\n"
            ]
          },
          "metadata": {}
        },
        {
          "output_type": "display_data",
          "data": {
            "text/plain": [
              "\u001b[1m Total params: \u001b[0m\u001b[38;5;34m8,195,917\u001b[0m (31.26 MB)\n"
            ],
            "text/html": [
              "<pre style=\"white-space:pre;overflow-x:auto;line-height:normal;font-family:Menlo,'DejaVu Sans Mono',consolas,'Courier New',monospace\"><span style=\"font-weight: bold\"> Total params: </span><span style=\"color: #00af00; text-decoration-color: #00af00\">8,195,917</span> (31.26 MB)\n",
              "</pre>\n"
            ]
          },
          "metadata": {}
        },
        {
          "output_type": "display_data",
          "data": {
            "text/plain": [
              "\u001b[1m Trainable params: \u001b[0m\u001b[38;5;34m8,195,917\u001b[0m (31.26 MB)\n"
            ],
            "text/html": [
              "<pre style=\"white-space:pre;overflow-x:auto;line-height:normal;font-family:Menlo,'DejaVu Sans Mono',consolas,'Courier New',monospace\"><span style=\"font-weight: bold\"> Trainable params: </span><span style=\"color: #00af00; text-decoration-color: #00af00\">8,195,917</span> (31.26 MB)\n",
              "</pre>\n"
            ]
          },
          "metadata": {}
        },
        {
          "output_type": "display_data",
          "data": {
            "text/plain": [
              "\u001b[1m Non-trainable params: \u001b[0m\u001b[38;5;34m0\u001b[0m (0.00 B)\n"
            ],
            "text/html": [
              "<pre style=\"white-space:pre;overflow-x:auto;line-height:normal;font-family:Menlo,'DejaVu Sans Mono',consolas,'Courier New',monospace\"><span style=\"font-weight: bold\"> Non-trainable params: </span><span style=\"color: #00af00; text-decoration-color: #00af00\">0</span> (0.00 B)\n",
              "</pre>\n"
            ]
          },
          "metadata": {}
        }
      ]
    },
    {
      "cell_type": "code",
      "source": [
        "model.compile(\n",
        "    optimizer='adam',\n",
        "    loss=BinaryCrossentropy(),\n",
        "    metrics=['binary_accuracy', 'accuracy']\n",
        ")"
      ],
      "metadata": {
        "id": "-I46hoH7N1xa"
      },
      "execution_count": 518,
      "outputs": []
    },
    {
      "cell_type": "code",
      "source": [
        "# import time\n",
        "\n",
        "# class timecallback(tf.keras.callbacks.Callback):\n",
        "#     def __init__(self):\n",
        "#         self.times = []\n",
        "#         # use this value as reference to calculate cumulative time taken\n",
        "#         self.timetaken = time.process_time()\n",
        "#     def on_epoch_end(self,epoch,logs = {}):\n",
        "#         self.times.append((epoch, time.process_time() - self.timetaken))\n",
        "#     def on_train_end(self,logs = {}):\n",
        "#         plt.xlabel('Epoch')\n",
        "#         plt.ylabel('Total time taken until an epoch in seconds')\n",
        "#         plt.plot(*zip(*self.times))\n",
        "#         plt.show()\n",
        "#         from operator import itemgetter\n",
        "#         previous_time = 0\n",
        "#         for item in self.times:\n",
        "#             print(\"Epoch \", item[0], \" run time is: \", item[1]-previous_time)\n",
        "#             previous_time = item[1]\n",
        "#         print(\"Total trained time is: \", previous_time)"
      ],
      "metadata": {
        "id": "MOEWVrwTVh_Y"
      },
      "execution_count": 519,
      "outputs": []
    },
    {
      "cell_type": "code",
      "source": [
        "# ----------------------------\n",
        "# Traninig the algorithm\n",
        "# ----------------------------\n",
        "\n",
        "# Callbacks\n",
        "early_stopper = EarlyStopping(monitor=\"val_loss\", mode=\"min\", patience=10, verbose=1)\n",
        "csv_logger    = CSVLogger(f\"log_history_{MODEL}_{TYPE_OF_IMAGE}_seed_{current_seed}.csv\", separator=\",\", append=False)\n",
        "# timetaken     = timecallback()\n",
        "\n",
        "print(f\" - training {MODEL}\")\n",
        "\n",
        "history  = model.fit(X_train, y_train, epochs=100, validation_split=0.3, batch_size=16, callbacks=[early_stopper, csv_logger])"
      ],
      "metadata": {
        "colab": {
          "base_uri": "https://localhost:8080/"
        },
        "id": "4AeRCPNnSPX5",
        "outputId": "281ae98c-08ff-4f59-dbb3-efac26e9cdcb"
      },
      "execution_count": 520,
      "outputs": [
        {
          "output_type": "stream",
          "name": "stdout",
          "text": [
            " - training lwcnn\n",
            "Epoch 1/100\n",
            "\u001b[1m23/23\u001b[0m \u001b[32m━━━━━━━━━━━━━━━━━━━━\u001b[0m\u001b[37m\u001b[0m \u001b[1m5s\u001b[0m 114ms/step - accuracy: 0.5804 - binary_accuracy: 0.5804 - loss: 1.0878 - val_accuracy: 0.7792 - val_binary_accuracy: 0.7792 - val_loss: 0.3390\n",
            "Epoch 2/100\n",
            "\u001b[1m23/23\u001b[0m \u001b[32m━━━━━━━━━━━━━━━━━━━━\u001b[0m\u001b[37m\u001b[0m \u001b[1m1s\u001b[0m 24ms/step - accuracy: 0.8149 - binary_accuracy: 0.8149 - loss: 0.3307 - val_accuracy: 0.8377 - val_binary_accuracy: 0.8377 - val_loss: 0.3318\n",
            "Epoch 3/100\n",
            "\u001b[1m23/23\u001b[0m \u001b[32m━━━━━━━━━━━━━━━━━━━━\u001b[0m\u001b[37m\u001b[0m \u001b[1m1s\u001b[0m 22ms/step - accuracy: 0.8667 - binary_accuracy: 0.8667 - loss: 0.2897 - val_accuracy: 0.8961 - val_binary_accuracy: 0.8961 - val_loss: 0.2478\n",
            "Epoch 4/100\n",
            "\u001b[1m23/23\u001b[0m \u001b[32m━━━━━━━━━━━━━━━━━━━━\u001b[0m\u001b[37m\u001b[0m \u001b[1m1s\u001b[0m 19ms/step - accuracy: 0.9025 - binary_accuracy: 0.9025 - loss: 0.2129 - val_accuracy: 0.9026 - val_binary_accuracy: 0.9026 - val_loss: 0.2363\n",
            "Epoch 5/100\n",
            "\u001b[1m23/23\u001b[0m \u001b[32m━━━━━━━━━━━━━━━━━━━━\u001b[0m\u001b[37m\u001b[0m \u001b[1m0s\u001b[0m 19ms/step - accuracy: 0.9272 - binary_accuracy: 0.9272 - loss: 0.1760 - val_accuracy: 0.9026 - val_binary_accuracy: 0.9026 - val_loss: 0.2872\n",
            "Epoch 6/100\n",
            "\u001b[1m23/23\u001b[0m \u001b[32m━━━━━━━━━━━━━━━━━━━━\u001b[0m\u001b[37m\u001b[0m \u001b[1m1s\u001b[0m 23ms/step - accuracy: 0.9419 - binary_accuracy: 0.9419 - loss: 0.1336 - val_accuracy: 0.9026 - val_binary_accuracy: 0.9026 - val_loss: 0.2914\n",
            "Epoch 7/100\n",
            "\u001b[1m23/23\u001b[0m \u001b[32m━━━━━━━━━━━━━━━━━━━━\u001b[0m\u001b[37m\u001b[0m \u001b[1m1s\u001b[0m 19ms/step - accuracy: 0.9682 - binary_accuracy: 0.9682 - loss: 0.0999 - val_accuracy: 0.8961 - val_binary_accuracy: 0.8961 - val_loss: 0.3404\n",
            "Epoch 8/100\n",
            "\u001b[1m23/23\u001b[0m \u001b[32m━━━━━━━━━━━━━━━━━━━━\u001b[0m\u001b[37m\u001b[0m \u001b[1m0s\u001b[0m 19ms/step - accuracy: 0.9653 - binary_accuracy: 0.9653 - loss: 0.0812 - val_accuracy: 0.8961 - val_binary_accuracy: 0.8961 - val_loss: 0.2716\n",
            "Epoch 9/100\n",
            "\u001b[1m23/23\u001b[0m \u001b[32m━━━━━━━━━━━━━━━━━━━━\u001b[0m\u001b[37m\u001b[0m \u001b[1m1s\u001b[0m 22ms/step - accuracy: 0.9553 - binary_accuracy: 0.9553 - loss: 0.1181 - val_accuracy: 0.9026 - val_binary_accuracy: 0.9026 - val_loss: 0.4426\n",
            "Epoch 10/100\n",
            "\u001b[1m23/23\u001b[0m \u001b[32m━━━━━━━━━━━━━━━━━━━━\u001b[0m\u001b[37m\u001b[0m \u001b[1m1s\u001b[0m 20ms/step - accuracy: 0.9763 - binary_accuracy: 0.9763 - loss: 0.0620 - val_accuracy: 0.8896 - val_binary_accuracy: 0.8896 - val_loss: 0.5104\n",
            "Epoch 11/100\n",
            "\u001b[1m23/23\u001b[0m \u001b[32m━━━━━━━━━━━━━━━━━━━━\u001b[0m\u001b[37m\u001b[0m \u001b[1m1s\u001b[0m 25ms/step - accuracy: 0.9643 - binary_accuracy: 0.9643 - loss: 0.0903 - val_accuracy: 0.8896 - val_binary_accuracy: 0.8896 - val_loss: 0.4165\n",
            "Epoch 12/100\n",
            "\u001b[1m23/23\u001b[0m \u001b[32m━━━━━━━━━━━━━━━━━━━━\u001b[0m\u001b[37m\u001b[0m \u001b[1m1s\u001b[0m 24ms/step - accuracy: 0.9778 - binary_accuracy: 0.9778 - loss: 0.0538 - val_accuracy: 0.8896 - val_binary_accuracy: 0.8896 - val_loss: 0.6558\n",
            "Epoch 13/100\n",
            "\u001b[1m23/23\u001b[0m \u001b[32m━━━━━━━━━━━━━━━━━━━━\u001b[0m\u001b[37m\u001b[0m \u001b[1m1s\u001b[0m 25ms/step - accuracy: 0.9804 - binary_accuracy: 0.9804 - loss: 0.0609 - val_accuracy: 0.9221 - val_binary_accuracy: 0.9221 - val_loss: 0.2778\n",
            "Epoch 14/100\n",
            "\u001b[1m23/23\u001b[0m \u001b[32m━━━━━━━━━━━━━━━━━━━━\u001b[0m\u001b[37m\u001b[0m \u001b[1m1s\u001b[0m 23ms/step - accuracy: 0.9763 - binary_accuracy: 0.9763 - loss: 0.0644 - val_accuracy: 0.8961 - val_binary_accuracy: 0.8961 - val_loss: 0.4415\n",
            "Epoch 14: early stopping\n"
          ]
        }
      ]
    },
    {
      "cell_type": "code",
      "source": [
        "# ----------------------------\n",
        "# Evaluating predictions\n",
        "# ----------------------------\n",
        "print(\" - Evaluating DL model\")\n",
        "predictions = model.predict(X_test)\n",
        "rounded_predictions = np.round(predictions)\n",
        "# print(rounded_predictions)"
      ],
      "metadata": {
        "id": "tHzSdLrRPMsP",
        "colab": {
          "base_uri": "https://localhost:8080/"
        },
        "outputId": "f0fcff9b-0180-4974-8a62-113a3468f75c"
      },
      "execution_count": 521,
      "outputs": [
        {
          "output_type": "stream",
          "name": "stdout",
          "text": [
            " - Evaluating DL model\n",
            "\u001b[1m7/7\u001b[0m \u001b[32m━━━━━━━━━━━━━━━━━━━━\u001b[0m\u001b[37m\u001b[0m \u001b[1m1s\u001b[0m 47ms/step\n"
          ]
        }
      ]
    },
    {
      "cell_type": "code",
      "source": [
        "cm = confusion_matrix(y_test, rounded_predictions)\n",
        "disp = ConfusionMatrixDisplay(confusion_matrix=cm)\n",
        "disp.plot()"
      ],
      "metadata": {
        "id": "8aihOe8uwv7k",
        "colab": {
          "base_uri": "https://localhost:8080/",
          "height": 466
        },
        "outputId": "b7d15866-0c1e-4ecc-9938-99e966986bd2"
      },
      "execution_count": 522,
      "outputs": [
        {
          "output_type": "execute_result",
          "data": {
            "text/plain": [
              "<sklearn.metrics._plot.confusion_matrix.ConfusionMatrixDisplay at 0x78d767b17190>"
            ]
          },
          "metadata": {},
          "execution_count": 522
        },
        {
          "output_type": "display_data",
          "data": {
            "text/plain": [
              "<Figure size 640x480 with 2 Axes>"
            ],
            "image/png": "[encoded data removed]"
          },
          "metadata": {}
        }
      ]
    },
    {
      "cell_type": "code",
      "source": [
        "# ----------------------------\n",
        "# evaluating with scikit learn metrics\n",
        "# ----------------------------\n",
        "acc = accuracy_score(y_test, rounded_predictions)\n",
        "bac = balanced_accuracy_score(y_test, rounded_predictions)\n",
        "f1s = f1_score(y_test, rounded_predictions)\n",
        "print(\"----------------------------\")\n",
        "print(\"acc = \", acc)\n",
        "print(\"bac = \", bac)\n",
        "print(\"f1c = \", f1s)\n",
        "print(\"----------------------------\")\n",
        "\n",
        "performances = ([acc, bac, f1s, current_seed, TYPE_OF_IMAGE, MODEL])\n",
        "print(performances)\n",
        "df_performances = pd.DataFrame(performances).transpose()\n",
        "df_performances.columns = ['accuracy', 'balanced_accuracy', 'fscore', 'seed', 'type_of_image', 'model']\n",
        "df_performances.to_csv(f\"performances_{MODEL}_{TYPE_OF_IMAGE}_seed_{current_seed}.csv\", index = False)\n",
        "df_performances.head()"
      ],
      "metadata": {
        "id": "KXJz3hi3PQHA",
        "colab": {
          "base_uri": "https://localhost:8080/",
          "height": 205
        },
        "outputId": "ce8be352-475e-45f6-aa29-2af731cb5868"
      },
      "execution_count": 523,
      "outputs": [
        {
          "output_type": "stream",
          "name": "stdout",
          "text": [
            "----------------------------\n",
            "acc =  0.8818181818181818\n",
            "bac =  0.8340874811463047\n",
            "f1c =  0.7450980392156863\n",
            "----------------------------\n",
            "[0.8818181818181818, np.float64(0.8340874811463047), 0.7450980392156863, 42, 'raw', 'lwcnn']\n"
          ]
        },
        {
          "output_type": "execute_result",
          "data": {
            "text/plain": [
              "   accuracy balanced_accuracy    fscore seed type_of_image  model\n",
              "0  0.881818          0.834087  0.745098   42           raw  lwcnn"
            ],
            "text/html": [
              "\n",
              "  <div id=\"df-84a3c3f1-16ba-44fc-9735-d58609aba6f4\" class=\"colab-df-container\">\n",
              "    <div>\n",
              "<style scoped>\n",
              "    .dataframe tbody tr th:only-of-type {\n",
              "        vertical-align: middle;\n",
              "    }\n",
              "\n",
              "    .dataframe tbody tr th {\n",
              "        vertical-align: top;\n",
              "    }\n",
              "\n",
              "    .dataframe thead th {\n",
              "        text-align: right;\n",
              "    }\n",
              "</style>\n",
              "<table border=\"1\" class=\"dataframe\">\n",
              "  <thead>\n",
              "    <tr style=\"text-align: right;\">\n",
              "      <th></th>\n",
              "      <th>accuracy</th>\n",
              "      <th>balanced_accuracy</th>\n",
              "      <th>fscore</th>\n",
              "      <th>seed</th>\n",
              "      <th>type_of_image</th>\n",
              "      <th>model</th>\n",
              "    </tr>\n",
              "  </thead>\n",
              "  <tbody>\n",
              "    <tr>\n",
              "      <th>0</th>\n",
              "      <td>0.881818</td>\n",
              "      <td>0.834087</td>\n",
              "      <td>0.745098</td>\n",
              "      <td>42</td>\n",
              "      <td>raw</td>\n",
              "      <td>lwcnn</td>\n",
              "    </tr>\n",
              "  </tbody>\n",
              "</table>\n",
              "</div>\n",
              "    <div class=\"colab-df-buttons\">\n",
              "\n",
              "  <div class=\"colab-df-container\">\n",
              "    <button class=\"colab-df-convert\" onclick=\"convertToInteractive('df-84a3c3f1-16ba-44fc-9735-d58609aba6f4')\"\n",
              "            title=\"Convert this dataframe to an interactive table.\"\n",
              "            style=\"display:none;\">\n",
              "\n",
              "  <svg xmlns=\"http://www.w3.org/2000/svg\" height=\"24px\" viewBox=\"0 -960 960 960\">\n",
              "    <path d=\"M120-120v-720h720v720H120Zm60-500h600v-160H180v160Zm220 220h160v-160H400v160Zm0 220h160v-160H400v160ZM180-400h160v-160H180v160Zm440 0h160v-160H620v160ZM180-180h160v-160H180v160Zm440 0h160v-160H620v160Z\"/>\n",
              "  </svg>\n",
              "    </button>\n",
              "\n",
              "  <style>\n",
              "    .colab-df-container {\n",
              "      display:flex;\n",
              "      gap: 12px;\n",
              "    }\n",
              "\n",
              "    .colab-df-convert {\n",
              "      background-color: #E8F0FE;\n",
              "      border: none;\n",
              "      border-radius: 50%;\n",
              "      cursor: pointer;\n",
              "      display: none;\n",
              "      fill: #1967D2;\n",
              "      height: 32px;\n",
              "      padding: 0 0 0 0;\n",
              "      width: 32px;\n",
              "    }\n",
              "\n",
              "    .colab-df-convert:hover {\n",
              "      background-color: #E2EBFA;\n",
              "      box-shadow: 0px 1px 2px rgba(60, 64, 67, 0.3), 0px 1px 3px 1px rgba(60, 64, 67, 0.15);\n",
              "      fill: #174EA6;\n",
              "    }\n",
              "\n",
              "    .colab-df-buttons div {\n",
              "      margin-bottom: 4px;\n",
              "    }\n",
              "\n",
              "    [theme=dark] .colab-df-convert {\n",
              "      background-color: #3B4455;\n",
              "      fill: #D2E3FC;\n",
              "    }\n",
              "\n",
              "    [theme=dark] .colab-df-convert:hover {\n",
              "      background-color: #434B5C;\n",
              "      box-shadow: 0px 1px 3px 1px rgba(0, 0, 0, 0.15);\n",
              "      filter: drop-shadow(0px 1px 2px rgba(0, 0, 0, 0.3));\n",
              "      fill: #FFFFFF;\n",
              "    }\n",
              "  </style>\n",
              "\n",
              "    <script>\n",
              "      const buttonEl =\n",
              "        document.querySelector('#df-84a3c3f1-16ba-44fc-9735-d58609aba6f4 button.colab-df-convert');\n",
              "      buttonEl.style.display =\n",
              "        google.colab.kernel.accessAllowed ? 'block' : 'none';\n",
              "\n",
              "      async function convertToInteractive(key) {\n",
              "        const element = document.querySelector('#df-84a3c3f1-16ba-44fc-9735-d58609aba6f4');\n",
              "        const dataTable =\n",
              "          await google.colab.kernel.invokeFunction('convertToInteractive',\n",
              "                                                    [key], {});\n",
              "        if (!dataTable) return;\n",
              "\n",
              "        const docLinkHtml = 'Like what you see? Visit the ' +\n",
              "          '<a target=\"_blank\" href=https://colab.research.google.com/notebooks/data_table.ipynb>data table notebook</a>'\n",
              "          + ' to learn more about interactive tables.';\n",
              "        element.innerHTML = '';\n",
              "        dataTable['output_type'] = 'display_data';\n",
              "        await google.colab.output.renderOutput(dataTable, element);\n",
              "        const docLink = document.createElement('div');\n",
              "        docLink.innerHTML = docLinkHtml;\n",
              "        element.appendChild(docLink);\n",
              "      }\n",
              "    </script>\n",
              "  </div>\n",
              "\n",
              "\n",
              "    </div>\n",
              "  </div>\n"
            ],
            "application/vnd.google.colaboratory.intrinsic+json": {
              "type": "dataframe",
              "variable_name": "df_performances",
              "summary": "{\n  \"name\": \"df_performances\",\n  \"rows\": 1,\n  \"fields\": [\n    {\n      \"column\": \"accuracy\",\n      \"properties\": {\n        \"dtype\": \"date\",\n        \"min\": 0.8818181818181818,\n        \"max\": 0.8818181818181818,\n        \"num_unique_values\": 1,\n        \"samples\": [\n          0.8818181818181818\n        ],\n        \"semantic_type\": \"\",\n        \"description\": \"\"\n      }\n    },\n    {\n      \"column\": \"balanced_accuracy\",\n      \"properties\": {\n        \"dtype\": \"date\",\n        \"min\": 0.8340874811463047,\n        \"max\": 0.8340874811463047,\n        \"num_unique_values\": 1,\n        \"samples\": [\n          0.8340874811463047\n        ],\n        \"semantic_type\": \"\",\n        \"description\": \"\"\n      }\n    },\n    {\n      \"column\": \"fscore\",\n      \"properties\": {\n        \"dtype\": \"date\",\n        \"min\": 0.7450980392156863,\n        \"max\": 0.7450980392156863,\n        \"num_unique_values\": 1,\n        \"samples\": [\n          0.7450980392156863\n        ],\n        \"semantic_type\": \"\",\n        \"description\": \"\"\n      }\n    },\n    {\n      \"column\": \"seed\",\n      \"properties\": {\n        \"dtype\": \"date\",\n        \"min\": 42,\n        \"max\": 42,\n        \"num_unique_values\": 1,\n        \"samples\": [\n          42\n        ],\n        \"semantic_type\": \"\",\n        \"description\": \"\"\n      }\n    },\n    {\n      \"column\": \"type_of_image\",\n      \"properties\": {\n        \"dtype\": \"string\",\n        \"num_unique_values\": 1,\n        \"samples\": [\n          \"raw\"\n        ],\n        \"semantic_type\": \"\",\n        \"description\": \"\"\n      }\n    },\n    {\n      \"column\": \"model\",\n      \"properties\": {\n        \"dtype\": \"string\",\n        \"num_unique_values\": 1,\n        \"samples\": [\n          \"lwcnn\"\n        ],\n        \"semantic_type\": \"\",\n        \"description\": \"\"\n      }\n    }\n  ]\n}"
            }
          },
          "metadata": {},
          "execution_count": 523
        }
      ]
    },
    {
      "cell_type": "code",
      "source": [
        "# -----------------------------------------------------------\n",
        "# adding predictions to a data frame\n",
        "# -----------------------------------------------------------\n",
        "\n",
        "df_x_test_files = pd.DataFrame(x_test_files)\n",
        "df_pred  = pd.DataFrame(rounded_predictions)\n",
        "df_label = pd.DataFrame(y_test)\n",
        "df_merged = pd.concat([df_x_test_files, df_pred, df_label], axis = 1)\n",
        "df_merged.columns = ['filepath', 'predictions', 'labels']\n",
        "df_merged.to_csv(f\"predictions_{MODEL}_{TYPE_OF_IMAGE}_seed_{current_seed}.csv\", index = False)\n",
        "df_merged.head()\n",
        "\n",
        "# -----------------------------------------------------------\n",
        "# -----------------------------------------------------------"
      ],
      "metadata": {
        "id": "L7hp4RV34STs",
        "colab": {
          "base_uri": "https://localhost:8080/",
          "height": 206
        },
        "outputId": "268f785f-529e-4ef0-b9f5-d7f8b3e9c7b6"
      },
      "execution_count": 524,
      "outputs": [
        {
          "output_type": "execute_result",
          "data": {
            "text/plain": [
              "                                            filepath  predictions  labels\n",
              "0  /content/thermalImagesClassification/data/saud...          0.0     0.0\n",
              "1  /content/thermalImagesClassification/data/saud...          0.0     0.0\n",
              "2  /content/thermalImagesClassification/data/saud...          0.0     0.0\n",
              "3  /content/thermalImagesClassification/data/saud...          0.0     0.0\n",
              "4  /content/thermalImagesClassification/data/diag...          1.0     1.0"
            ],
            "text/html": [
              "\n",
              "  <div id=\"df-bc17b9ee-1078-4078-b127-e3fd2a096d90\" class=\"colab-df-container\">\n",
              "    <div>\n",
              "<style scoped>\n",
              "    .dataframe tbody tr th:only-of-type {\n",
              "        vertical-align: middle;\n",
              "    }\n",
              "\n",
              "    .dataframe tbody tr th {\n",
              "        vertical-align: top;\n",
              "    }\n",
              "\n",
              "    .dataframe thead th {\n",
              "        text-align: right;\n",
              "    }\n",
              "</style>\n",
              "<table border=\"1\" class=\"dataframe\">\n",
              "  <thead>\n",
              "    <tr style=\"text-align: right;\">\n",
              "      <th></th>\n",
              "      <th>filepath</th>\n",
              "      <th>predictions</th>\n",
              "      <th>labels</th>\n",
              "    </tr>\n",
              "  </thead>\n",
              "  <tbody>\n",
              "    <tr>\n",
              "      <th>0</th>\n",
              "      <td>/content/thermalImagesClassification/data/saud...</td>\n",
              "      <td>0.0</td>\n",
              "      <td>0.0</td>\n",
              "    </tr>\n",
              "    <tr>\n",
              "      <th>1</th>\n",
              "      <td>/content/thermalImagesClassification/data/saud...</td>\n",
              "      <td>0.0</td>\n",
              "      <td>0.0</td>\n",
              "    </tr>\n",
              "    <tr>\n",
              "      <th>2</th>\n",
              "      <td>/content/thermalImagesClassification/data/saud...</td>\n",
              "      <td>0.0</td>\n",
              "      <td>0.0</td>\n",
              "    </tr>\n",
              "    <tr>\n",
              "      <th>3</th>\n",
              "      <td>/content/thermalImagesClassification/data/saud...</td>\n",
              "      <td>0.0</td>\n",
              "      <td>0.0</td>\n",
              "    </tr>\n",
              "    <tr>\n",
              "      <th>4</th>\n",
              "      <td>/content/thermalImagesClassification/data/diag...</td>\n",
              "      <td>1.0</td>\n",
              "      <td>1.0</td>\n",
              "    </tr>\n",
              "  </tbody>\n",
              "</table>\n",
              "</div>\n",
              "    <div class=\"colab-df-buttons\">\n",
              "\n",
              "  <div class=\"colab-df-container\">\n",
              "    <button class=\"colab-df-convert\" onclick=\"convertToInteractive('df-bc17b9ee-1078-4078-b127-e3fd2a096d90')\"\n",
              "            title=\"Convert this dataframe to an interactive table.\"\n",
              "            style=\"display:none;\">\n",
              "\n",
              "  <svg xmlns=\"http://www.w3.org/2000/svg\" height=\"24px\" viewBox=\"0 -960 960 960\">\n",
              "    <path d=\"M120-120v-720h720v720H120Zm60-500h600v-160H180v160Zm220 220h160v-160H400v160Zm0 220h160v-160H400v160ZM180-400h160v-160H180v160Zm440 0h160v-160H620v160ZM180-180h160v-160H180v160Zm440 0h160v-160H620v160Z\"/>\n",
              "  </svg>\n",
              "    </button>\n",
              "\n",
              "  <style>\n",
              "    .colab-df-container {\n",
              "      display:flex;\n",
              "      gap: 12px;\n",
              "    }\n",
              "\n",
              "    .colab-df-convert {\n",
              "      background-color: #E8F0FE;\n",
              "      border: none;\n",
              "      border-radius: 50%;\n",
              "      cursor: pointer;\n",
              "      display: none;\n",
              "      fill: #1967D2;\n",
              "      height: 32px;\n",
              "      padding: 0 0 0 0;\n",
              "      width: 32px;\n",
              "    }\n",
              "\n",
              "    .colab-df-convert:hover {\n",
              "      background-color: #E2EBFA;\n",
              "      box-shadow: 0px 1px 2px rgba(60, 64, 67, 0.3), 0px 1px 3px 1px rgba(60, 64, 67, 0.15);\n",
              "      fill: #174EA6;\n",
              "    }\n",
              "\n",
              "    .colab-df-buttons div {\n",
              "      margin-bottom: 4px;\n",
              "    }\n",
              "\n",
              "    [theme=dark] .colab-df-convert {\n",
              "      background-color: #3B4455;\n",
              "      fill: #D2E3FC;\n",
              "    }\n",
              "\n",
              "    [theme=dark] .colab-df-convert:hover {\n",
              "      background-color: #434B5C;\n",
              "      box-shadow: 0px 1px 3px 1px rgba(0, 0, 0, 0.15);\n",
              "      filter: drop-shadow(0px 1px 2px rgba(0, 0, 0, 0.3));\n",
              "      fill: #FFFFFF;\n",
              "    }\n",
              "  </style>\n",
              "\n",
              "    <script>\n",
              "      const buttonEl =\n",
              "        document.querySelector('#df-bc17b9ee-1078-4078-b127-e3fd2a096d90 button.colab-df-convert');\n",
              "      buttonEl.style.display =\n",
              "        google.colab.kernel.accessAllowed ? 'block' : 'none';\n",
              "\n",
              "      async function convertToInteractive(key) {\n",
              "        const element = document.querySelector('#df-bc17b9ee-1078-4078-b127-e3fd2a096d90');\n",
              "        const dataTable =\n",
              "          await google.colab.kernel.invokeFunction('convertToInteractive',\n",
              "                                                    [key], {});\n",
              "        if (!dataTable) return;\n",
              "\n",
              "        const docLinkHtml = 'Like what you see? Visit the ' +\n",
              "          '<a target=\"_blank\" href=https://colab.research.google.com/notebooks/data_table.ipynb>data table notebook</a>'\n",
              "          + ' to learn more about interactive tables.';\n",
              "        element.innerHTML = '';\n",
              "        dataTable['output_type'] = 'display_data';\n",
              "        await google.colab.output.renderOutput(dataTable, element);\n",
              "        const docLink = document.createElement('div');\n",
              "        docLink.innerHTML = docLinkHtml;\n",
              "        element.appendChild(docLink);\n",
              "      }\n",
              "    </script>\n",
              "  </div>\n",
              "\n",
              "\n",
              "<div id=\"df-20dc8bd6-b74f-48b6-bf43-4efd03d5b6ba\">\n",
              "  <button class=\"colab-df-quickchart\" onclick=\"quickchart('df-20dc8bd6-b74f-48b6-bf43-4efd03d5b6ba')\"\n",
              "            title=\"Suggest charts\"\n",
              "            style=\"display:none;\">\n",
              "\n",
              "<svg xmlns=\"http://www.w3.org/2000/svg\" height=\"24px\"viewBox=\"0 0 24 24\"\n",
              "     width=\"24px\">\n",
              "    <g>\n",
              "        <path d=\"M19 3H5c-1.1 0-2 .9-2 2v14c0 1.1.9 2 2 2h14c1.1 0 2-.9 2-2V5c0-1.1-.9-2-2-2zM9 17H7v-7h2v7zm4 0h-2V7h2v10zm4 0h-2v-4h2v4z\"/>\n",
              "    </g>\n",
              "</svg>\n",
              "  </button>\n",
              "\n",
              "<style>\n",
              "  .colab-df-quickchart {\n",
              "      --bg-color: #E8F0FE;\n",
              "      --fill-color: #1967D2;\n",
              "      --hover-bg-color: #E2EBFA;\n",
              "      --hover-fill-color: #174EA6;\n",
              "      --disabled-fill-color: #AAA;\n",
              "      --disabled-bg-color: #DDD;\n",
              "  }\n",
              "\n",
              "  [theme=dark] .colab-df-quickchart {\n",
              "      --bg-color: #3B4455;\n",
              "      --fill-color: #D2E3FC;\n",
              "      --hover-bg-color: #434B5C;\n",
              "      --hover-fill-color: #FFFFFF;\n",
              "      --disabled-bg-color: #3B4455;\n",
              "      --disabled-fill-color: #666;\n",
              "  }\n",
              "\n",
              "  .colab-df-quickchart {\n",
              "    background-color: var(--bg-color);\n",
              "    border: none;\n",
              "    border-radius: 50%;\n",
              "    cursor: pointer;\n",
              "    display: none;\n",
              "    fill: var(--fill-color);\n",
              "    height: 32px;\n",
              "    padding: 0;\n",
              "    width: 32px;\n",
              "  }\n",
              "\n",
              "  .colab-df-quickchart:hover {\n",
              "    background-color: var(--hover-bg-color);\n",
              "    box-shadow: 0 1px 2px rgba(60, 64, 67, 0.3), 0 1px 3px 1px rgba(60, 64, 67, 0.15);\n",
              "    fill: var(--button-hover-fill-color);\n",
              "  }\n",
              "\n",
              "  .colab-df-quickchart-complete:disabled,\n",
              "  .colab-df-quickchart-complete:disabled:hover {\n",
              "    background-color: var(--disabled-bg-color);\n",
              "    fill: var(--disabled-fill-color);\n",
              "    box-shadow: none;\n",
              "  }\n",
              "\n",
              "  .colab-df-spinner {\n",
              "    border: 2px solid var(--fill-color);\n",
              "    border-color: transparent;\n",
              "    border-bottom-color: var(--fill-color);\n",
              "    animation:\n",
              "      spin 1s steps(1) infinite;\n",
              "  }\n",
              "\n",
              "  @keyframes spin {\n",
              "    0% {\n",
              "      border-color: transparent;\n",
              "      border-bottom-color: var(--fill-color);\n",
              "      border-left-color: var(--fill-color);\n",
              "    }\n",
              "    20% {\n",
              "      border-color: transparent;\n",
              "      border-left-color: var(--fill-color);\n",
              "      border-top-color: var(--fill-color);\n",
              "    }\n",
              "    30% {\n",
              "      border-color: transparent;\n",
              "      border-left-color: var(--fill-color);\n",
              "      border-top-color: var(--fill-color);\n",
              "      border-right-color: var(--fill-color);\n",
              "    }\n",
              "    40% {\n",
              "      border-color: transparent;\n",
              "      border-right-color: var(--fill-color);\n",
              "      border-top-color: var(--fill-color);\n",
              "    }\n",
              "    60% {\n",
              "      border-color: transparent;\n",
              "      border-right-color: var(--fill-color);\n",
              "    }\n",
              "    80% {\n",
              "      border-color: transparent;\n",
              "      border-right-color: var(--fill-color);\n",
              "      border-bottom-color: var(--fill-color);\n",
              "    }\n",
              "    90% {\n",
              "      border-color: transparent;\n",
              "      border-bottom-color: var(--fill-color);\n",
              "    }\n",
              "  }\n",
              "</style>\n",
              "\n",
              "  <script>\n",
              "    async function quickchart(key) {\n",
              "      const quickchartButtonEl =\n",
              "        document.querySelector('#' + key + ' button');\n",
              "      quickchartButtonEl.disabled = true;  // To prevent multiple clicks.\n",
              "      quickchartButtonEl.classList.add('colab-df-spinner');\n",
              "      try {\n",
              "        const charts = await google.colab.kernel.invokeFunction(\n",
              "            'suggestCharts', [key], {});\n",
              "      } catch (error) {\n",
              "        console.error('Error during call to suggestCharts:', error);\n",
              "      }\n",
              "      quickchartButtonEl.classList.remove('colab-df-spinner');\n",
              "      quickchartButtonEl.classList.add('colab-df-quickchart-complete');\n",
              "    }\n",
              "    (() => {\n",
              "      let quickchartButtonEl =\n",
              "        document.querySelector('#df-20dc8bd6-b74f-48b6-bf43-4efd03d5b6ba button');\n",
              "      quickchartButtonEl.style.display =\n",
              "        google.colab.kernel.accessAllowed ? 'block' : 'none';\n",
              "    })();\n",
              "  </script>\n",
              "</div>\n",
              "\n",
              "    </div>\n",
              "  </div>\n"
            ],
            "application/vnd.google.colaboratory.intrinsic+json": {
              "type": "dataframe",
              "summary": "{\n  \"name\": \"# -----------------------------------------------------------\",\n  \"rows\": 5,\n  \"fields\": [\n    {\n      \"column\": \"filepath\",\n      \"properties\": {\n        \"dtype\": \"string\",\n        \"num_unique_values\": 5,\n        \"samples\": [\n          \"/content/thermalImagesClassification/data/saudaveis/tibia_em_pe/Em_pe_30.csv\",\n          \"/content/thermalImagesClassification/data/diagnosticos/pseudoartrose/pseudoartrose_de_tibia/pessoa15/pessoa15_avaliacao01.csv\",\n          \"/content/thermalImagesClassification/data/saudaveis/tibia_deitado/Deitado_122.csv\"\n        ],\n        \"semantic_type\": \"\",\n        \"description\": \"\"\n      }\n    },\n    {\n      \"column\": \"predictions\",\n      \"properties\": {\n        \"dtype\": \"float32\",\n        \"num_unique_values\": 2,\n        \"samples\": [\n          1.0,\n          0.0\n        ],\n        \"semantic_type\": \"\",\n        \"description\": \"\"\n      }\n    },\n    {\n      \"column\": \"labels\",\n      \"properties\": {\n        \"dtype\": \"number\",\n        \"std\": 0.447213595499958,\n        \"min\": 0.0,\n        \"max\": 1.0,\n        \"num_unique_values\": 2,\n        \"samples\": [\n          1.0,\n          0.0\n        ],\n        \"semantic_type\": \"\",\n        \"description\": \"\"\n      }\n    }\n  ]\n}"
            }
          },
          "metadata": {},
          "execution_count": 524
        }
      ]
    },
    {
      "cell_type": "code",
      "source": [
        "print(\"Finished !!! :) \")"
      ],
      "metadata": {
        "id": "hfLrwQXHObmn",
        "colab": {
          "base_uri": "https://localhost:8080/"
        },
        "outputId": "ccc49353-c5f0-41b6-f54e-7111a0df13ef"
      },
      "execution_count": 525,
      "outputs": [
        {
          "output_type": "stream",
          "name": "stdout",
          "text": [
            "Finished !!! :) \n"
          ]
        }
      ]
    }
  ]
}