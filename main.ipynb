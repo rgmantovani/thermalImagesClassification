{
  "cells": [
    {
      "cell_type": "code",
      "execution_count": null,
      "metadata": {
        "colab": {
          "base_uri": "https://localhost:8080/"
        },
        "id": "7URxc_x0gTPY",
        "outputId": "792df354-82aa-47c3-a613-45bae77cc00f"
      },
      "outputs": [
        {
          "output_type": "stream",
          "name": "stdout",
          "text": [
            "fatal: destination path 'thermalImagesClassification' already exists and is not an empty directory.\n"
          ]
        }
      ],
      "source": [
        "# Cloning repository with the data for the experiment\n",
        "# data -> thermalImagesClassificatoin/data/ ...\n",
        "\n",
        "!git clone https://github.com/rgmantovani/thermalImagesClassification.git"
      ]
    },
    {
      "cell_type": "code",
      "execution_count": null,
      "metadata": {
        "id": "4xMGUGtSh1yk"
      },
      "outputs": [],
      "source": [
        "import os\n",
        "import glob\n",
        "import pandas as pd\n",
        "import matplotlib.pyplot as plt\n",
        "import numpy as np\n",
        "import cv2 #opencv in pyhton\n",
        "from google.colab.patches import cv2_imshow\n",
        "from sklearn.model_selection import train_test_split\n",
        "from tensorflow import keras"
      ]
    },
    {
      "cell_type": "code",
      "execution_count": null,
      "metadata": {
        "id": "F6bokcYQvuk4"
      },
      "outputs": [],
      "source": [
        "# For help: https://github.com/ribeiro-julio/crop-image-classification/blob/main/scripts/04_running_CNN.py\n",
        "\n",
        "from tensorflow.keras import layers, models\n",
        "from tensorflow.keras.losses import BinaryCrossentropy\n",
        "from tensorflow.keras.callbacks import EarlyStopping, CSVLogger\n",
        "\n",
        "from tensorflow.keras.applications import VGG19, ResNet50\n",
        "\n",
        "from sklearn.metrics import accuracy_score, balanced_accuracy_score, f1_score\n",
        "from sklearn.metrics import confusion_matrix, ConfusionMatrixDisplay"
      ]
    },
    {
      "cell_type": "code",
      "source": [
        "# For data augmentation\n",
        "import albumentations as A"
      ],
      "metadata": {
        "id": "6cjrRtAP6ni3"
      },
      "execution_count": null,
      "outputs": []
    },
    {
      "cell_type": "code",
      "execution_count": null,
      "metadata": {
        "colab": {
          "base_uri": "https://localhost:8080/"
        },
        "id": "_LoENFjTwFNt",
        "outputId": "f5fd772b-83a4-4ef6-b09c-be67cc1f8640"
      },
      "outputs": [
        {
          "output_type": "stream",
          "name": "stdout",
          "text": [
            "Seed:  51\n"
          ]
        }
      ],
      "source": [
        "# ----------------------------\n",
        "# ----------------------------\n",
        "\n",
        "# constant for experiment\n",
        "num_classes = 2\n",
        "\n",
        "# TYPE_OF_IMAGE = \"raw\"\n",
        "TYPE_OF_IMAGE = \"rgb\"\n",
        "# TYPE_OF_IMAGE = \"gray\"\n",
        "\n",
        "# MODEL = \"cnn\"\n",
        "# MODEL = \"vgg19\"\n",
        "# MODEL = \"lwcnn\"\n",
        "MODEL = \"resnet\"\n",
        "\n",
        "DATA_AUGMENTATION = True\n",
        "# DATA_AUGMENTATION = False\n",
        "\n",
        "# ----------------------------\n",
        "# Set the seed using keras.utils.set_random_seed. This will set:\n",
        "# 1) `numpy` seed\n",
        "# 2) `tensorflow` random seed\n",
        "# 3) `python` random seed\n",
        "# ----------------------------\n",
        "\n",
        "SEEDS = [404, 666, 42, 171, 51]\n",
        "current_seed = SEEDS[4]\n",
        "print(\"Seed: \", current_seed)\n",
        "\n",
        "keras.utils.set_random_seed(current_seed)"
      ]
    },
    {
      "cell_type": "code",
      "execution_count": null,
      "metadata": {
        "id": "SDxykhpvhqZB"
      },
      "outputs": [],
      "source": [
        "# data directory\n",
        "health_dir = \"/content/thermalImagesClassification/data/saudaveis\"\n",
        "osteo_dir  = \"/content/thermalImagesClassification/data/diagnosticos\""
      ]
    },
    {
      "cell_type": "code",
      "execution_count": null,
      "metadata": {
        "id": "e1D3nEPhhzd0"
      },
      "outputs": [],
      "source": [
        "# loading filepaths\n",
        "csv_files_health = glob.glob(os.path.join(health_dir, \"**\",\"*.csv\"),recursive=True)\n",
        "csv_files_osteo  = glob.glob(os.path.join(osteo_dir, \"**\", \"*.csv\"),recursive=True)"
      ]
    },
    {
      "cell_type": "code",
      "execution_count": null,
      "metadata": {
        "colab": {
          "base_uri": "https://localhost:8080/"
        },
        "id": "meo2HC1Ch92o",
        "outputId": "4f41360d-719c-4ee0-f74b-fc425422844b"
      },
      "outputs": [
        {
          "output_type": "stream",
          "name": "stdout",
          "text": [
            "/content/thermalImagesClassification/data/saudaveis/tibia_em_pe/Em_pe_101.csv\n"
          ]
        }
      ],
      "source": [
        "raw_file = csv_files_health[0]\n",
        "print(raw_file)"
      ]
    },
    {
      "cell_type": "code",
      "execution_count": null,
      "metadata": {
        "id": "rP1BezXF9z_G"
      },
      "outputs": [],
      "source": [
        "# ----------------------------------------------------------------------------\n",
        "# Creating labels\n",
        "# ----------------------------------------------------------------------------\n",
        "Y_healthy = np.zeros(len(csv_files_health))\n",
        "Y_osteo  = np.ones(len(csv_files_osteo))\n",
        "\n",
        "# concatenating values\n",
        "Y = np.concatenate((Y_healthy, Y_osteo))\n",
        "# print(Y)\n",
        "\n",
        "# ----------------------------------------------------------------------------\n",
        "# ----------------------------------------------------------------------------"
      ]
    },
    {
      "cell_type": "code",
      "execution_count": null,
      "metadata": {
        "id": "ZOyGjiubGnm_"
      },
      "outputs": [],
      "source": [
        "# --------------------------------------------------------------\n",
        "# Splitting files into training and testing folds\n",
        "# --------------------------------------------------------------\n",
        "all_files = csv_files_health + csv_files_osteo\n",
        "\n",
        "x_train_files, x_test_files, y_train, y_test = train_test_split(all_files,\n",
        "    Y, test_size=0.3, random_state=42, stratify=Y)"
      ]
    },
    {
      "cell_type": "code",
      "execution_count": null,
      "metadata": {
        "id": "c1W0tMX_hqZm",
        "colab": {
          "base_uri": "https://localhost:8080/"
        },
        "outputId": "e0054316-192a-4e75-b908-0d278ede380b"
      },
      "outputs": [
        {
          "output_type": "stream",
          "name": "stdout",
          "text": [
            "Tamanho do X_train: 511\n",
            "Tamanho do X_test: 220\n",
            "Tamanho do y_train: (511,)\n",
            "Tamanho do y_test: (220,)\n"
          ]
        }
      ],
      "source": [
        "print(\"Tamanho do X_train:\", len(x_train_files))\n",
        "print(\"Tamanho do X_test:\", len(x_test_files))\n",
        "print(\"Tamanho do y_train:\", y_train.shape)\n",
        "print(\"Tamanho do y_test:\", y_test.shape)"
      ]
    },
    {
      "cell_type": "code",
      "execution_count": null,
      "metadata": {
        "id": "bfETFxScjll2"
      },
      "outputs": [],
      "source": [
        "# --------------------------------------------------------------\n",
        "# function to plot thermal imagens from raw file\n",
        "# --------------------------------------------------------------\n",
        "\n",
        "def plot_csv_image(csv_file):\n",
        "    data = pd.read_csv(csv_file, header=None)\n",
        "    image_array = data.to_numpy()\n",
        "    plt.imshow(image_array, cmap='inferno', interpolation='nearest')\n",
        "    plt.colorbar()\n",
        "    plt.show()\n"
      ]
    },
    {
      "cell_type": "code",
      "execution_count": null,
      "metadata": {
        "colab": {
          "base_uri": "https://localhost:8080/",
          "height": 441
        },
        "id": "TrzSBdRnX_ML",
        "outputId": "bf974a3f-c919-4ea0-8ef2-9b7555d6861b"
      },
      "outputs": [
        {
          "output_type": "display_data",
          "data": {
            "text/plain": [
              "<Figure size 640x480 with 2 Axes>"
            ],
            "image/png": "[encoded data removed]"
          },
          "metadata": {}
        },
        {
          "output_type": "stream",
          "name": "stdout",
          "text": [
            "/content/thermalImagesClassification/data/saudaveis/tibia_em_pe/Em_pe_49.csv\n",
            "0.0\n"
          ]
        }
      ],
      "source": [
        "plot_csv_image(csv_file=x_train_files[0])\n",
        "# plot_csv_image(csv_file=x_test_files[0])\n",
        "print(x_test_files[0])\n",
        "print(y_test[0])"
      ]
    },
    {
      "cell_type": "code",
      "execution_count": null,
      "metadata": {
        "id": "dCwuHUqejMDk"
      },
      "outputs": [],
      "source": [
        "# --------------------------------------------------------------\n",
        "# function to load thermal images from csv files\n",
        "# --------------------------------------------------------------\n",
        "\n",
        "def load_images_from_csv_files(csv_files):\n",
        "  if not csv_files:\n",
        "    raise Exception(\"No *.csv file was found.\")\n",
        "\n",
        "  raw_images = [pd.read_csv(file).to_numpy() for file in csv_files]\n",
        "  return(raw_images)\n"
      ]
    },
    {
      "cell_type": "code",
      "execution_count": null,
      "metadata": {
        "colab": {
          "base_uri": "https://localhost:8080/"
        },
        "id": "mr9Z3mAVIG-J",
        "outputId": "81d6bc48-fa12-400b-e60b-ea62f86daa3b"
      },
      "outputs": [
        {
          "output_type": "stream",
          "name": "stdout",
          "text": [
            "(239, 320)\n",
            "(239, 320)\n"
          ]
        }
      ],
      "source": [
        "# --------------------------------------------------------------\n",
        "# reading images from files\n",
        "# --------------------------------------------------------------\n",
        "\n",
        "x_train_images = load_images_from_csv_files(csv_files=x_train_files)\n",
        "print(x_train_images[0].shape)\n",
        "\n",
        "x_test_images = load_images_from_csv_files(csv_files=x_test_files)\n",
        "print(x_test_images[0].shape)\n"
      ]
    },
    {
      "cell_type": "code",
      "execution_count": null,
      "metadata": {
        "colab": {
          "base_uri": "https://localhost:8080/",
          "height": 255
        },
        "id": "EAVWOWI5mDiU",
        "outputId": "0c4389d6-cc90-45b5-e291-21b896ece9bd"
      },
      "outputs": [
        {
          "output_type": "execute_result",
          "data": {
            "text/plain": [
              "        0         1         2         3         4         5         6    \\\n",
              "0  25.94025  25.94025  25.84638  25.80985  25.89333  26.06007  26.03924   \n",
              "1  25.88289  25.89333  25.80464  25.82551  25.96631  26.01841  26.06007   \n",
              "2  25.90376  25.85682  25.78376  25.89854  25.98715  26.02882  26.06007   \n",
              "3  25.87246  25.80464  25.86725  25.95588  25.99236  26.02882  26.05486   \n",
              "4  25.84638  25.86725  25.85682  25.97152  26.00799  26.03403  26.05486   \n",
              "\n",
              "        7         8         9    ...       310       311       312       313  \\\n",
              "0  26.07048  26.08089  26.08610  ...  26.13814  26.12773  26.12253  26.10692   \n",
              "1  26.07569  26.08089  26.09130  ...  26.13814  26.12773  26.11732  26.11212   \n",
              "2  26.07569  26.08089  26.09130  ...  26.13814  26.12773  26.11732  26.10692   \n",
              "3  26.07048  26.08089  26.08610  ...  26.13814  26.12773  26.11212  26.10692   \n",
              "4  26.06527  26.07569  26.07569  ...  26.13293  26.11732  26.10692  26.10171   \n",
              "\n",
              "        314       315       316       317       318       319  \n",
              "0  26.11212  26.11212  26.11212  26.10692  26.10171  26.10171  \n",
              "1  26.10692  26.10692  26.10692  26.10692  26.10171  26.10171  \n",
              "2  26.10171  26.10692  26.10692  26.10692  26.10171  26.10171  \n",
              "3  26.10171  26.10171  26.10171  26.09651  26.10171  26.10171  \n",
              "4  26.09651  26.10171  26.10171  26.10171  26.10171  26.09651  \n",
              "\n",
              "[5 rows x 320 columns]"
            ],
            "text/html": [
              "\n",
              "  <div id=\"df-cb0c0d54-b632-4817-b607-74f0db20c7d0\" class=\"colab-df-container\">\n",
              "    <div>\n",
              "<style scoped>\n",
              "    .dataframe tbody tr th:only-of-type {\n",
              "        vertical-align: middle;\n",
              "    }\n",
              "\n",
              "    .dataframe tbody tr th {\n",
              "        vertical-align: top;\n",
              "    }\n",
              "\n",
              "    .dataframe thead th {\n",
              "        text-align: right;\n",
              "    }\n",
              "</style>\n",
              "<table border=\"1\" class=\"dataframe\">\n",
              "  <thead>\n",
              "    <tr style=\"text-align: right;\">\n",
              "      <th></th>\n",
              "      <th>0</th>\n",
              "      <th>1</th>\n",
              "      <th>2</th>\n",
              "      <th>3</th>\n",
              "      <th>4</th>\n",
              "      <th>5</th>\n",
              "      <th>6</th>\n",
              "      <th>7</th>\n",
              "      <th>8</th>\n",
              "      <th>9</th>\n",
              "      <th>...</th>\n",
              "      <th>310</th>\n",
              "      <th>311</th>\n",
              "      <th>312</th>\n",
              "      <th>313</th>\n",
              "      <th>314</th>\n",
              "      <th>315</th>\n",
              "      <th>316</th>\n",
              "      <th>317</th>\n",
              "      <th>318</th>\n",
              "      <th>319</th>\n",
              "    </tr>\n",
              "  </thead>\n",
              "  <tbody>\n",
              "    <tr>\n",
              "      <th>0</th>\n",
              "      <td>25.94025</td>\n",
              "      <td>25.94025</td>\n",
              "      <td>25.84638</td>\n",
              "      <td>25.80985</td>\n",
              "      <td>25.89333</td>\n",
              "      <td>26.06007</td>\n",
              "      <td>26.03924</td>\n",
              "      <td>26.07048</td>\n",
              "      <td>26.08089</td>\n",
              "      <td>26.08610</td>\n",
              "      <td>...</td>\n",
              "      <td>26.13814</td>\n",
              "      <td>26.12773</td>\n",
              "      <td>26.12253</td>\n",
              "      <td>26.10692</td>\n",
              "      <td>26.11212</td>\n",
              "      <td>26.11212</td>\n",
              "      <td>26.11212</td>\n",
              "      <td>26.10692</td>\n",
              "      <td>26.10171</td>\n",
              "      <td>26.10171</td>\n",
              "    </tr>\n",
              "    <tr>\n",
              "      <th>1</th>\n",
              "      <td>25.88289</td>\n",
              "      <td>25.89333</td>\n",
              "      <td>25.80464</td>\n",
              "      <td>25.82551</td>\n",
              "      <td>25.96631</td>\n",
              "      <td>26.01841</td>\n",
              "      <td>26.06007</td>\n",
              "      <td>26.07569</td>\n",
              "      <td>26.08089</td>\n",
              "      <td>26.09130</td>\n",
              "      <td>...</td>\n",
              "      <td>26.13814</td>\n",
              "      <td>26.12773</td>\n",
              "      <td>26.11732</td>\n",
              "      <td>26.11212</td>\n",
              "      <td>26.10692</td>\n",
              "      <td>26.10692</td>\n",
              "      <td>26.10692</td>\n",
              "      <td>26.10692</td>\n",
              "      <td>26.10171</td>\n",
              "      <td>26.10171</td>\n",
              "    </tr>\n",
              "    <tr>\n",
              "      <th>2</th>\n",
              "      <td>25.90376</td>\n",
              "      <td>25.85682</td>\n",
              "      <td>25.78376</td>\n",
              "      <td>25.89854</td>\n",
              "      <td>25.98715</td>\n",
              "      <td>26.02882</td>\n",
              "      <td>26.06007</td>\n",
              "      <td>26.07569</td>\n",
              "      <td>26.08089</td>\n",
              "      <td>26.09130</td>\n",
              "      <td>...</td>\n",
              "      <td>26.13814</td>\n",
              "      <td>26.12773</td>\n",
              "      <td>26.11732</td>\n",
              "      <td>26.10692</td>\n",
              "      <td>26.10171</td>\n",
              "      <td>26.10692</td>\n",
              "      <td>26.10692</td>\n",
              "      <td>26.10692</td>\n",
              "      <td>26.10171</td>\n",
              "      <td>26.10171</td>\n",
              "    </tr>\n",
              "    <tr>\n",
              "      <th>3</th>\n",
              "      <td>25.87246</td>\n",
              "      <td>25.80464</td>\n",
              "      <td>25.86725</td>\n",
              "      <td>25.95588</td>\n",
              "      <td>25.99236</td>\n",
              "      <td>26.02882</td>\n",
              "      <td>26.05486</td>\n",
              "      <td>26.07048</td>\n",
              "      <td>26.08089</td>\n",
              "      <td>26.08610</td>\n",
              "      <td>...</td>\n",
              "      <td>26.13814</td>\n",
              "      <td>26.12773</td>\n",
              "      <td>26.11212</td>\n",
              "      <td>26.10692</td>\n",
              "      <td>26.10171</td>\n",
              "      <td>26.10171</td>\n",
              "      <td>26.10171</td>\n",
              "      <td>26.09651</td>\n",
              "      <td>26.10171</td>\n",
              "      <td>26.10171</td>\n",
              "    </tr>\n",
              "    <tr>\n",
              "      <th>4</th>\n",
              "      <td>25.84638</td>\n",
              "      <td>25.86725</td>\n",
              "      <td>25.85682</td>\n",
              "      <td>25.97152</td>\n",
              "      <td>26.00799</td>\n",
              "      <td>26.03403</td>\n",
              "      <td>26.05486</td>\n",
              "      <td>26.06527</td>\n",
              "      <td>26.07569</td>\n",
              "      <td>26.07569</td>\n",
              "      <td>...</td>\n",
              "      <td>26.13293</td>\n",
              "      <td>26.11732</td>\n",
              "      <td>26.10692</td>\n",
              "      <td>26.10171</td>\n",
              "      <td>26.09651</td>\n",
              "      <td>26.10171</td>\n",
              "      <td>26.10171</td>\n",
              "      <td>26.10171</td>\n",
              "      <td>26.10171</td>\n",
              "      <td>26.09651</td>\n",
              "    </tr>\n",
              "  </tbody>\n",
              "</table>\n",
              "<p>5 rows × 320 columns</p>\n",
              "</div>\n",
              "    <div class=\"colab-df-buttons\">\n",
              "\n",
              "  <div class=\"colab-df-container\">\n",
              "    <button class=\"colab-df-convert\" onclick=\"convertToInteractive('df-cb0c0d54-b632-4817-b607-74f0db20c7d0')\"\n",
              "            title=\"Convert this dataframe to an interactive table.\"\n",
              "            style=\"display:none;\">\n",
              "\n",
              "  <svg xmlns=\"http://www.w3.org/2000/svg\" height=\"24px\" viewBox=\"0 -960 960 960\">\n",
              "    <path d=\"M120-120v-720h720v720H120Zm60-500h600v-160H180v160Zm220 220h160v-160H400v160Zm0 220h160v-160H400v160ZM180-400h160v-160H180v160Zm440 0h160v-160H620v160ZM180-180h160v-160H180v160Zm440 0h160v-160H620v160Z\"/>\n",
              "  </svg>\n",
              "    </button>\n",
              "\n",
              "  <style>\n",
              "    .colab-df-container {\n",
              "      display:flex;\n",
              "      gap: 12px;\n",
              "    }\n",
              "\n",
              "    .colab-df-convert {\n",
              "      background-color: #E8F0FE;\n",
              "      border: none;\n",
              "      border-radius: 50%;\n",
              "      cursor: pointer;\n",
              "      display: none;\n",
              "      fill: #1967D2;\n",
              "      height: 32px;\n",
              "      padding: 0 0 0 0;\n",
              "      width: 32px;\n",
              "    }\n",
              "\n",
              "    .colab-df-convert:hover {\n",
              "      background-color: #E2EBFA;\n",
              "      box-shadow: 0px 1px 2px rgba(60, 64, 67, 0.3), 0px 1px 3px 1px rgba(60, 64, 67, 0.15);\n",
              "      fill: #174EA6;\n",
              "    }\n",
              "\n",
              "    .colab-df-buttons div {\n",
              "      margin-bottom: 4px;\n",
              "    }\n",
              "\n",
              "    [theme=dark] .colab-df-convert {\n",
              "      background-color: #3B4455;\n",
              "      fill: #D2E3FC;\n",
              "    }\n",
              "\n",
              "    [theme=dark] .colab-df-convert:hover {\n",
              "      background-color: #434B5C;\n",
              "      box-shadow: 0px 1px 3px 1px rgba(0, 0, 0, 0.15);\n",
              "      filter: drop-shadow(0px 1px 2px rgba(0, 0, 0, 0.3));\n",
              "      fill: #FFFFFF;\n",
              "    }\n",
              "  </style>\n",
              "\n",
              "    <script>\n",
              "      const buttonEl =\n",
              "        document.querySelector('#df-cb0c0d54-b632-4817-b607-74f0db20c7d0 button.colab-df-convert');\n",
              "      buttonEl.style.display =\n",
              "        google.colab.kernel.accessAllowed ? 'block' : 'none';\n",
              "\n",
              "      async function convertToInteractive(key) {\n",
              "        const element = document.querySelector('#df-cb0c0d54-b632-4817-b607-74f0db20c7d0');\n",
              "        const dataTable =\n",
              "          await google.colab.kernel.invokeFunction('convertToInteractive',\n",
              "                                                    [key], {});\n",
              "        if (!dataTable) return;\n",
              "\n",
              "        const docLinkHtml = 'Like what you see? Visit the ' +\n",
              "          '<a target=\"_blank\" href=https://colab.research.google.com/notebooks/data_table.ipynb>data table notebook</a>'\n",
              "          + ' to learn more about interactive tables.';\n",
              "        element.innerHTML = '';\n",
              "        dataTable['output_type'] = 'display_data';\n",
              "        await google.colab.output.renderOutput(dataTable, element);\n",
              "        const docLink = document.createElement('div');\n",
              "        docLink.innerHTML = docLinkHtml;\n",
              "        element.appendChild(docLink);\n",
              "      }\n",
              "    </script>\n",
              "  </div>\n",
              "\n",
              "\n",
              "<div id=\"df-cb17ef65-d9ba-475e-a4cc-33bd0defc71b\">\n",
              "  <button class=\"colab-df-quickchart\" onclick=\"quickchart('df-cb17ef65-d9ba-475e-a4cc-33bd0defc71b')\"\n",
              "            title=\"Suggest charts\"\n",
              "            style=\"display:none;\">\n",
              "\n",
              "<svg xmlns=\"http://www.w3.org/2000/svg\" height=\"24px\"viewBox=\"0 0 24 24\"\n",
              "     width=\"24px\">\n",
              "    <g>\n",
              "        <path d=\"M19 3H5c-1.1 0-2 .9-2 2v14c0 1.1.9 2 2 2h14c1.1 0 2-.9 2-2V5c0-1.1-.9-2-2-2zM9 17H7v-7h2v7zm4 0h-2V7h2v10zm4 0h-2v-4h2v4z\"/>\n",
              "    </g>\n",
              "</svg>\n",
              "  </button>\n",
              "\n",
              "<style>\n",
              "  .colab-df-quickchart {\n",
              "      --bg-color: #E8F0FE;\n",
              "      --fill-color: #1967D2;\n",
              "      --hover-bg-color: #E2EBFA;\n",
              "      --hover-fill-color: #174EA6;\n",
              "      --disabled-fill-color: #AAA;\n",
              "      --disabled-bg-color: #DDD;\n",
              "  }\n",
              "\n",
              "  [theme=dark] .colab-df-quickchart {\n",
              "      --bg-color: #3B4455;\n",
              "      --fill-color: #D2E3FC;\n",
              "      --hover-bg-color: #434B5C;\n",
              "      --hover-fill-color: #FFFFFF;\n",
              "      --disabled-bg-color: #3B4455;\n",
              "      --disabled-fill-color: #666;\n",
              "  }\n",
              "\n",
              "  .colab-df-quickchart {\n",
              "    background-color: var(--bg-color);\n",
              "    border: none;\n",
              "    border-radius: 50%;\n",
              "    cursor: pointer;\n",
              "    display: none;\n",
              "    fill: var(--fill-color);\n",
              "    height: 32px;\n",
              "    padding: 0;\n",
              "    width: 32px;\n",
              "  }\n",
              "\n",
              "  .colab-df-quickchart:hover {\n",
              "    background-color: var(--hover-bg-color);\n",
              "    box-shadow: 0 1px 2px rgba(60, 64, 67, 0.3), 0 1px 3px 1px rgba(60, 64, 67, 0.15);\n",
              "    fill: var(--button-hover-fill-color);\n",
              "  }\n",
              "\n",
              "  .colab-df-quickchart-complete:disabled,\n",
              "  .colab-df-quickchart-complete:disabled:hover {\n",
              "    background-color: var(--disabled-bg-color);\n",
              "    fill: var(--disabled-fill-color);\n",
              "    box-shadow: none;\n",
              "  }\n",
              "\n",
              "  .colab-df-spinner {\n",
              "    border: 2px solid var(--fill-color);\n",
              "    border-color: transparent;\n",
              "    border-bottom-color: var(--fill-color);\n",
              "    animation:\n",
              "      spin 1s steps(1) infinite;\n",
              "  }\n",
              "\n",
              "  @keyframes spin {\n",
              "    0% {\n",
              "      border-color: transparent;\n",
              "      border-bottom-color: var(--fill-color);\n",
              "      border-left-color: var(--fill-color);\n",
              "    }\n",
              "    20% {\n",
              "      border-color: transparent;\n",
              "      border-left-color: var(--fill-color);\n",
              "      border-top-color: var(--fill-color);\n",
              "    }\n",
              "    30% {\n",
              "      border-color: transparent;\n",
              "      border-left-color: var(--fill-color);\n",
              "      border-top-color: var(--fill-color);\n",
              "      border-right-color: var(--fill-color);\n",
              "    }\n",
              "    40% {\n",
              "      border-color: transparent;\n",
              "      border-right-color: var(--fill-color);\n",
              "      border-top-color: var(--fill-color);\n",
              "    }\n",
              "    60% {\n",
              "      border-color: transparent;\n",
              "      border-right-color: var(--fill-color);\n",
              "    }\n",
              "    80% {\n",
              "      border-color: transparent;\n",
              "      border-right-color: var(--fill-color);\n",
              "      border-bottom-color: var(--fill-color);\n",
              "    }\n",
              "    90% {\n",
              "      border-color: transparent;\n",
              "      border-bottom-color: var(--fill-color);\n",
              "    }\n",
              "  }\n",
              "</style>\n",
              "\n",
              "  <script>\n",
              "    async function quickchart(key) {\n",
              "      const quickchartButtonEl =\n",
              "        document.querySelector('#' + key + ' button');\n",
              "      quickchartButtonEl.disabled = true;  // To prevent multiple clicks.\n",
              "      quickchartButtonEl.classList.add('colab-df-spinner');\n",
              "      try {\n",
              "        const charts = await google.colab.kernel.invokeFunction(\n",
              "            'suggestCharts', [key], {});\n",
              "      } catch (error) {\n",
              "        console.error('Error during call to suggestCharts:', error);\n",
              "      }\n",
              "      quickchartButtonEl.classList.remove('colab-df-spinner');\n",
              "      quickchartButtonEl.classList.add('colab-df-quickchart-complete');\n",
              "    }\n",
              "    (() => {\n",
              "      let quickchartButtonEl =\n",
              "        document.querySelector('#df-cb17ef65-d9ba-475e-a4cc-33bd0defc71b button');\n",
              "      quickchartButtonEl.style.display =\n",
              "        google.colab.kernel.accessAllowed ? 'block' : 'none';\n",
              "    })();\n",
              "  </script>\n",
              "</div>\n",
              "\n",
              "    </div>\n",
              "  </div>\n"
            ],
            "application/vnd.google.colaboratory.intrinsic+json": {
              "type": "dataframe",
              "variable_name": "df"
            }
          },
          "metadata": {},
          "execution_count": 272
        }
      ],
      "source": [
        "df = pd.DataFrame(x_train_images[0])\n",
        "df.head()"
      ]
    },
    {
      "cell_type": "code",
      "execution_count": null,
      "metadata": {
        "colab": {
          "base_uri": "https://localhost:8080/"
        },
        "id": "6OisyxNgle9o",
        "outputId": "06643b30-a9e6-4d95-9b92-9964d29ef6e4"
      },
      "outputs": [
        {
          "output_type": "stream",
          "name": "stdout",
          "text": [
            "Image:  /content/thermalImagesClassification/data/diagnosticos/pseudoartrose/pseudoartrose_de_tibia_alongamento_osseo/pessoa01/pessoa01_avaliacao08.csv\n",
            "Min value:  21.26678\n",
            "Max value:  34.78566\n",
            "Mean:  25.28147129327929\n"
          ]
        }
      ],
      "source": [
        "# Min and Max temperature values in the raw image\n",
        "selected_id = 50\n",
        "print(\"Image: \", x_train_files[selected_id])\n",
        "print(\"Min value: \", np.min(x_train_images[selected_id]))\n",
        "print(\"Max value: \", np.max(x_train_images[selected_id]))\n",
        "print(\"Mean: \", np.mean(x_train_images[selected_id]))"
      ]
    },
    {
      "cell_type": "code",
      "execution_count": null,
      "metadata": {
        "id": "S99W_KQVtxvw"
      },
      "outputs": [],
      "source": [
        "# --------------------------------------------------------------\n",
        "# normalize image withing [min, max] range\n",
        "# --------------------------------------------------------------\n",
        "\n",
        "def normalize(image):\n",
        "    max = np.amax(image)\n",
        "    min = np.amin(image)\n",
        "    normalized_image = (image-min)/(max - min)\n",
        "    return (normalized_image)"
      ]
    },
    {
      "cell_type": "code",
      "execution_count": null,
      "metadata": {
        "id": "tzDRhPE06mlg"
      },
      "outputs": [],
      "source": [
        "# -----------------------------------------------\n",
        "# -----------------------------------------------\n",
        "\n",
        "def thermal_to_rgb_image(image):\n",
        "  norm_img = normalize(image = image)\n",
        "  new_img  = np.round(norm_img * 255)\n",
        "  u8 = new_img.astype(np.uint8)\n",
        "  im_color = cv2.applyColorMap(u8, cv2.COLORMAP_JET)\n",
        "  return(im_color)"
      ]
    },
    {
      "cell_type": "code",
      "execution_count": null,
      "metadata": {
        "colab": {
          "base_uri": "https://localhost:8080/",
          "height": 256
        },
        "id": "u2jt57-imvGG",
        "outputId": "5f4f698b-f98e-4d05-ae90-4eb2629f1783"
      },
      "outputs": [
        {
          "output_type": "display_data",
          "data": {
            "text/plain": [
              "<PIL.Image.Image image mode=RGB size=320x239>"
            ],
            "image/png": "[encoded data removed]",
            "image/jpeg": "[encoded data removed]"
          },
          "metadata": {}
        }
      ],
      "source": [
        "# example of RGB healthy image\n",
        "imgc = thermal_to_rgb_image(image = x_train_images[2])\n",
        "cv2_imshow(imgc)"
      ]
    },
    {
      "cell_type": "code",
      "execution_count": null,
      "metadata": {
        "colab": {
          "base_uri": "https://localhost:8080/"
        },
        "id": "uSKcVpLU7H0C",
        "outputId": "2860eb89-f39f-4133-96a8-480de8486ab2"
      },
      "outputs": [
        {
          "output_type": "execute_result",
          "data": {
            "text/plain": [
              "(239, 320, 3)"
            ]
          },
          "metadata": {},
          "execution_count": 277
        }
      ],
      "source": [
        "imgc.shape"
      ]
    },
    {
      "cell_type": "code",
      "execution_count": null,
      "metadata": {
        "colab": {
          "base_uri": "https://localhost:8080/"
        },
        "id": "-VOoOMSUDgui",
        "outputId": "0f66e433-9ab3-4b78-b5cb-0f011c56dd5f"
      },
      "outputs": [
        {
          "output_type": "stream",
          "name": "stdout",
          "text": [
            "* Converting thermal images to RGB\n"
          ]
        }
      ],
      "source": [
        "# converting all healthy thermal raw images to RGB\n",
        "\n",
        "if(TYPE_OF_IMAGE == \"rgb\"):\n",
        "  print(\"* Converting thermal images to RGB\")\n",
        "  new_x_train_images = [thermal_to_rgb_image(x) for x in x_train_images]\n",
        "  new_x_test_images  = [thermal_to_rgb_image(x) for x in x_test_images]\n",
        "  input_shape = (239, 320, 3)\n",
        "else:\n",
        "  print (\"* Using raw images - normalized between [0, 1]\")\n",
        "  new_x_train_images = [normalize(x) for x in x_train_images]\n",
        "  new_x_test_images  = [normalize(x) for x in x_test_images]\n",
        "  input_shape = (239, 320, 1)\n",
        "  # print(new_x_train_images[0])"
      ]
    },
    {
      "cell_type": "code",
      "execution_count": null,
      "metadata": {
        "id": "3Aw5Wl8MGGzc"
      },
      "outputs": [],
      "source": [
        "# -------------------------------------------\n",
        "# Creating Training Dataset\n",
        "# -------------------------------------------\n",
        "X_train = np.array(new_x_train_images)\n",
        "X_test  = np.array(new_x_test_images)"
      ]
    },
    {
      "cell_type": "code",
      "execution_count": null,
      "metadata": {
        "id": "JgAHNCbkPjGP"
      },
      "outputs": [],
      "source": [
        "# convert values to the inverval [0, 1]\n",
        "if(TYPE_OF_IMAGE != \"raw\"):\n",
        "  X_train = X_train.astype(\"float32\") / 255\n",
        "  X_test = X_test.astype(\"float32\") / 255"
      ]
    },
    {
      "cell_type": "code",
      "execution_count": null,
      "metadata": {
        "id": "xyNQ8whnLbsR"
      },
      "outputs": [],
      "source": [
        "# ------------------------------------------------------------\n",
        "# ------------------------------------------------------------\n",
        "\n",
        "# TODO: balanceamento no conjunto de treinamento\n",
        "# Data augmentation da classe minoritaria (quais operacoes)\n",
        "# usar data augmentation -> https://albumentations.ai/\n",
        "\n",
        "# descobrir qntas imagens tem 0, e quantas imagens são 1\n",
        "\n",
        "# ------------------------------------------------------------\n",
        "# ------------------------------------------------------------"
      ]
    },
    {
      "cell_type": "code",
      "execution_count": null,
      "metadata": {
        "colab": {
          "base_uri": "https://localhost:8080/",
          "height": 447
        },
        "id": "CmivgGek1Rxy",
        "outputId": "2f88a047-ff25-4ff5-8681-3e02d783110e"
      },
      "outputs": [
        {
          "output_type": "execute_result",
          "data": {
            "text/plain": [
              "<Axes: ylabel='Frequency'>"
            ]
          },
          "metadata": {},
          "execution_count": 282
        },
        {
          "output_type": "display_data",
          "data": {
            "text/plain": [
              "<Figure size 640x480 with 1 Axes>"
            ],
            "image/png": "[encoded data removed]"
          },
          "metadata": {}
        }
      ],
      "source": [
        "df_y_train = pd.DataFrame(y_train)\n",
        "df_y_train.columns = ['labels']\n",
        "df_y_train.plot.hist()"
      ]
    },
    {
      "cell_type": "code",
      "execution_count": null,
      "metadata": {
        "id": "Ru-4FaHkM5FI"
      },
      "outputs": [],
      "source": [
        "# Classical CNN architecture\n",
        "def get_CNN_model(input_shape):\n",
        "\n",
        "\tCNNmodel = models.Sequential()\n",
        "\tCNNmodel.add(layers.Conv2D(32, (3, 3), activation='relu', input_shape=input_shape))\n",
        "\tCNNmodel.add(layers.MaxPooling2D((2, 2)))\n",
        "\tCNNmodel.add(layers.Dropout(0.25))\n",
        "\tCNNmodel.add(layers.Conv2D(64, (3, 3), activation='relu'))\n",
        "\tCNNmodel.add(layers.MaxPooling2D((2, 2)))\n",
        "\tCNNmodel.add(layers.Dropout(0.25))\n",
        "\tCNNmodel.add(layers.Conv2D(64, (3, 3), activation='relu'))\n",
        "\tCNNmodel.add(layers.Flatten())\n",
        "\tCNNmodel.add(layers.Dense(64, activation='relu'))\n",
        "\tCNNmodel.add(layers.Dropout(0.5))\n",
        "\tCNNmodel.add(layers.Dense(1, activation=\"sigmoid\"))\n",
        "\n",
        "\treturn(CNNmodel)"
      ]
    },
    {
      "cell_type": "code",
      "execution_count": null,
      "metadata": {
        "id": "bqitn9FzaYKM"
      },
      "outputs": [],
      "source": [
        "def get_VGG19_model_Keras(input_shape) :\n",
        "\n",
        "  VGGmodel = models.Sequential()\n",
        "  baseModel = VGG19(input_shape=input_shape, weights='imagenet',include_top=False)\n",
        "  baseModel.trainable = False\n",
        "  VGGmodel.add(baseModel)\n",
        "  VGGmodel.add(layers.Flatten())\n",
        "  VGGmodel.add(layers.Dense(4096,activation = 'relu'))\n",
        "  VGGmodel.add(layers.Dense(4096,activation = 'relu'))\n",
        "  VGGmodel.add(layers.Dense(1,activation = 'sigmoid'))\n",
        "  return(VGGmodel)"
      ]
    },
    {
      "cell_type": "code",
      "execution_count": null,
      "metadata": {
        "id": "swAphXPZPQ0Y"
      },
      "outputs": [],
      "source": [
        "# Light weight convolutional neural network and low-dimensional images transformation approach for classification of thermal images\n",
        "# https://www.sciencedirect.com/science/article/pii/S2214157X22009078\n",
        "\n",
        "def get_LW_CNN_model_Taspinar(input_shape):\n",
        "\n",
        "  LWCNN_model = models.Sequential()\n",
        "  LWCNN_model.add(layers.Conv2D(6, (5, 5), input_shape=input_shape))\n",
        "  LWCNN_model.add(layers.LeakyReLU(alpha=0.01))\n",
        "  LWCNN_model.add(layers.MaxPooling2D((2, 2)))\n",
        "\n",
        "  LWCNN_model.add(layers.Conv2D(16, (5, 5)))\n",
        "  LWCNN_model.add(layers.LeakyReLU(alpha=0.01))\n",
        "  LWCNN_model.add(layers.MaxPooling2D((2, 2)))\n",
        "\n",
        "  LWCNN_model.add(layers.Conv2D(64, (3, 3)))\n",
        "  LWCNN_model.add(layers.LeakyReLU(alpha=0.01))\n",
        "  LWCNN_model.add(layers.MaxPooling2D((2, 2)))\n",
        "\n",
        "  LWCNN_model.add(layers.Flatten())\n",
        "  LWCNN_model.add(layers.Dense(128))\n",
        "  LWCNN_model.add(layers.LeakyReLU(alpha=0.01))\n",
        "\n",
        "  LWCNN_model.add(layers.Dropout(0.2))\n",
        "  LWCNN_model.add(layers.Dense(1, activation=\"sigmoid\"))\n",
        "\n",
        "  return(LWCNN_model)"
      ]
    },
    {
      "cell_type": "code",
      "source": [
        "def get_ResNet50_model_Keras(input_shape) :\n",
        "\n",
        "  ResNetmodel = models.Sequential()\n",
        "  baseModel = ResNet50(input_shape=input_shape, weights='imagenet',include_top=False)\n",
        "  baseModel.trainable = True\n",
        "  ResNetmodel.add(baseModel)\n",
        "  ResNetmodel.add(layers.GlobalAveragePooling2D())\n",
        "  ResNetmodel.add(layers.Dense(2,activation = 'softmax'))\n",
        "\n",
        "  return(ResNetmodel)"
      ],
      "metadata": {
        "id": "rC5d6FS0-Mks"
      },
      "execution_count": null,
      "outputs": []
    },
    {
      "cell_type": "code",
      "execution_count": null,
      "metadata": {
        "id": "iU3wQqHx10Iq",
        "colab": {
          "base_uri": "https://localhost:8080/",
          "height": 250
        },
        "outputId": "b5a4e968-43eb-40d9-ffee-fc1a163b2a16"
      },
      "outputs": [
        {
          "output_type": "display_data",
          "data": {
            "text/plain": [
              "\u001b[1mModel: \"sequential_9\"\u001b[0m\n"
            ],
            "text/html": [
              "<pre style=\"white-space:pre;overflow-x:auto;line-height:normal;font-family:Menlo,'DejaVu Sans Mono',consolas,'Courier New',monospace\"><span style=\"font-weight: bold\">Model: \"sequential_9\"</span>\n",
              "</pre>\n"
            ]
          },
          "metadata": {}
        },
        {
          "output_type": "display_data",
          "data": {
            "text/plain": [
              "┏━━━━━━━━━━━━━━━━━━━━━━━━━━━━━━━━━┳━━━━━━━━━━━━━━━━━━━━━━━━┳━━━━━━━━━━━━━━━┓\n",
              "┃\u001b[1m \u001b[0m\u001b[1mLayer (type)                   \u001b[0m\u001b[1m \u001b[0m┃\u001b[1m \u001b[0m\u001b[1mOutput Shape          \u001b[0m\u001b[1m \u001b[0m┃\u001b[1m \u001b[0m\u001b[1m      Param #\u001b[0m\u001b[1m \u001b[0m┃\n",
              "┡━━━━━━━━━━━━━━━━━━━━━━━━━━━━━━━━━╇━━━━━━━━━━━━━━━━━━━━━━━━╇━━━━━━━━━━━━━━━┩\n",
              "│ resnet50 (\u001b[38;5;33mFunctional\u001b[0m)           │ (\u001b[38;5;45mNone\u001b[0m, \u001b[38;5;34m8\u001b[0m, \u001b[38;5;34m10\u001b[0m, \u001b[38;5;34m2048\u001b[0m)    │    \u001b[38;5;34m23,587,712\u001b[0m │\n",
              "├─────────────────────────────────┼────────────────────────┼───────────────┤\n",
              "│ global_average_pooling2d_6      │ (\u001b[38;5;45mNone\u001b[0m, \u001b[38;5;34m2048\u001b[0m)           │             \u001b[38;5;34m0\u001b[0m │\n",
              "│ (\u001b[38;5;33mGlobalAveragePooling2D\u001b[0m)        │                        │               │\n",
              "├─────────────────────────────────┼────────────────────────┼───────────────┤\n",
              "│ dense_15 (\u001b[38;5;33mDense\u001b[0m)                │ (\u001b[38;5;45mNone\u001b[0m, \u001b[38;5;34m2\u001b[0m)              │         \u001b[38;5;34m4,098\u001b[0m │\n",
              "└─────────────────────────────────┴────────────────────────┴───────────────┘\n"
            ],
            "text/html": [
              "<pre style=\"white-space:pre;overflow-x:auto;line-height:normal;font-family:Menlo,'DejaVu Sans Mono',consolas,'Courier New',monospace\">┏━━━━━━━━━━━━━━━━━━━━━━━━━━━━━━━━━┳━━━━━━━━━━━━━━━━━━━━━━━━┳━━━━━━━━━━━━━━━┓\n",
              "┃<span style=\"font-weight: bold\"> Layer (type)                    </span>┃<span style=\"font-weight: bold\"> Output Shape           </span>┃<span style=\"font-weight: bold\">       Param # </span>┃\n",
              "┡━━━━━━━━━━━━━━━━━━━━━━━━━━━━━━━━━╇━━━━━━━━━━━━━━━━━━━━━━━━╇━━━━━━━━━━━━━━━┩\n",
              "│ resnet50 (<span style=\"color: #0087ff; text-decoration-color: #0087ff\">Functional</span>)           │ (<span style=\"color: #00d7ff; text-decoration-color: #00d7ff\">None</span>, <span style=\"color: #00af00; text-decoration-color: #00af00\">8</span>, <span style=\"color: #00af00; text-decoration-color: #00af00\">10</span>, <span style=\"color: #00af00; text-decoration-color: #00af00\">2048</span>)    │    <span style=\"color: #00af00; text-decoration-color: #00af00\">23,587,712</span> │\n",
              "├─────────────────────────────────┼────────────────────────┼───────────────┤\n",
              "│ global_average_pooling2d_6      │ (<span style=\"color: #00d7ff; text-decoration-color: #00d7ff\">None</span>, <span style=\"color: #00af00; text-decoration-color: #00af00\">2048</span>)           │             <span style=\"color: #00af00; text-decoration-color: #00af00\">0</span> │\n",
              "│ (<span style=\"color: #0087ff; text-decoration-color: #0087ff\">GlobalAveragePooling2D</span>)        │                        │               │\n",
              "├─────────────────────────────────┼────────────────────────┼───────────────┤\n",
              "│ dense_15 (<span style=\"color: #0087ff; text-decoration-color: #0087ff\">Dense</span>)                │ (<span style=\"color: #00d7ff; text-decoration-color: #00d7ff\">None</span>, <span style=\"color: #00af00; text-decoration-color: #00af00\">2</span>)              │         <span style=\"color: #00af00; text-decoration-color: #00af00\">4,098</span> │\n",
              "└─────────────────────────────────┴────────────────────────┴───────────────┘\n",
              "</pre>\n"
            ]
          },
          "metadata": {}
        },
        {
          "output_type": "display_data",
          "data": {
            "text/plain": [
              "\u001b[1m Total params: \u001b[0m\u001b[38;5;34m23,591,810\u001b[0m (90.00 MB)\n"
            ],
            "text/html": [
              "<pre style=\"white-space:pre;overflow-x:auto;line-height:normal;font-family:Menlo,'DejaVu Sans Mono',consolas,'Courier New',monospace\"><span style=\"font-weight: bold\"> Total params: </span><span style=\"color: #00af00; text-decoration-color: #00af00\">23,591,810</span> (90.00 MB)\n",
              "</pre>\n"
            ]
          },
          "metadata": {}
        },
        {
          "output_type": "display_data",
          "data": {
            "text/plain": [
              "\u001b[1m Trainable params: \u001b[0m\u001b[38;5;34m23,538,690\u001b[0m (89.79 MB)\n"
            ],
            "text/html": [
              "<pre style=\"white-space:pre;overflow-x:auto;line-height:normal;font-family:Menlo,'DejaVu Sans Mono',consolas,'Courier New',monospace\"><span style=\"font-weight: bold\"> Trainable params: </span><span style=\"color: #00af00; text-decoration-color: #00af00\">23,538,690</span> (89.79 MB)\n",
              "</pre>\n"
            ]
          },
          "metadata": {}
        },
        {
          "output_type": "display_data",
          "data": {
            "text/plain": [
              "\u001b[1m Non-trainable params: \u001b[0m\u001b[38;5;34m53,120\u001b[0m (207.50 KB)\n"
            ],
            "text/html": [
              "<pre style=\"white-space:pre;overflow-x:auto;line-height:normal;font-family:Menlo,'DejaVu Sans Mono',consolas,'Courier New',monospace\"><span style=\"font-weight: bold\"> Non-trainable params: </span><span style=\"color: #00af00; text-decoration-color: #00af00\">53,120</span> (207.50 KB)\n",
              "</pre>\n"
            ]
          },
          "metadata": {}
        }
      ],
      "source": [
        "# Defining DL model\n",
        "match MODEL:\n",
        "  case \"cnn\":\n",
        "    model = get_CNN_model(input_shape=input_shape)\n",
        "  case \"vgg19\":\n",
        "    model = get_VGG19_model_Keras(input_shape=input_shape)\n",
        "  case \"lwcnn\":\n",
        "    model = get_LW_CNN_model_Taspinar(input_shape=input_shape)\n",
        "  case \"resnet\":\n",
        "    model = get_ResNet50_model_Keras(input_shape=input_shape)\n",
        "\n",
        "model.summary()"
      ]
    },
    {
      "cell_type": "code",
      "execution_count": null,
      "metadata": {
        "id": "-I46hoH7N1xa"
      },
      "outputs": [],
      "source": [
        "model.compile(\n",
        "    optimizer='adam',\n",
        "    loss=BinaryCrossentropy(),\n",
        "    metrics=['binary_accuracy', 'accuracy']\n",
        ")"
      ]
    },
    {
      "cell_type": "code",
      "source": [
        "if (MODEL == \"resnet\"):\n",
        "  y_train = keras.utils.to_categorical(y_train, 2)\n",
        "  y_test = keras.utils.to_categorical(y_test, 2)"
      ],
      "metadata": {
        "id": "mDsIX5cXYJt3"
      },
      "execution_count": null,
      "outputs": []
    },
    {
      "cell_type": "code",
      "execution_count": null,
      "metadata": {
        "colab": {
          "base_uri": "https://localhost:8080/"
        },
        "id": "4AeRCPNnSPX5",
        "outputId": "c7a84346-5afc-4749-ff6f-428e984e5b47"
      },
      "outputs": [
        {
          "output_type": "stream",
          "name": "stdout",
          "text": [
            " - training resnet\n",
            "\n",
            "Epoch 1/100\n",
            "\u001b[1m23/23\u001b[0m \u001b[32m━━━━━━━━━━━━━━━━━━━━\u001b[0m\u001b[37m\u001b[0m \u001b[1m90s\u001b[0m 1s/step - accuracy: 0.7461 - binary_accuracy: 0.7461 - loss: 0.4651 - val_accuracy: 0.7662 - val_binary_accuracy: 0.7662 - val_loss: 14.9060\n",
            "Epoch 2/100\n",
            "\u001b[1m23/23\u001b[0m \u001b[32m━━━━━━━━━━━━━━━━━━━━\u001b[0m\u001b[37m\u001b[0m \u001b[1m32s\u001b[0m 275ms/step - accuracy: 0.8804 - binary_accuracy: 0.8804 - loss: 0.3667 - val_accuracy: 0.2338 - val_binary_accuracy: 0.2338 - val_loss: 3677.1221\n",
            "Epoch 3/100\n",
            "\u001b[1m23/23\u001b[0m \u001b[32m━━━━━━━━━━━━━━━━━━━━\u001b[0m\u001b[37m\u001b[0m \u001b[1m10s\u001b[0m 247ms/step - accuracy: 0.8960 - binary_accuracy: 0.8960 - loss: 0.2260 - val_accuracy: 0.7662 - val_binary_accuracy: 0.7662 - val_loss: 3.9194\n",
            "Epoch 4/100\n",
            "\u001b[1m23/23\u001b[0m \u001b[32m━━━━━━━━━━━━━━━━━━━━\u001b[0m\u001b[37m\u001b[0m \u001b[1m10s\u001b[0m 247ms/step - accuracy: 0.9070 - binary_accuracy: 0.9070 - loss: 0.1879 - val_accuracy: 0.7662 - val_binary_accuracy: 0.7662 - val_loss: 8.9435\n",
            "Epoch 5/100\n",
            "\u001b[1m23/23\u001b[0m \u001b[32m━━━━━━━━━━━━━━━━━━━━\u001b[0m\u001b[37m\u001b[0m \u001b[1m10s\u001b[0m 245ms/step - accuracy: 0.8788 - binary_accuracy: 0.8788 - loss: 0.1759 - val_accuracy: 0.7662 - val_binary_accuracy: 0.7662 - val_loss: 131.5657\n",
            "Epoch 6/100\n",
            "\u001b[1m23/23\u001b[0m \u001b[32m━━━━━━━━━━━━━━━━━━━━\u001b[0m\u001b[37m\u001b[0m \u001b[1m10s\u001b[0m 244ms/step - accuracy: 0.9310 - binary_accuracy: 0.9310 - loss: 0.1324 - val_accuracy: 0.2338 - val_binary_accuracy: 0.2338 - val_loss: 8.4548\n",
            "Epoch 7/100\n",
            "\u001b[1m23/23\u001b[0m \u001b[32m━━━━━━━━━━━━━━━━━━━━\u001b[0m\u001b[37m\u001b[0m \u001b[1m6s\u001b[0m 247ms/step - accuracy: 0.9067 - binary_accuracy: 0.9067 - loss: 0.2099 - val_accuracy: 0.2338 - val_binary_accuracy: 0.2338 - val_loss: 2.7225\n",
            "Epoch 8/100\n",
            "\u001b[1m23/23\u001b[0m \u001b[32m━━━━━━━━━━━━━━━━━━━━\u001b[0m\u001b[37m\u001b[0m \u001b[1m10s\u001b[0m 242ms/step - accuracy: 0.9360 - binary_accuracy: 0.9360 - loss: 0.1729 - val_accuracy: 0.2338 - val_binary_accuracy: 0.2338 - val_loss: 18.1526\n",
            "Epoch 9/100\n",
            "\u001b[1m23/23\u001b[0m \u001b[32m━━━━━━━━━━━━━━━━━━━━\u001b[0m\u001b[37m\u001b[0m \u001b[1m6s\u001b[0m 246ms/step - accuracy: 0.8917 - binary_accuracy: 0.8917 - loss: 0.2012 - val_accuracy: 0.7662 - val_binary_accuracy: 0.7662 - val_loss: 134.2490\n",
            "Epoch 10/100\n",
            "\u001b[1m23/23\u001b[0m \u001b[32m━━━━━━━━━━━━━━━━━━━━\u001b[0m\u001b[37m\u001b[0m \u001b[1m10s\u001b[0m 245ms/step - accuracy: 0.9260 - binary_accuracy: 0.9260 - loss: 0.1947 - val_accuracy: 0.2338 - val_binary_accuracy: 0.2338 - val_loss: 198.7492\n",
            "Epoch 11/100\n",
            "\u001b[1m23/23\u001b[0m \u001b[32m━━━━━━━━━━━━━━━━━━━━\u001b[0m\u001b[37m\u001b[0m \u001b[1m11s\u001b[0m 275ms/step - accuracy: 0.9261 - binary_accuracy: 0.9261 - loss: 0.1271 - val_accuracy: 0.2338 - val_binary_accuracy: 0.2338 - val_loss: 35.2081\n",
            "Epoch 12/100\n",
            "\u001b[1m23/23\u001b[0m \u001b[32m━━━━━━━━━━━━━━━━━━━━\u001b[0m\u001b[37m\u001b[0m \u001b[1m10s\u001b[0m 243ms/step - accuracy: 0.9513 - binary_accuracy: 0.9513 - loss: 0.0976 - val_accuracy: 0.2338 - val_binary_accuracy: 0.2338 - val_loss: 66.4177\n",
            "Epoch 13/100\n",
            "\u001b[1m23/23\u001b[0m \u001b[32m━━━━━━━━━━━━━━━━━━━━\u001b[0m\u001b[37m\u001b[0m \u001b[1m10s\u001b[0m 242ms/step - accuracy: 0.9801 - binary_accuracy: 0.9801 - loss: 0.0588 - val_accuracy: 0.7662 - val_binary_accuracy: 0.7662 - val_loss: 3.8112\n",
            "Epoch 14/100\n",
            "\u001b[1m23/23\u001b[0m \u001b[32m━━━━━━━━━━━━━━━━━━━━\u001b[0m\u001b[37m\u001b[0m \u001b[1m10s\u001b[0m 245ms/step - accuracy: 0.9825 - binary_accuracy: 0.9825 - loss: 0.0580 - val_accuracy: 0.7662 - val_binary_accuracy: 0.7662 - val_loss: 6.7962\n",
            "Epoch 15/100\n",
            "\u001b[1m23/23\u001b[0m \u001b[32m━━━━━━━━━━━━━━━━━━━━\u001b[0m\u001b[37m\u001b[0m \u001b[1m6s\u001b[0m 248ms/step - accuracy: 0.9550 - binary_accuracy: 0.9550 - loss: 0.0933 - val_accuracy: 0.7662 - val_binary_accuracy: 0.7662 - val_loss: 4.2955\n",
            "Epoch 16/100\n",
            "\u001b[1m23/23\u001b[0m \u001b[32m━━━━━━━━━━━━━━━━━━━━\u001b[0m\u001b[37m\u001b[0m \u001b[1m10s\u001b[0m 249ms/step - accuracy: 0.9790 - binary_accuracy: 0.9790 - loss: 0.0607 - val_accuracy: 0.7662 - val_binary_accuracy: 0.7662 - val_loss: 1.9624\n",
            "Epoch 17/100\n",
            "\u001b[1m23/23\u001b[0m \u001b[32m━━━━━━━━━━━━━━━━━━━━\u001b[0m\u001b[37m\u001b[0m \u001b[1m6s\u001b[0m 244ms/step - accuracy: 0.9922 - binary_accuracy: 0.9922 - loss: 0.0372 - val_accuracy: 0.7662 - val_binary_accuracy: 0.7662 - val_loss: 2.2874\n",
            "Epoch 18/100\n",
            "\u001b[1m23/23\u001b[0m \u001b[32m━━━━━━━━━━━━━━━━━━━━\u001b[0m\u001b[37m\u001b[0m \u001b[1m10s\u001b[0m 247ms/step - accuracy: 0.9822 - binary_accuracy: 0.9822 - loss: 0.0570 - val_accuracy: 0.7662 - val_binary_accuracy: 0.7662 - val_loss: 3.8071\n",
            "Epoch 19/100\n",
            "\u001b[1m23/23\u001b[0m \u001b[32m━━━━━━━━━━━━━━━━━━━━\u001b[0m\u001b[37m\u001b[0m \u001b[1m10s\u001b[0m 247ms/step - accuracy: 0.9798 - binary_accuracy: 0.9798 - loss: 0.0534 - val_accuracy: 0.7662 - val_binary_accuracy: 0.7662 - val_loss: 1.6637\n",
            "Epoch 20/100\n",
            "\u001b[1m23/23\u001b[0m \u001b[32m━━━━━━━━━━━━━━━━━━━━\u001b[0m\u001b[37m\u001b[0m \u001b[1m10s\u001b[0m 245ms/step - accuracy: 0.9881 - binary_accuracy: 0.9881 - loss: 0.0335 - val_accuracy: 0.7662 - val_binary_accuracy: 0.7662 - val_loss: 1.8451\n",
            "Epoch 21/100\n",
            "\u001b[1m23/23\u001b[0m \u001b[32m━━━━━━━━━━━━━━━━━━━━\u001b[0m\u001b[37m\u001b[0m \u001b[1m11s\u001b[0m 273ms/step - accuracy: 0.9914 - binary_accuracy: 0.9914 - loss: 0.0276 - val_accuracy: 0.7662 - val_binary_accuracy: 0.7662 - val_loss: 1.7243\n",
            "Epoch 22/100\n",
            "\u001b[1m23/23\u001b[0m \u001b[32m━━━━━━━━━━━━━━━━━━━━\u001b[0m\u001b[37m\u001b[0m \u001b[1m6s\u001b[0m 244ms/step - accuracy: 0.9900 - binary_accuracy: 0.9900 - loss: 0.0196 - val_accuracy: 0.7662 - val_binary_accuracy: 0.7662 - val_loss: 1.5040\n",
            "Epoch 23/100\n",
            "\u001b[1m23/23\u001b[0m \u001b[32m━━━━━━━━━━━━━━━━━━━━\u001b[0m\u001b[37m\u001b[0m \u001b[1m10s\u001b[0m 248ms/step - accuracy: 0.9928 - binary_accuracy: 0.9928 - loss: 0.0153 - val_accuracy: 0.7662 - val_binary_accuracy: 0.7662 - val_loss: 1.1941\n",
            "Epoch 24/100\n",
            "\u001b[1m23/23\u001b[0m \u001b[32m━━━━━━━━━━━━━━━━━━━━\u001b[0m\u001b[37m\u001b[0m \u001b[1m6s\u001b[0m 244ms/step - accuracy: 0.9928 - binary_accuracy: 0.9928 - loss: 0.0089 - val_accuracy: 0.7662 - val_binary_accuracy: 0.7662 - val_loss: 1.1723\n",
            "Epoch 25/100\n",
            "\u001b[1m23/23\u001b[0m \u001b[32m━━━━━━━━━━━━━━━━━━━━\u001b[0m\u001b[37m\u001b[0m \u001b[1m6s\u001b[0m 248ms/step - accuracy: 0.9928 - binary_accuracy: 0.9928 - loss: 0.0076 - val_accuracy: 0.7662 - val_binary_accuracy: 0.7662 - val_loss: 1.1757\n",
            "Epoch 26/100\n",
            "\u001b[1m23/23\u001b[0m \u001b[32m━━━━━━━━━━━━━━━━━━━━\u001b[0m\u001b[37m\u001b[0m \u001b[1m10s\u001b[0m 246ms/step - accuracy: 0.9928 - binary_accuracy: 0.9928 - loss: 0.0067 - val_accuracy: 0.7662 - val_binary_accuracy: 0.7662 - val_loss: 1.2714\n",
            "Epoch 27/100\n",
            "\u001b[1m23/23\u001b[0m \u001b[32m━━━━━━━━━━━━━━━━━━━━\u001b[0m\u001b[37m\u001b[0m \u001b[1m10s\u001b[0m 245ms/step - accuracy: 0.9928 - binary_accuracy: 0.9928 - loss: 0.0062 - val_accuracy: 0.7662 - val_binary_accuracy: 0.7662 - val_loss: 1.3703\n",
            "Epoch 28/100\n",
            "\u001b[1m23/23\u001b[0m \u001b[32m━━━━━━━━━━━━━━━━━━━━\u001b[0m\u001b[37m\u001b[0m \u001b[1m10s\u001b[0m 243ms/step - accuracy: 0.9928 - binary_accuracy: 0.9928 - loss: 0.0058 - val_accuracy: 0.7662 - val_binary_accuracy: 0.7662 - val_loss: 1.4761\n",
            "Epoch 29/100\n",
            "\u001b[1m23/23\u001b[0m \u001b[32m━━━━━━━━━━━━━━━━━━━━\u001b[0m\u001b[37m\u001b[0m \u001b[1m10s\u001b[0m 243ms/step - accuracy: 0.9928 - binary_accuracy: 0.9928 - loss: 0.0054 - val_accuracy: 0.7662 - val_binary_accuracy: 0.7662 - val_loss: 1.5781\n",
            "Epoch 30/100\n",
            "\u001b[1m23/23\u001b[0m \u001b[32m━━━━━━━━━━━━━━━━━━━━\u001b[0m\u001b[37m\u001b[0m \u001b[1m10s\u001b[0m 242ms/step - accuracy: 1.0000 - binary_accuracy: 1.0000 - loss: 0.0052 - val_accuracy: 0.7662 - val_binary_accuracy: 0.7662 - val_loss: 1.6647\n",
            "Epoch 31/100\n",
            "\u001b[1m23/23\u001b[0m \u001b[32m━━━━━━━━━━━━━━━━━━━━\u001b[0m\u001b[37m\u001b[0m \u001b[1m10s\u001b[0m 244ms/step - accuracy: 1.0000 - binary_accuracy: 1.0000 - loss: 0.0044 - val_accuracy: 0.7662 - val_binary_accuracy: 0.7662 - val_loss: 1.7313\n",
            "Epoch 32/100\n",
            "\u001b[1m23/23\u001b[0m \u001b[32m━━━━━━━━━━━━━━━━━━━━\u001b[0m\u001b[37m\u001b[0m \u001b[1m10s\u001b[0m 245ms/step - accuracy: 1.0000 - binary_accuracy: 1.0000 - loss: 0.0035 - val_accuracy: 0.7662 - val_binary_accuracy: 0.7662 - val_loss: 1.7750\n",
            "Epoch 33/100\n",
            "\u001b[1m23/23\u001b[0m \u001b[32m━━━━━━━━━━━━━━━━━━━━\u001b[0m\u001b[37m\u001b[0m \u001b[1m10s\u001b[0m 246ms/step - accuracy: 1.0000 - binary_accuracy: 1.0000 - loss: 0.0023 - val_accuracy: 0.7662 - val_binary_accuracy: 0.7662 - val_loss: 1.8006\n",
            "Epoch 34/100\n",
            "\u001b[1m23/23\u001b[0m \u001b[32m━━━━━━━━━━━━━━━━━━━━\u001b[0m\u001b[37m\u001b[0m \u001b[1m10s\u001b[0m 246ms/step - accuracy: 1.0000 - binary_accuracy: 1.0000 - loss: 0.0013 - val_accuracy: 0.7662 - val_binary_accuracy: 0.7662 - val_loss: 1.8100\n",
            "Epoch 34: early stopping\n"
          ]
        }
      ],
      "source": [
        "# ----------------------------\n",
        "# Traninig the algorithm\n",
        "# ----------------------------\n",
        "\n",
        "# Callbacks\n",
        "early_stopper = EarlyStopping(monitor=\"val_loss\", mode=\"min\", patience=10, verbose=1)\n",
        "csv_logger    = CSVLogger(f\"log_history_{MODEL}_{TYPE_OF_IMAGE}_seed_{current_seed}.csv\", separator=\",\", append=False)\n",
        "\n",
        "print(f\" - training {MODEL}\\n\")\n",
        "\n",
        "history  = model.fit(X_train, y_train, epochs=100, validation_split=0.3, batch_size=16, callbacks=[early_stopper, csv_logger])"
      ]
    },
    {
      "cell_type": "code",
      "execution_count": null,
      "metadata": {
        "colab": {
          "base_uri": "https://localhost:8080/"
        },
        "id": "tHzSdLrRPMsP",
        "outputId": "3d394abc-6186-4a3c-d7cf-990aa531ad8b"
      },
      "outputs": [
        {
          "output_type": "stream",
          "name": "stdout",
          "text": [
            " - Evaluating DL model\n",
            "\u001b[1m7/7\u001b[0m \u001b[32m━━━━━━━━━━━━━━━━━━━━\u001b[0m\u001b[37m\u001b[0m \u001b[1m10s\u001b[0m 672ms/step\n",
            "[0 0 0 0 0 0 0 0 0 0 0 0 0 0 0 0 0 0 0 0 0 0 0 0 0 0 0 0 0 0 0 0 0 0 0 0 0\n",
            " 0 0 0 0 0 0 0 0 0 0 0 0 0 0 0 0 0 0 0 0 0 0 0 0 0 0 0 0 0 0 0 0 0 0 0 0 0\n",
            " 0 0 0 0 0 0 0 0 0 0 0 0 0 0 0 0 0 0 0 0 0 0 0 0 0 0 0 0 0 0 0 0 0 0 0 0 0\n",
            " 0 0 0 0 0 0 0 0 0 0 0 0 0 0 0 0 0 0 0 0 0 0 0 0 0 0 0 0 0 0 0 0 0 0 0 0 0\n",
            " 0 0 0 0 0 0 0 0 0 0 0 0 0 0 0 0 0 0 0 0 0 0 0 0 0 0 0 0 0 0 0 0 0 0 0 0 0\n",
            " 0 0 0 0 0 0 0 0 0 0 0 0 0 0 0 0 0 0 0 0 0 0 0 0 0 0 0 0 0 0 0 0 0 0 0]\n"
          ]
        }
      ],
      "source": [
        "# ----------------------------\n",
        "# Evaluating predictions\n",
        "# ----------------------------\n",
        "print(\" - Evaluating DL model\")\n",
        "predictions = model.predict(X_test)\n",
        "\n",
        "if(MODEL == \"resnet\"):\n",
        "  rounded_predictions = np.argmax(predictions, axis=1)\n",
        "  y_test = np.argmax(y_test, axis=1)\n",
        "else:\n",
        "  rounded_predictions = np.round(predictions)\n",
        "\n",
        "print(rounded_predictions)"
      ]
    },
    {
      "cell_type": "code",
      "execution_count": null,
      "metadata": {
        "colab": {
          "base_uri": "https://localhost:8080/",
          "height": 466
        },
        "id": "8aihOe8uwv7k",
        "outputId": "376d04a7-3fed-46f4-b0f2-0de5d0c8ee87"
      },
      "outputs": [
        {
          "output_type": "execute_result",
          "data": {
            "text/plain": [
              "<sklearn.metrics._plot.confusion_matrix.ConfusionMatrixDisplay at 0x79478c576ad0>"
            ]
          },
          "metadata": {},
          "execution_count": 292
        },
        {
          "output_type": "display_data",
          "data": {
            "text/plain": [
              "<Figure size 640x480 with 2 Axes>"
            ],
            "image/png": "[encoded data removed]"
          },
          "metadata": {}
        }
      ],
      "source": [
        "cm = confusion_matrix(y_test, rounded_predictions)\n",
        "disp = ConfusionMatrixDisplay(confusion_matrix=cm)\n",
        "disp.plot()"
      ]
    },
    {
      "cell_type": "code",
      "execution_count": null,
      "metadata": {
        "colab": {
          "base_uri": "https://localhost:8080/",
          "height": 185
        },
        "id": "KXJz3hi3PQHA",
        "outputId": "39165324-c5cd-4b4f-df1e-f4afbc1c8106"
      },
      "outputs": [
        {
          "output_type": "stream",
          "name": "stdout",
          "text": [
            "----------------------------\n",
            "acc =  0.7681818181818182\n",
            "bac =  0.5\n",
            "f1c =  0.0\n",
            "----------------------------\n",
            "[0.7681818181818182, np.float64(0.5), 0.0, 51, 'rgb', 'resnet']\n"
          ]
        },
        {
          "output_type": "execute_result",
          "data": {
            "text/plain": [
              "   accuracy balanced_accuracy fscore seed type_of_image   model\n",
              "0  0.768182               0.5    0.0   51           rgb  resnet"
            ],
            "text/html": [
              "\n",
              "  <div id=\"df-da6c1381-b308-459d-aa13-9301f4453a9f\" class=\"colab-df-container\">\n",
              "    <div>\n",
              "<style scoped>\n",
              "    .dataframe tbody tr th:only-of-type {\n",
              "        vertical-align: middle;\n",
              "    }\n",
              "\n",
              "    .dataframe tbody tr th {\n",
              "        vertical-align: top;\n",
              "    }\n",
              "\n",
              "    .dataframe thead th {\n",
              "        text-align: right;\n",
              "    }\n",
              "</style>\n",
              "<table border=\"1\" class=\"dataframe\">\n",
              "  <thead>\n",
              "    <tr style=\"text-align: right;\">\n",
              "      <th></th>\n",
              "      <th>accuracy</th>\n",
              "      <th>balanced_accuracy</th>\n",
              "      <th>fscore</th>\n",
              "      <th>seed</th>\n",
              "      <th>type_of_image</th>\n",
              "      <th>model</th>\n",
              "    </tr>\n",
              "  </thead>\n",
              "  <tbody>\n",
              "    <tr>\n",
              "      <th>0</th>\n",
              "      <td>0.768182</td>\n",
              "      <td>0.5</td>\n",
              "      <td>0.0</td>\n",
              "      <td>51</td>\n",
              "      <td>rgb</td>\n",
              "      <td>resnet</td>\n",
              "    </tr>\n",
              "  </tbody>\n",
              "</table>\n",
              "</div>\n",
              "    <div class=\"colab-df-buttons\">\n",
              "\n",
              "  <div class=\"colab-df-container\">\n",
              "    <button class=\"colab-df-convert\" onclick=\"convertToInteractive('df-da6c1381-b308-459d-aa13-9301f4453a9f')\"\n",
              "            title=\"Convert this dataframe to an interactive table.\"\n",
              "            style=\"display:none;\">\n",
              "\n",
              "  <svg xmlns=\"http://www.w3.org/2000/svg\" height=\"24px\" viewBox=\"0 -960 960 960\">\n",
              "    <path d=\"M120-120v-720h720v720H120Zm60-500h600v-160H180v160Zm220 220h160v-160H400v160Zm0 220h160v-160H400v160ZM180-400h160v-160H180v160Zm440 0h160v-160H620v160ZM180-180h160v-160H180v160Zm440 0h160v-160H620v160Z\"/>\n",
              "  </svg>\n",
              "    </button>\n",
              "\n",
              "  <style>\n",
              "    .colab-df-container {\n",
              "      display:flex;\n",
              "      gap: 12px;\n",
              "    }\n",
              "\n",
              "    .colab-df-convert {\n",
              "      background-color: #E8F0FE;\n",
              "      border: none;\n",
              "      border-radius: 50%;\n",
              "      cursor: pointer;\n",
              "      display: none;\n",
              "      fill: #1967D2;\n",
              "      height: 32px;\n",
              "      padding: 0 0 0 0;\n",
              "      width: 32px;\n",
              "    }\n",
              "\n",
              "    .colab-df-convert:hover {\n",
              "      background-color: #E2EBFA;\n",
              "      box-shadow: 0px 1px 2px rgba(60, 64, 67, 0.3), 0px 1px 3px 1px rgba(60, 64, 67, 0.15);\n",
              "      fill: #174EA6;\n",
              "    }\n",
              "\n",
              "    .colab-df-buttons div {\n",
              "      margin-bottom: 4px;\n",
              "    }\n",
              "\n",
              "    [theme=dark] .colab-df-convert {\n",
              "      background-color: #3B4455;\n",
              "      fill: #D2E3FC;\n",
              "    }\n",
              "\n",
              "    [theme=dark] .colab-df-convert:hover {\n",
              "      background-color: #434B5C;\n",
              "      box-shadow: 0px 1px 3px 1px rgba(0, 0, 0, 0.15);\n",
              "      filter: drop-shadow(0px 1px 2px rgba(0, 0, 0, 0.3));\n",
              "      fill: #FFFFFF;\n",
              "    }\n",
              "  </style>\n",
              "\n",
              "    <script>\n",
              "      const buttonEl =\n",
              "        document.querySelector('#df-da6c1381-b308-459d-aa13-9301f4453a9f button.colab-df-convert');\n",
              "      buttonEl.style.display =\n",
              "        google.colab.kernel.accessAllowed ? 'block' : 'none';\n",
              "\n",
              "      async function convertToInteractive(key) {\n",
              "        const element = document.querySelector('#df-da6c1381-b308-459d-aa13-9301f4453a9f');\n",
              "        const dataTable =\n",
              "          await google.colab.kernel.invokeFunction('convertToInteractive',\n",
              "                                                    [key], {});\n",
              "        if (!dataTable) return;\n",
              "\n",
              "        const docLinkHtml = 'Like what you see? Visit the ' +\n",
              "          '<a target=\"_blank\" href=https://colab.research.google.com/notebooks/data_table.ipynb>data table notebook</a>'\n",
              "          + ' to learn more about interactive tables.';\n",
              "        element.innerHTML = '';\n",
              "        dataTable['output_type'] = 'display_data';\n",
              "        await google.colab.output.renderOutput(dataTable, element);\n",
              "        const docLink = document.createElement('div');\n",
              "        docLink.innerHTML = docLinkHtml;\n",
              "        element.appendChild(docLink);\n",
              "      }\n",
              "    </script>\n",
              "  </div>\n",
              "\n",
              "\n",
              "    </div>\n",
              "  </div>\n"
            ],
            "application/vnd.google.colaboratory.intrinsic+json": {
              "type": "dataframe",
              "variable_name": "df_performances",
              "summary": "{\n  \"name\": \"df_performances\",\n  \"rows\": 1,\n  \"fields\": [\n    {\n      \"column\": \"accuracy\",\n      \"properties\": {\n        \"dtype\": \"date\",\n        \"min\": 0.7681818181818182,\n        \"max\": 0.7681818181818182,\n        \"num_unique_values\": 1,\n        \"samples\": [\n          0.7681818181818182\n        ],\n        \"semantic_type\": \"\",\n        \"description\": \"\"\n      }\n    },\n    {\n      \"column\": \"balanced_accuracy\",\n      \"properties\": {\n        \"dtype\": \"date\",\n        \"min\": 0.5,\n        \"max\": 0.5,\n        \"num_unique_values\": 1,\n        \"samples\": [\n          0.5\n        ],\n        \"semantic_type\": \"\",\n        \"description\": \"\"\n      }\n    },\n    {\n      \"column\": \"fscore\",\n      \"properties\": {\n        \"dtype\": \"date\",\n        \"min\": 0.0,\n        \"max\": 0.0,\n        \"num_unique_values\": 1,\n        \"samples\": [\n          0.0\n        ],\n        \"semantic_type\": \"\",\n        \"description\": \"\"\n      }\n    },\n    {\n      \"column\": \"seed\",\n      \"properties\": {\n        \"dtype\": \"date\",\n        \"min\": 51,\n        \"max\": 51,\n        \"num_unique_values\": 1,\n        \"samples\": [\n          51\n        ],\n        \"semantic_type\": \"\",\n        \"description\": \"\"\n      }\n    },\n    {\n      \"column\": \"type_of_image\",\n      \"properties\": {\n        \"dtype\": \"string\",\n        \"num_unique_values\": 1,\n        \"samples\": [\n          \"rgb\"\n        ],\n        \"semantic_type\": \"\",\n        \"description\": \"\"\n      }\n    },\n    {\n      \"column\": \"model\",\n      \"properties\": {\n        \"dtype\": \"string\",\n        \"num_unique_values\": 1,\n        \"samples\": [\n          \"resnet\"\n        ],\n        \"semantic_type\": \"\",\n        \"description\": \"\"\n      }\n    }\n  ]\n}"
            }
          },
          "metadata": {},
          "execution_count": 293
        }
      ],
      "source": [
        "# ----------------------------\n",
        "# evaluating with scikit learn metrics\n",
        "# ----------------------------\n",
        "acc = accuracy_score(y_test, rounded_predictions)\n",
        "bac = balanced_accuracy_score(y_test, rounded_predictions)\n",
        "f1s = f1_score(y_test, rounded_predictions)\n",
        "print(\"----------------------------\")\n",
        "print(\"acc = \", acc)\n",
        "print(\"bac = \", bac)\n",
        "print(\"f1c = \", f1s)\n",
        "print(\"----------------------------\")\n",
        "\n",
        "performances = ([acc, bac, f1s, current_seed, TYPE_OF_IMAGE, MODEL])\n",
        "print(performances)\n",
        "df_performances = pd.DataFrame(performances).transpose()\n",
        "df_performances.columns = ['accuracy', 'balanced_accuracy', 'fscore', 'seed', 'type_of_image', 'model']\n",
        "df_performances.to_csv(f\"performances_{MODEL}_{TYPE_OF_IMAGE}_seed_{current_seed}.csv\", index = False)\n",
        "df_performances.head()"
      ]
    },
    {
      "cell_type": "code",
      "execution_count": null,
      "metadata": {
        "colab": {
          "base_uri": "https://localhost:8080/",
          "height": 206
        },
        "id": "L7hp4RV34STs",
        "outputId": "64657027-fc03-414a-b8d4-2c3c215c8a46"
      },
      "outputs": [
        {
          "output_type": "execute_result",
          "data": {
            "text/plain": [
              "                                            filepath  predictions  labels\n",
              "0  /content/thermalImagesClassification/data/saud...            0       0\n",
              "1  /content/thermalImagesClassification/data/saud...            0       0\n",
              "2  /content/thermalImagesClassification/data/saud...            0       0\n",
              "3  /content/thermalImagesClassification/data/saud...            0       0\n",
              "4  /content/thermalImagesClassification/data/diag...            0       1"
            ],
            "text/html": [
              "\n",
              "  <div id=\"df-c693ec3b-3315-4758-aa7e-88f571855a0d\" class=\"colab-df-container\">\n",
              "    <div>\n",
              "<style scoped>\n",
              "    .dataframe tbody tr th:only-of-type {\n",
              "        vertical-align: middle;\n",
              "    }\n",
              "\n",
              "    .dataframe tbody tr th {\n",
              "        vertical-align: top;\n",
              "    }\n",
              "\n",
              "    .dataframe thead th {\n",
              "        text-align: right;\n",
              "    }\n",
              "</style>\n",
              "<table border=\"1\" class=\"dataframe\">\n",
              "  <thead>\n",
              "    <tr style=\"text-align: right;\">\n",
              "      <th></th>\n",
              "      <th>filepath</th>\n",
              "      <th>predictions</th>\n",
              "      <th>labels</th>\n",
              "    </tr>\n",
              "  </thead>\n",
              "  <tbody>\n",
              "    <tr>\n",
              "      <th>0</th>\n",
              "      <td>/content/thermalImagesClassification/data/saud...</td>\n",
              "      <td>0</td>\n",
              "      <td>0</td>\n",
              "    </tr>\n",
              "    <tr>\n",
              "      <th>1</th>\n",
              "      <td>/content/thermalImagesClassification/data/saud...</td>\n",
              "      <td>0</td>\n",
              "      <td>0</td>\n",
              "    </tr>\n",
              "    <tr>\n",
              "      <th>2</th>\n",
              "      <td>/content/thermalImagesClassification/data/saud...</td>\n",
              "      <td>0</td>\n",
              "      <td>0</td>\n",
              "    </tr>\n",
              "    <tr>\n",
              "      <th>3</th>\n",
              "      <td>/content/thermalImagesClassification/data/saud...</td>\n",
              "      <td>0</td>\n",
              "      <td>0</td>\n",
              "    </tr>\n",
              "    <tr>\n",
              "      <th>4</th>\n",
              "      <td>/content/thermalImagesClassification/data/diag...</td>\n",
              "      <td>0</td>\n",
              "      <td>1</td>\n",
              "    </tr>\n",
              "  </tbody>\n",
              "</table>\n",
              "</div>\n",
              "    <div class=\"colab-df-buttons\">\n",
              "\n",
              "  <div class=\"colab-df-container\">\n",
              "    <button class=\"colab-df-convert\" onclick=\"convertToInteractive('df-c693ec3b-3315-4758-aa7e-88f571855a0d')\"\n",
              "            title=\"Convert this dataframe to an interactive table.\"\n",
              "            style=\"display:none;\">\n",
              "\n",
              "  <svg xmlns=\"http://www.w3.org/2000/svg\" height=\"24px\" viewBox=\"0 -960 960 960\">\n",
              "    <path d=\"M120-120v-720h720v720H120Zm60-500h600v-160H180v160Zm220 220h160v-160H400v160Zm0 220h160v-160H400v160ZM180-400h160v-160H180v160Zm440 0h160v-160H620v160ZM180-180h160v-160H180v160Zm440 0h160v-160H620v160Z\"/>\n",
              "  </svg>\n",
              "    </button>\n",
              "\n",
              "  <style>\n",
              "    .colab-df-container {\n",
              "      display:flex;\n",
              "      gap: 12px;\n",
              "    }\n",
              "\n",
              "    .colab-df-convert {\n",
              "      background-color: #E8F0FE;\n",
              "      border: none;\n",
              "      border-radius: 50%;\n",
              "      cursor: pointer;\n",
              "      display: none;\n",
              "      fill: #1967D2;\n",
              "      height: 32px;\n",
              "      padding: 0 0 0 0;\n",
              "      width: 32px;\n",
              "    }\n",
              "\n",
              "    .colab-df-convert:hover {\n",
              "      background-color: #E2EBFA;\n",
              "      box-shadow: 0px 1px 2px rgba(60, 64, 67, 0.3), 0px 1px 3px 1px rgba(60, 64, 67, 0.15);\n",
              "      fill: #174EA6;\n",
              "    }\n",
              "\n",
              "    .colab-df-buttons div {\n",
              "      margin-bottom: 4px;\n",
              "    }\n",
              "\n",
              "    [theme=dark] .colab-df-convert {\n",
              "      background-color: #3B4455;\n",
              "      fill: #D2E3FC;\n",
              "    }\n",
              "\n",
              "    [theme=dark] .colab-df-convert:hover {\n",
              "      background-color: #434B5C;\n",
              "      box-shadow: 0px 1px 3px 1px rgba(0, 0, 0, 0.15);\n",
              "      filter: drop-shadow(0px 1px 2px rgba(0, 0, 0, 0.3));\n",
              "      fill: #FFFFFF;\n",
              "    }\n",
              "  </style>\n",
              "\n",
              "    <script>\n",
              "      const buttonEl =\n",
              "        document.querySelector('#df-c693ec3b-3315-4758-aa7e-88f571855a0d button.colab-df-convert');\n",
              "      buttonEl.style.display =\n",
              "        google.colab.kernel.accessAllowed ? 'block' : 'none';\n",
              "\n",
              "      async function convertToInteractive(key) {\n",
              "        const element = document.querySelector('#df-c693ec3b-3315-4758-aa7e-88f571855a0d');\n",
              "        const dataTable =\n",
              "          await google.colab.kernel.invokeFunction('convertToInteractive',\n",
              "                                                    [key], {});\n",
              "        if (!dataTable) return;\n",
              "\n",
              "        const docLinkHtml = 'Like what you see? Visit the ' +\n",
              "          '<a target=\"_blank\" href=https://colab.research.google.com/notebooks/data_table.ipynb>data table notebook</a>'\n",
              "          + ' to learn more about interactive tables.';\n",
              "        element.innerHTML = '';\n",
              "        dataTable['output_type'] = 'display_data';\n",
              "        await google.colab.output.renderOutput(dataTable, element);\n",
              "        const docLink = document.createElement('div');\n",
              "        docLink.innerHTML = docLinkHtml;\n",
              "        element.appendChild(docLink);\n",
              "      }\n",
              "    </script>\n",
              "  </div>\n",
              "\n",
              "\n",
              "<div id=\"df-bf5801f7-7342-4b2d-98c8-1356db7208e5\">\n",
              "  <button class=\"colab-df-quickchart\" onclick=\"quickchart('df-bf5801f7-7342-4b2d-98c8-1356db7208e5')\"\n",
              "            title=\"Suggest charts\"\n",
              "            style=\"display:none;\">\n",
              "\n",
              "<svg xmlns=\"http://www.w3.org/2000/svg\" height=\"24px\"viewBox=\"0 0 24 24\"\n",
              "     width=\"24px\">\n",
              "    <g>\n",
              "        <path d=\"M19 3H5c-1.1 0-2 .9-2 2v14c0 1.1.9 2 2 2h14c1.1 0 2-.9 2-2V5c0-1.1-.9-2-2-2zM9 17H7v-7h2v7zm4 0h-2V7h2v10zm4 0h-2v-4h2v4z\"/>\n",
              "    </g>\n",
              "</svg>\n",
              "  </button>\n",
              "\n",
              "<style>\n",
              "  .colab-df-quickchart {\n",
              "      --bg-color: #E8F0FE;\n",
              "      --fill-color: #1967D2;\n",
              "      --hover-bg-color: #E2EBFA;\n",
              "      --hover-fill-color: #174EA6;\n",
              "      --disabled-fill-color: #AAA;\n",
              "      --disabled-bg-color: #DDD;\n",
              "  }\n",
              "\n",
              "  [theme=dark] .colab-df-quickchart {\n",
              "      --bg-color: #3B4455;\n",
              "      --fill-color: #D2E3FC;\n",
              "      --hover-bg-color: #434B5C;\n",
              "      --hover-fill-color: #FFFFFF;\n",
              "      --disabled-bg-color: #3B4455;\n",
              "      --disabled-fill-color: #666;\n",
              "  }\n",
              "\n",
              "  .colab-df-quickchart {\n",
              "    background-color: var(--bg-color);\n",
              "    border: none;\n",
              "    border-radius: 50%;\n",
              "    cursor: pointer;\n",
              "    display: none;\n",
              "    fill: var(--fill-color);\n",
              "    height: 32px;\n",
              "    padding: 0;\n",
              "    width: 32px;\n",
              "  }\n",
              "\n",
              "  .colab-df-quickchart:hover {\n",
              "    background-color: var(--hover-bg-color);\n",
              "    box-shadow: 0 1px 2px rgba(60, 64, 67, 0.3), 0 1px 3px 1px rgba(60, 64, 67, 0.15);\n",
              "    fill: var(--button-hover-fill-color);\n",
              "  }\n",
              "\n",
              "  .colab-df-quickchart-complete:disabled,\n",
              "  .colab-df-quickchart-complete:disabled:hover {\n",
              "    background-color: var(--disabled-bg-color);\n",
              "    fill: var(--disabled-fill-color);\n",
              "    box-shadow: none;\n",
              "  }\n",
              "\n",
              "  .colab-df-spinner {\n",
              "    border: 2px solid var(--fill-color);\n",
              "    border-color: transparent;\n",
              "    border-bottom-color: var(--fill-color);\n",
              "    animation:\n",
              "      spin 1s steps(1) infinite;\n",
              "  }\n",
              "\n",
              "  @keyframes spin {\n",
              "    0% {\n",
              "      border-color: transparent;\n",
              "      border-bottom-color: var(--fill-color);\n",
              "      border-left-color: var(--fill-color);\n",
              "    }\n",
              "    20% {\n",
              "      border-color: transparent;\n",
              "      border-left-color: var(--fill-color);\n",
              "      border-top-color: var(--fill-color);\n",
              "    }\n",
              "    30% {\n",
              "      border-color: transparent;\n",
              "      border-left-color: var(--fill-color);\n",
              "      border-top-color: var(--fill-color);\n",
              "      border-right-color: var(--fill-color);\n",
              "    }\n",
              "    40% {\n",
              "      border-color: transparent;\n",
              "      border-right-color: var(--fill-color);\n",
              "      border-top-color: var(--fill-color);\n",
              "    }\n",
              "    60% {\n",
              "      border-color: transparent;\n",
              "      border-right-color: var(--fill-color);\n",
              "    }\n",
              "    80% {\n",
              "      border-color: transparent;\n",
              "      border-right-color: var(--fill-color);\n",
              "      border-bottom-color: var(--fill-color);\n",
              "    }\n",
              "    90% {\n",
              "      border-color: transparent;\n",
              "      border-bottom-color: var(--fill-color);\n",
              "    }\n",
              "  }\n",
              "</style>\n",
              "\n",
              "  <script>\n",
              "    async function quickchart(key) {\n",
              "      const quickchartButtonEl =\n",
              "        document.querySelector('#' + key + ' button');\n",
              "      quickchartButtonEl.disabled = true;  // To prevent multiple clicks.\n",
              "      quickchartButtonEl.classList.add('colab-df-spinner');\n",
              "      try {\n",
              "        const charts = await google.colab.kernel.invokeFunction(\n",
              "            'suggestCharts', [key], {});\n",
              "      } catch (error) {\n",
              "        console.error('Error during call to suggestCharts:', error);\n",
              "      }\n",
              "      quickchartButtonEl.classList.remove('colab-df-spinner');\n",
              "      quickchartButtonEl.classList.add('colab-df-quickchart-complete');\n",
              "    }\n",
              "    (() => {\n",
              "      let quickchartButtonEl =\n",
              "        document.querySelector('#df-bf5801f7-7342-4b2d-98c8-1356db7208e5 button');\n",
              "      quickchartButtonEl.style.display =\n",
              "        google.colab.kernel.accessAllowed ? 'block' : 'none';\n",
              "    })();\n",
              "  </script>\n",
              "</div>\n",
              "\n",
              "    </div>\n",
              "  </div>\n"
            ],
            "application/vnd.google.colaboratory.intrinsic+json": {
              "type": "dataframe",
              "summary": "{\n  \"name\": \"# -----------------------------------------------------------\",\n  \"rows\": 5,\n  \"fields\": [\n    {\n      \"column\": \"filepath\",\n      \"properties\": {\n        \"dtype\": \"string\",\n        \"num_unique_values\": 5,\n        \"samples\": [\n          \"/content/thermalImagesClassification/data/saudaveis/tibia_em_pe/Em_pe_81.csv\",\n          \"/content/thermalImagesClassification/data/diagnosticos/fraturas_osseas/fratura_de_tibia_fibula_ilizarov/pessoa05/pessoa05_avaliacao02.csv\",\n          \"/content/thermalImagesClassification/data/saudaveis/tibia_deitado/Deitado_225.csv\"\n        ],\n        \"semantic_type\": \"\",\n        \"description\": \"\"\n      }\n    },\n    {\n      \"column\": \"predictions\",\n      \"properties\": {\n        \"dtype\": \"number\",\n        \"std\": 0,\n        \"min\": 0,\n        \"max\": 0,\n        \"num_unique_values\": 1,\n        \"samples\": [\n          0\n        ],\n        \"semantic_type\": \"\",\n        \"description\": \"\"\n      }\n    },\n    {\n      \"column\": \"labels\",\n      \"properties\": {\n        \"dtype\": \"number\",\n        \"std\": 0,\n        \"min\": 0,\n        \"max\": 1,\n        \"num_unique_values\": 2,\n        \"samples\": [\n          1\n        ],\n        \"semantic_type\": \"\",\n        \"description\": \"\"\n      }\n    }\n  ]\n}"
            }
          },
          "metadata": {},
          "execution_count": 294
        }
      ],
      "source": [
        "# -----------------------------------------------------------\n",
        "# adding predictions to a data frame\n",
        "# -----------------------------------------------------------\n",
        "\n",
        "df_x_test_files = pd.DataFrame(x_test_files)\n",
        "df_pred  = pd.DataFrame(rounded_predictions)\n",
        "df_label = pd.DataFrame(y_test)\n",
        "df_merged = pd.concat([df_x_test_files, df_pred, df_label], axis = 1)\n",
        "df_merged.columns = ['filepath', 'predictions', 'labels']\n",
        "df_merged.to_csv(f\"predictions_{MODEL}_{TYPE_OF_IMAGE}_seed_{current_seed}.csv\", index = False)\n",
        "df_merged.head()\n",
        "\n",
        "# -----------------------------------------------------------\n",
        "# -----------------------------------------------------------"
      ]
    },
    {
      "cell_type": "code",
      "execution_count": null,
      "metadata": {
        "colab": {
          "base_uri": "https://localhost:8080/"
        },
        "id": "hfLrwQXHObmn",
        "outputId": "87cf59fd-b21c-47b1-8bc0-484a93e1fde6"
      },
      "outputs": [
        {
          "output_type": "stream",
          "name": "stdout",
          "text": [
            "Finished !!! :) \n"
          ]
        }
      ],
      "source": [
        "print(\"Finished !!! :) \")"
      ]
    }
  ],
  "metadata": {
    "accelerator": "GPU",
    "colab": {
      "gpuType": "T4",
      "provenance": []
    },
    "kernelspec": {
      "display_name": "Python 3",
      "name": "python3"
    },
    "language_info": {
      "name": "python"
    }
  },
  "nbformat": 4,
  "nbformat_minor": 0
}